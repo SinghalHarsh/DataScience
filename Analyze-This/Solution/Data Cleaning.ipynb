{
 "cells": [
  {
   "cell_type": "code",
   "execution_count": 51,
   "metadata": {
    "collapsed": false
   },
   "outputs": [],
   "source": [
    "data_combined=read.csv(\"data.combined.csv\")\n",
    "train=read.csv(\"train.csv\")"
   ]
  },
  {
   "cell_type": "code",
   "execution_count": null,
   "metadata": {
    "collapsed": true
   },
   "outputs": [],
   "source": []
  },
  {
   "cell_type": "code",
   "execution_count": 52,
   "metadata": {
    "collapsed": false
   },
   "outputs": [
    {
     "data": {
      "text/html": [
       "<table>\n",
       "<thead><tr><th></th><th scope=col>Donations_Ebony</th><th scope=col>Donations_Tokuyawa</th><th scope=col>Donations_Odyssey</th></tr></thead>\n",
       "<tbody>\n",
       "\t<tr><th scope=row>1</th><td> 0</td><td>18</td><td> 0</td></tr>\n",
       "\t<tr><th scope=row>2</th><td>6</td><td>0</td><td>2</td></tr>\n",
       "\t<tr><th scope=row>3</th><td>0</td><td>0</td><td>0</td></tr>\n",
       "\t<tr><th scope=row>4</th><td>0</td><td>0</td><td>0</td></tr>\n",
       "\t<tr><th scope=row>5</th><td>2</td><td>3</td><td>0</td></tr>\n",
       "\t<tr><th scope=row>6</th><td>3</td><td>8</td><td>0</td></tr>\n",
       "</tbody>\n",
       "</table>\n"
      ],
      "text/latex": [
       "\\begin{tabular}{r|lll}\n",
       "  & Donations\\_Ebony & Donations\\_Tokuyawa & Donations\\_Odyssey\\\\\n",
       "\\hline\n",
       "\t1 &  0 & 18 &  0\\\\\n",
       "\t2 & 6 & 0 & 2\\\\\n",
       "\t3 & 0 & 0 & 0\\\\\n",
       "\t4 & 0 & 0 & 0\\\\\n",
       "\t5 & 2 & 3 & 0\\\\\n",
       "\t6 & 3 & 8 & 0\\\\\n",
       "\\end{tabular}\n"
      ],
      "text/plain": [
       "  Donations_Ebony Donations_Tokuyawa Donations_Odyssey\n",
       "1               0                 18                 0\n",
       "2               6                  0                 2\n",
       "3               0                  0                 0\n",
       "4               0                  0                 0\n",
       "5               2                  3                 0\n",
       "6               3                  8                 0"
      ]
     },
     "metadata": {},
     "output_type": "display_data"
    }
   ],
   "source": [
    "head(data_combined[,c(2:4)+c(2)])"
   ]
  },
  {
   "cell_type": "code",
   "execution_count": 53,
   "metadata": {
    "collapsed": false
   },
   "outputs": [],
   "source": [
    "data_combined$newspapers=as.factor(data_combined$newspapers)\n",
    "data_combined$Home=as.factor(data_combined$Home)\n",
    "data_combined$Married=as.factor(data_combined$Married)\n",
    "data_combined$Household_size=as.factor(data_combined$Household_size)"
   ]
  },
  {
   "cell_type": "code",
   "execution_count": 54,
   "metadata": {
    "collapsed": true
   },
   "outputs": [],
   "source": [
    "#"
   ]
  },
  {
   "cell_type": "code",
   "execution_count": 55,
   "metadata": {
    "collapsed": false
   },
   "outputs": [
    {
     "data": {
      "text/plain": [
       "\n",
       "    1     2     3     4     5     6     7     8 \n",
       "22693  4995 30154 23348   112    24     7     3 "
      ]
     },
     "metadata": {},
     "output_type": "display_data"
    }
   ],
   "source": [
    "table(data_combined$Household_size)"
   ]
  },
  {
   "cell_type": "code",
   "execution_count": 56,
   "metadata": {
    "collapsed": false
   },
   "outputs": [],
   "source": [
    "#Combining 4,5,6,7 & 8\n",
    "data_combined$Household_size[data_combined$Household_size ==5]=4\n",
    "data_combined$Household_size[data_combined$Household_size ==6]=4\n",
    "data_combined$Household_size[data_combined$Household_size ==7]=4\n",
    "data_combined$Household_size[data_combined$Household_size ==8]=4"
   ]
  },
  {
   "cell_type": "code",
   "execution_count": 57,
   "metadata": {
    "collapsed": false
   },
   "outputs": [
    {
     "data": {
      "text/plain": [
       "\n",
       "    1     2     3     4     5     6     7     8 \n",
       "22693  4995 30154 23494     0     0     0     0 "
      ]
     },
     "metadata": {},
     "output_type": "display_data"
    }
   ],
   "source": [
    "table(data_combined$Household_size)"
   ]
  },
  {
   "cell_type": "code",
   "execution_count": 58,
   "metadata": {
    "collapsed": true
   },
   "outputs": [],
   "source": [
    "#"
   ]
  },
  {
   "cell_type": "code",
   "execution_count": 59,
   "metadata": {
    "collapsed": false
   },
   "outputs": [],
   "source": [
    "#Married - Filling NA values with 1\n",
    "data_combined$Married[data_combined$Married == -1]=1\n",
    "\n",
    "#Home Indicator - Filling NA with 0\n",
    "data_combined$Home[data_combined$Home == -1]=0\n",
    "\n",
    "#Home Indic\n",
    "data_combined$education[data_combined$education == '']= \"Masters\""
   ]
  },
  {
   "cell_type": "code",
   "execution_count": 60,
   "metadata": {
    "collapsed": false
   },
   "outputs": [
    {
     "data": {
      "text/plain": [
       "\n",
       "         Degree Diploma Masters Primary \n",
       "      0   25147   14900   32480    8809 "
      ]
     },
     "metadata": {},
     "output_type": "display_data"
    }
   ],
   "source": [
    "table(data_combined$education)"
   ]
  },
  {
   "cell_type": "code",
   "execution_count": 61,
   "metadata": {
    "collapsed": true
   },
   "outputs": [],
   "source": [
    "#"
   ]
  },
  {
   "cell_type": "code",
   "execution_count": null,
   "metadata": {
    "collapsed": true
   },
   "outputs": [],
   "source": []
  },
  {
   "cell_type": "code",
   "execution_count": 62,
   "metadata": {
    "collapsed": false
   },
   "outputs": [
    {
     "data": {
      "text/plain": [
       "\n",
       "    0     1     2     3     4     5     6     7     8     9    10    11 \n",
       " 1564    51   337   926  3209  9141 19357 23869 15939  5788  1066    89 "
      ]
     },
     "metadata": {},
     "output_type": "display_data"
    }
   ],
   "source": [
    "table(data_combined$newspapers)"
   ]
  },
  {
   "cell_type": "code",
   "execution_count": 63,
   "metadata": {
    "collapsed": false
   },
   "outputs": [],
   "source": [
    "#Combining 1,2,3\n",
    "data_combined$newspapers[data_combined$newspapers ==1]=1\n",
    "data_combined$newspapers[data_combined$newspapers ==2]=1\n",
    "data_combined$newspapers[data_combined$newspapers ==3]=1\n",
    "\n",
    "#Combining 10,11\n",
    "data_combined$newspapers[data_combined$newspapers ==11]=10"
   ]
  },
  {
   "cell_type": "code",
   "execution_count": 64,
   "metadata": {
    "collapsed": false
   },
   "outputs": [
    {
     "data": {
      "text/plain": [
       "\n",
       "    0     1     2     3     4     5     6     7     8     9    10    11 \n",
       " 1564  1314     0     0  3209  9141 19357 23869 15939  5788  1155     0 "
      ]
     },
     "metadata": {},
     "output_type": "display_data"
    }
   ],
   "source": [
    "table(data_combined$newspapers)"
   ]
  },
  {
   "cell_type": "code",
   "execution_count": 65,
   "metadata": {
    "collapsed": true
   },
   "outputs": [],
   "source": [
    "#"
   ]
  },
  {
   "cell_type": "code",
   "execution_count": null,
   "metadata": {
    "collapsed": true
   },
   "outputs": [],
   "source": []
  },
  {
   "cell_type": "code",
   "execution_count": 66,
   "metadata": {
    "collapsed": false
   },
   "outputs": [],
   "source": [
    "# #Spliting Region\n",
    "# data_combined$Previous_Region_1=substr(data_combined$previous_region,1,2)\n",
    "# data_combined$Previous_Region_2=substr(data_combined$previous_region,3,3)\n",
    "\n",
    "# data_combined$Current_Region_1=substr(data_combined$current_region,1,2)\n",
    "# data_combined$Current_Region_2=substr(data_combined$current_region,3,3)\n",
    "\n",
    "\n",
    "# data_combined$Previous_Region_1=as.factor(data_combined$Previous_Region_1)\n",
    "# data_combined$Previous_Region_2=as.factor(data_combined$Previous_Region_2)\n",
    "\n",
    "# data_combined$Current_Region_1=as.factor(data_combined$Current_Region_1)\n",
    "# data_combined$Current_Region_2=as.factor(data_combined$Current_Region_2)"
   ]
  },
  {
   "cell_type": "code",
   "execution_count": 67,
   "metadata": {
    "collapsed": false
   },
   "outputs": [
    {
     "data": {
      "text/html": [
       "<ol class=list-inline>\n",
       "\t<li>\"Citizen_id\"</li>\n",
       "\t<li>\"party_voted_past\"</li>\n",
       "\t<li>\"Donations_Centaur\"</li>\n",
       "\t<li>\"Donations_Ebony\"</li>\n",
       "\t<li>\"Donations_Tokuyawa\"</li>\n",
       "\t<li>\"Donations_Odyssey\"</li>\n",
       "\t<li>\"Donations_Cosmos\"</li>\n",
       "\t<li>\"Centaur_rallies_indi\"</li>\n",
       "\t<li>\"Ebony_rallies_indi\"</li>\n",
       "\t<li>\"Tokuyawa_rallies_indi\"</li>\n",
       "\t<li>\"Odyssey_rallies_indi\"</li>\n",
       "\t<li>\"Cosmos_rallies_indi\"</li>\n",
       "\t<li>\"Centaur_rallies_gr\"</li>\n",
       "\t<li>\"Ebony_rallies_gr\"</li>\n",
       "\t<li>\"Tokuyawa_rallies_gr\"</li>\n",
       "\t<li>\"Odyssey_rallies_gr\"</li>\n",
       "\t<li>\"Cosmos_rallies_gr\"</li>\n",
       "\t<li>\"fund_raisers_Centaur\"</li>\n",
       "\t<li>\"fund_raisers_Ebony\"</li>\n",
       "\t<li>\"fund_raisers_Tokuyawa\"</li>\n",
       "\t<li>\"fund_raisers_Odyssey\"</li>\n",
       "\t<li>\"fund_raisers_Cosmos\"</li>\n",
       "\t<li>\"volunteered_Centaur\"</li>\n",
       "\t<li>\"volunteered_Ebony\"</li>\n",
       "\t<li>\"volunteered_Tokuyawa\"</li>\n",
       "\t<li>\"volunteered_Odyssey\"</li>\n",
       "\t<li>\"volunteered_Cosmos\"</li>\n",
       "\t<li>\"Household_size\"</li>\n",
       "\t<li>\"Age\"</li>\n",
       "\t<li>\"Married\"</li>\n",
       "\t<li>\"Home\"</li>\n",
       "\t<li>\"education\"</li>\n",
       "\t<li>\"newspapers\"</li>\n",
       "\t<li>\"previous_region\"</li>\n",
       "\t<li>\"current_region\"</li>\n",
       "\t<li>\"actual_vote\"</li>\n",
       "</ol>\n"
      ],
      "text/latex": [
       "\\begin{enumerate*}\n",
       "\\item \"Citizen\\_id\"\n",
       "\\item \"party\\_voted\\_past\"\n",
       "\\item \"Donations\\_Centaur\"\n",
       "\\item \"Donations\\_Ebony\"\n",
       "\\item \"Donations\\_Tokuyawa\"\n",
       "\\item \"Donations\\_Odyssey\"\n",
       "\\item \"Donations\\_Cosmos\"\n",
       "\\item \"Centaur\\_rallies\\_indi\"\n",
       "\\item \"Ebony\\_rallies\\_indi\"\n",
       "\\item \"Tokuyawa\\_rallies\\_indi\"\n",
       "\\item \"Odyssey\\_rallies\\_indi\"\n",
       "\\item \"Cosmos\\_rallies\\_indi\"\n",
       "\\item \"Centaur\\_rallies\\_gr\"\n",
       "\\item \"Ebony\\_rallies\\_gr\"\n",
       "\\item \"Tokuyawa\\_rallies\\_gr\"\n",
       "\\item \"Odyssey\\_rallies\\_gr\"\n",
       "\\item \"Cosmos\\_rallies\\_gr\"\n",
       "\\item \"fund\\_raisers\\_Centaur\"\n",
       "\\item \"fund\\_raisers\\_Ebony\"\n",
       "\\item \"fund\\_raisers\\_Tokuyawa\"\n",
       "\\item \"fund\\_raisers\\_Odyssey\"\n",
       "\\item \"fund\\_raisers\\_Cosmos\"\n",
       "\\item \"volunteered\\_Centaur\"\n",
       "\\item \"volunteered\\_Ebony\"\n",
       "\\item \"volunteered\\_Tokuyawa\"\n",
       "\\item \"volunteered\\_Odyssey\"\n",
       "\\item \"volunteered\\_Cosmos\"\n",
       "\\item \"Household\\_size\"\n",
       "\\item \"Age\"\n",
       "\\item \"Married\"\n",
       "\\item \"Home\"\n",
       "\\item \"education\"\n",
       "\\item \"newspapers\"\n",
       "\\item \"previous\\_region\"\n",
       "\\item \"current\\_region\"\n",
       "\\item \"actual\\_vote\"\n",
       "\\end{enumerate*}\n"
      ],
      "text/markdown": [
       "1. \"Citizen_id\"\n",
       "2. \"party_voted_past\"\n",
       "3. \"Donations_Centaur\"\n",
       "4. \"Donations_Ebony\"\n",
       "5. \"Donations_Tokuyawa\"\n",
       "6. \"Donations_Odyssey\"\n",
       "7. \"Donations_Cosmos\"\n",
       "8. \"Centaur_rallies_indi\"\n",
       "9. \"Ebony_rallies_indi\"\n",
       "10. \"Tokuyawa_rallies_indi\"\n",
       "11. \"Odyssey_rallies_indi\"\n",
       "12. \"Cosmos_rallies_indi\"\n",
       "13. \"Centaur_rallies_gr\"\n",
       "14. \"Ebony_rallies_gr\"\n",
       "15. \"Tokuyawa_rallies_gr\"\n",
       "16. \"Odyssey_rallies_gr\"\n",
       "17. \"Cosmos_rallies_gr\"\n",
       "18. \"fund_raisers_Centaur\"\n",
       "19. \"fund_raisers_Ebony\"\n",
       "20. \"fund_raisers_Tokuyawa\"\n",
       "21. \"fund_raisers_Odyssey\"\n",
       "22. \"fund_raisers_Cosmos\"\n",
       "23. \"volunteered_Centaur\"\n",
       "24. \"volunteered_Ebony\"\n",
       "25. \"volunteered_Tokuyawa\"\n",
       "26. \"volunteered_Odyssey\"\n",
       "27. \"volunteered_Cosmos\"\n",
       "28. \"Household_size\"\n",
       "29. \"Age\"\n",
       "30. \"Married\"\n",
       "31. \"Home\"\n",
       "32. \"education\"\n",
       "33. \"newspapers\"\n",
       "34. \"previous_region\"\n",
       "35. \"current_region\"\n",
       "36. \"actual_vote\"\n",
       "\n",
       "\n"
      ],
      "text/plain": [
       " [1] \"Citizen_id\"            \"party_voted_past\"      \"Donations_Centaur\"    \n",
       " [4] \"Donations_Ebony\"       \"Donations_Tokuyawa\"    \"Donations_Odyssey\"    \n",
       " [7] \"Donations_Cosmos\"      \"Centaur_rallies_indi\"  \"Ebony_rallies_indi\"   \n",
       "[10] \"Tokuyawa_rallies_indi\" \"Odyssey_rallies_indi\"  \"Cosmos_rallies_indi\"  \n",
       "[13] \"Centaur_rallies_gr\"    \"Ebony_rallies_gr\"      \"Tokuyawa_rallies_gr\"  \n",
       "[16] \"Odyssey_rallies_gr\"    \"Cosmos_rallies_gr\"     \"fund_raisers_Centaur\" \n",
       "[19] \"fund_raisers_Ebony\"    \"fund_raisers_Tokuyawa\" \"fund_raisers_Odyssey\" \n",
       "[22] \"fund_raisers_Cosmos\"   \"volunteered_Centaur\"   \"volunteered_Ebony\"    \n",
       "[25] \"volunteered_Tokuyawa\"  \"volunteered_Odyssey\"   \"volunteered_Cosmos\"   \n",
       "[28] \"Household_size\"        \"Age\"                   \"Married\"              \n",
       "[31] \"Home\"                  \"education\"             \"newspapers\"           \n",
       "[34] \"previous_region\"       \"current_region\"        \"actual_vote\"          "
      ]
     },
     "metadata": {},
     "output_type": "display_data"
    }
   ],
   "source": [
    "colnames(data_combined)"
   ]
  },
  {
   "cell_type": "code",
   "execution_count": null,
   "metadata": {
    "collapsed": true
   },
   "outputs": [],
   "source": []
  },
  {
   "cell_type": "code",
   "execution_count": 68,
   "metadata": {
    "collapsed": true
   },
   "outputs": [],
   "source": [
    "####"
   ]
  },
  {
   "cell_type": "code",
   "execution_count": 69,
   "metadata": {
    "collapsed": false
   },
   "outputs": [],
   "source": [
    "# data_combined$new1 = ifelse(data_combined$volunteered_Centaur==15 & data_combined$volunteered_Ebony==0  &\n",
    "#                             data_combined$volunteered_Tokuyawa==0 & data_combined$volunteered_Odyssey==0 &\n",
    "#                             data_combined$volunteered_Cosmos==0 , \"Centaur\" , 0)\n",
    "\n",
    "# data_combined$new2 = ifelse(data_combined$volunteered_Centaur==0 & data_combined$volunteered_Ebony==0  &\n",
    "#                             data_combined$volunteered_Tokuyawa==0 & data_combined$volunteered_Odyssey==0 &\n",
    "#                             data_combined$volunteered_Cosmos==15 , \"Cosmos\" , 0)\n",
    "\n",
    "# data_combined$new3 = ifelse(data_combined$volunteered_Centaur==0 & data_combined$volunteered_Ebony==15  &\n",
    "#                             data_combined$volunteered_Tokuyawa==0 & data_combined$volunteered_Odyssey==0 &\n",
    "#                             data_combined$volunteered_Cosmos==0 , \"Ebony\" , 0)\n",
    "\n",
    "# data_combined$new4 = ifelse(data_combined$volunteered_Centaur==0 & data_combined$volunteered_Ebony==0  &\n",
    "#                             data_combined$volunteered_Tokuyawa==0 & data_combined$volunteered_Odyssey==15 &\n",
    "#                             data_combined$volunteered_Cosmos==0 , \"Odyssey\" , 0)\n",
    "\n",
    "# data_combined$new5 = ifelse(data_combined$volunteered_Centaur==0 & data_combined$volunteered_Ebony==0  &\n",
    "#                             data_combined$volunteered_Tokuyawa==15 & data_combined$volunteered_Odyssey==0 &\n",
    "#                             data_combined$volunteered_Cosmos==0 , \"Tokugawa\" , 0)"
   ]
  },
  {
   "cell_type": "code",
   "execution_count": 70,
   "metadata": {
    "collapsed": true
   },
   "outputs": [],
   "source": [
    "# #Combining 1,2,3\n",
    "# data_combined$volunteered_Centaur_1[data_combined$volunteered_Centaur ==15]=1\n",
    "# data_combined$volunteered_Centaur_1[data_combined$volunteered_Centaur>0 & data_combined$volunteered_Centaur<7 ]=2\n",
    "# data_combined$volunteered_Centaur_1[data_combined$volunteered_Centaur>6 & data_combined$volunteered_Centaur<15 ]=3\n",
    "# data_combined$volunteered_Centaur_1[data_combined$volunteered_Centaur ==0]=4\n",
    "\n",
    "# #Combining 1,2,3\n",
    "# data_combined$volunteered_Ebony_1[data_combined$volunteered_Ebony ==15]=1\n",
    "# data_combined$volunteered_Ebony_1[data_combined$volunteered_Ebony>0 & data_combined$volunteered_Ebony<7 ]=2\n",
    "# data_combined$volunteered_Ebony_1[data_combined$volunteered_Ebony>6 & data_combined$volunteered_Ebony<15 ]=3\n",
    "# data_combined$volunteered_Ebony_1[data_combined$volunteered_Ebony ==0]=4\n",
    "\n",
    "# #Combining 1,2,3\n",
    "# data_combined$volunteered_Tokuyawa_1[data_combined$volunteered_Tokuyawa ==15]=1\n",
    "# data_combined$volunteered_Tokuyawa_1[data_combined$volunteered_Tokuyawa>0 & data_combined$volunteered_Tokuyawa<7 ]=2\n",
    "# data_combined$volunteered_Tokuyawa_1[data_combined$volunteered_Tokuyawa>6 & data_combined$volunteered_Tokuyawa<15 ]=3\n",
    "# data_combined$volunteered_Tokuyawa_1[data_combined$volunteered_Tokuyawa ==0]=4\n",
    "\n",
    "# #Combining 1,2,3\n",
    "# data_combined$volunteered_Odyssey_1[data_combined$volunteered_Odyssey ==15]=1\n",
    "# data_combined$volunteered_Odyssey_1[data_combined$volunteered_Odyssey>0 & data_combined$volunteered_Odyssey<7 ]=2\n",
    "# data_combined$volunteered_Odyssey_1[data_combined$volunteered_Odyssey>6 & data_combined$volunteered_Odyssey<15 ]=3\n",
    "# data_combined$volunteered_Odyssey_1[data_combined$volunteered_Odyssey ==0]=4\n",
    "\n",
    "# #Combining 1,2,3\n",
    "# data_combined$volunteered_Cosmos_1[data_combined$volunteered_Cosmos ==15]=1\n",
    "# data_combined$volunteered_Cosmos_1[data_combined$volunteered_Cosmos>0 & data_combined$volunteered_Cosmos<7 ]=2\n",
    "# data_combined$volunteered_Cosmos_1[data_combined$volunteered_Cosmos>6 & data_combined$volunteered_Cosmos<15 ]=3\n",
    "# data_combined$volunteered_Cosmos_1[data_combined$volunteered_Cosmos ==0]=4"
   ]
  },
  {
   "cell_type": "code",
   "execution_count": 71,
   "metadata": {
    "collapsed": true
   },
   "outputs": [],
   "source": [
    "# data_combined$volunteered_Centaur_1=as.factor(data_combined$volunteered_Centaur_1)\n",
    "# data_combined$volunteered_Ebony_1=as.factor(data_combined$volunteered_Ebony_1)\n",
    "# data_combined$volunteered_Tokuyawa_1=as.factor(data_combined$volunteered_Tokuyawa_1)\n",
    "# data_combined$volunteered_Odyssey_1=as.factor(data_combined$volunteered_Odyssey_1)\n",
    "# data_combined$volunteered_Cosmos_1=as.factor(data_combined$volunteered_Cosmos_1)\n",
    "\n",
    "# #Creating Dummies\n",
    "# data_combined=cbind(data_combined,model.matrix( ~ volunteered_Centaur_1 - 1, data=data_combined ))\n",
    "# data_combined=cbind(data_combined,model.matrix( ~ volunteered_Ebony_1 - 1, data=data_combined ))\n",
    "# data_combined=cbind(data_combined,model.matrix( ~ volunteered_Tokuyawa_1 - 1, data=data_combined ))\n",
    "# data_combined=cbind(data_combined,model.matrix( ~ volunteered_Odyssey_1 - 1, data=data_combined ))\n",
    "# data_combined=cbind(data_combined,model.matrix( ~ volunteered_Cosmos_1 - 1, data=data_combined ))\n"
   ]
  },
  {
   "cell_type": "code",
   "execution_count": 72,
   "metadata": {
    "collapsed": false
   },
   "outputs": [],
   "source": [
    "# #Previous Vote\n",
    "# data_combined$Previous_Centaur=ifelse(data_combined$party_voted_past==\"Centaur\",1,0)\n",
    "# data_combined$Previous_Ebony=ifelse(data_combined$party_voted_past==\"Ebony\",1,0)\n",
    "# data_combined$Previous_Tokuyawa=ifelse(data_combined$party_voted_past==\"Tokugawa\",1,0)\n",
    "# data_combined$Previous_Odyssey=ifelse(data_combined$party_voted_past==\"Odyssey\",1,0)\n",
    "# data_combined$Previous_Cosmos=ifelse(data_combined$party_voted_past==\"Cosmos\",1,0)"
   ]
  },
  {
   "cell_type": "code",
   "execution_count": null,
   "metadata": {
    "collapsed": true
   },
   "outputs": [],
   "source": []
  },
  {
   "cell_type": "code",
   "execution_count": 73,
   "metadata": {
    "collapsed": false
   },
   "outputs": [],
   "source": [
    "# data_combined$new1=as.factor(data_combined$new1)\n",
    "# data_combined$new2=as.factor(data_combined$new2)\n",
    "# data_combined$new3=as.factor(data_combined$new3)\n",
    "# data_combined$new4=as.factor(data_combined$new4)\n",
    "# data_combined$new5=as.factor(data_combined$new5)"
   ]
  },
  {
   "cell_type": "code",
   "execution_count": null,
   "metadata": {
    "collapsed": true
   },
   "outputs": [],
   "source": []
  },
  {
   "cell_type": "code",
   "execution_count": 74,
   "metadata": {
    "collapsed": true
   },
   "outputs": [],
   "source": [
    "####"
   ]
  },
  {
   "cell_type": "code",
   "execution_count": 75,
   "metadata": {
    "collapsed": true
   },
   "outputs": [],
   "source": [
    "#Replacing region with Average and sd\n"
   ]
  },
  {
   "cell_type": "code",
   "execution_count": null,
   "metadata": {
    "collapsed": true
   },
   "outputs": [],
   "source": []
  },
  {
   "cell_type": "code",
   "execution_count": 76,
   "metadata": {
    "collapsed": false
   },
   "outputs": [
    {
     "data": {
      "text/html": [
       "<table>\n",
       "<thead><tr><th></th><th scope=col>volunteered_Centaur</th><th scope=col>volunteered_Ebony</th><th scope=col>volunteered_Tokuyawa</th><th scope=col>volunteered_Odyssey</th><th scope=col>volunteered_Cosmos</th></tr></thead>\n",
       "<tbody>\n",
       "\t<tr><th scope=row>1</th><td> 0</td><td> 0</td><td>15</td><td> 0</td><td> 0</td></tr>\n",
       "\t<tr><th scope=row>2</th><td> 5</td><td>10</td><td> 0</td><td>15</td><td> 0</td></tr>\n",
       "\t<tr><th scope=row>3</th><td> 0</td><td> 0</td><td> 0</td><td> 0</td><td>15</td></tr>\n",
       "\t<tr><th scope=row>4</th><td>15</td><td>15</td><td> 0</td><td> 0</td><td> 0</td></tr>\n",
       "\t<tr><th scope=row>5</th><td>10</td><td>15</td><td>15</td><td> 0</td><td> 7</td></tr>\n",
       "\t<tr><th scope=row>6</th><td> 0</td><td>15</td><td>15</td><td> 0</td><td> 0</td></tr>\n",
       "</tbody>\n",
       "</table>\n"
      ],
      "text/latex": [
       "\\begin{tabular}{r|lllll}\n",
       "  & volunteered\\_Centaur & volunteered\\_Ebony & volunteered\\_Tokuyawa & volunteered\\_Odyssey & volunteered\\_Cosmos\\\\\n",
       "\\hline\n",
       "\t1 &  0 &  0 & 15 &  0 &  0\\\\\n",
       "\t2 &  5 & 10 &  0 & 15 &  0\\\\\n",
       "\t3 &  0 &  0 &  0 &  0 & 15\\\\\n",
       "\t4 & 15 & 15 &  0 &  0 &  0\\\\\n",
       "\t5 & 10 & 15 & 15 &  0 &  7\\\\\n",
       "\t6 &  0 & 15 & 15 &  0 &  0\\\\\n",
       "\\end{tabular}\n"
      ],
      "text/plain": [
       "  volunteered_Centaur volunteered_Ebony volunteered_Tokuyawa\n",
       "1                   0                 0                   15\n",
       "2                   5                10                    0\n",
       "3                   0                 0                    0\n",
       "4                  15                15                    0\n",
       "5                  10                15                   15\n",
       "6                   0                15                   15\n",
       "  volunteered_Odyssey volunteered_Cosmos\n",
       "1                   0                  0\n",
       "2                  15                  0\n",
       "3                   0                 15\n",
       "4                   0                  0\n",
       "5                   0                  7\n",
       "6                   0                  0"
      ]
     },
     "metadata": {},
     "output_type": "display_data"
    }
   ],
   "source": [
    "head(data_combined[c(23:27)])"
   ]
  },
  {
   "cell_type": "code",
   "execution_count": 77,
   "metadata": {
    "collapsed": false
   },
   "outputs": [],
   "source": [
    "# a=sqrt(4/5)\n",
    "\n",
    "# data_combined$sd_Donations = (apply(data_combined[,c(3:7)],1,sd))*a\n",
    "# data_combined$sd_Volunteered = (apply(data_combined[,c(8:12)],1,sd))*a\n",
    "# data_combined$sd_Rallies_Indi = (apply(data_combined[,c(13:18)],1,sd))*a\n",
    "# data_combined$sd_Rallies_Gr = (apply(data_combined[,c(18:22)],1,sd))*a\n",
    "# data_combined$sd_Fund_Raisers = (apply(data_combined[,c(23:27)],1,sd))*a"
   ]
  },
  {
   "cell_type": "code",
   "execution_count": 78,
   "metadata": {
    "collapsed": false
   },
   "outputs": [
    {
     "data": {
      "text/html": [
       "<table>\n",
       "<thead><tr><th></th><th scope=col>Citizen_id</th><th scope=col>party_voted_past</th><th scope=col>Donations_Centaur</th><th scope=col>Donations_Ebony</th><th scope=col>Donations_Tokuyawa</th><th scope=col>Donations_Odyssey</th><th scope=col>Donations_Cosmos</th><th scope=col>Centaur_rallies_indi</th><th scope=col>Ebony_rallies_indi</th><th scope=col>Tokuyawa_rallies_indi</th><th scope=col>...</th><th scope=col>volunteered_Cosmos</th><th scope=col>Household_size</th><th scope=col>Age</th><th scope=col>Married</th><th scope=col>Home</th><th scope=col>education</th><th scope=col>newspapers</th><th scope=col>previous_region</th><th scope=col>current_region</th><th scope=col>actual_vote</th></tr></thead>\n",
       "<tbody>\n",
       "\t<tr><th scope=row>1</th><td>C1      </td><td>Tokugawa</td><td>0       </td><td>0       </td><td>18      </td><td>0       </td><td>0       </td><td>0       </td><td>0       </td><td>9       </td><td>...     </td><td>0       </td><td>3       </td><td>25-35   </td><td>1       </td><td>0       </td><td>Degree  </td><td>6       </td><td>AEC     </td><td>AEC     </td><td>Tokugawa</td></tr>\n",
       "\t<tr><th scope=row>2</th><td>C2     </td><td>Ebony  </td><td>2      </td><td>6      </td><td>0      </td><td>2      </td><td>0      </td><td>2      </td><td>5      </td><td>0      </td><td>...    </td><td>0      </td><td>3      </td><td>18-24  </td><td>1      </td><td>0      </td><td>Masters</td><td>5      </td><td>AEC    </td><td>AEC    </td><td>Ebony  </td></tr>\n",
       "\t<tr><th scope=row>3</th><td>C3     </td><td>Cosmos </td><td>0      </td><td>0      </td><td>0      </td><td>0      </td><td>6      </td><td>0      </td><td>0      </td><td>0      </td><td>...    </td><td>15     </td><td>1      </td><td>46-55  </td><td>1      </td><td>1      </td><td>Masters</td><td>6      </td><td>AMS    </td><td>AMS    </td><td>Cosmos </td></tr>\n",
       "\t<tr><th scope=row>4</th><td>C4     </td><td>Centaur</td><td>2      </td><td>0      </td><td>0      </td><td>0      </td><td>0      </td><td>2      </td><td>0      </td><td>0      </td><td>...    </td><td>0      </td><td>1      </td><td>36-45  </td><td>1      </td><td>0      </td><td>Degree </td><td>6      </td><td>ACL    </td><td>ANQ    </td><td>Centaur</td></tr>\n",
       "\t<tr><th scope=row>5</th><td>C5     </td><td>Centaur</td><td>9      </td><td>2      </td><td>3      </td><td>0      </td><td>2      </td><td>1      </td><td>0      </td><td>1      </td><td>...    </td><td>7      </td><td>4      </td><td>25-35  </td><td>1      </td><td>0      </td><td>Primary</td><td>7      </td><td>ARK    </td><td>ARK    </td><td>Centaur</td></tr>\n",
       "\t<tr><th scope=row>6</th><td>C6      </td><td>Tokugawa</td><td>0       </td><td>3       </td><td>8       </td><td>0       </td><td>0       </td><td>0       </td><td>1       </td><td>1       </td><td>...     </td><td>0       </td><td>3       </td><td>46-55   </td><td>1       </td><td>1       </td><td>Masters </td><td>8       </td><td>ANQ     </td><td>ANQ     </td><td>Tokugawa</td></tr>\n",
       "</tbody>\n",
       "</table>\n"
      ],
      "text/latex": [
       "\\begin{tabular}{r|llllllllllllllllllllllllllllllllllll}\n",
       "  & Citizen\\_id & party\\_voted\\_past & Donations\\_Centaur & Donations\\_Ebony & Donations\\_Tokuyawa & Donations\\_Odyssey & Donations\\_Cosmos & Centaur\\_rallies\\_indi & Ebony\\_rallies\\_indi & Tokuyawa\\_rallies\\_indi & ... & volunteered\\_Cosmos & Household\\_size & Age & Married & Home & education & newspapers & previous\\_region & current\\_region & actual\\_vote\\\\\n",
       "\\hline\n",
       "\t1 & C1       & Tokugawa & 0        & 0        & 18       & 0        & 0        & 0        & 0        & 9        & ...      & 0        & 3        & 25-35    & 1        & 0        & Degree   & 6        & AEC      & AEC      & Tokugawa\\\\\n",
       "\t2 & C2      & Ebony   & 2       & 6       & 0       & 2       & 0       & 2       & 5       & 0       & ...     & 0       & 3       & 18-24   & 1       & 0       & Masters & 5       & AEC     & AEC     & Ebony  \\\\\n",
       "\t3 & C3      & Cosmos  & 0       & 0       & 0       & 0       & 6       & 0       & 0       & 0       & ...     & 15      & 1       & 46-55   & 1       & 1       & Masters & 6       & AMS     & AMS     & Cosmos \\\\\n",
       "\t4 & C4      & Centaur & 2       & 0       & 0       & 0       & 0       & 2       & 0       & 0       & ...     & 0       & 1       & 36-45   & 1       & 0       & Degree  & 6       & ACL     & ANQ     & Centaur\\\\\n",
       "\t5 & C5      & Centaur & 9       & 2       & 3       & 0       & 2       & 1       & 0       & 1       & ...     & 7       & 4       & 25-35   & 1       & 0       & Primary & 7       & ARK     & ARK     & Centaur\\\\\n",
       "\t6 & C6       & Tokugawa & 0        & 3        & 8        & 0        & 0        & 0        & 1        & 1        & ...      & 0        & 3        & 46-55    & 1        & 1        & Masters  & 8        & ANQ      & ANQ      & Tokugawa\\\\\n",
       "\\end{tabular}\n"
      ],
      "text/plain": [
       "  Citizen_id party_voted_past Donations_Centaur Donations_Ebony\n",
       "1         C1         Tokugawa                 0               0\n",
       "2         C2            Ebony                 2               6\n",
       "3         C3           Cosmos                 0               0\n",
       "4         C4          Centaur                 2               0\n",
       "5         C5          Centaur                 9               2\n",
       "6         C6         Tokugawa                 0               3\n",
       "  Donations_Tokuyawa Donations_Odyssey Donations_Cosmos Centaur_rallies_indi\n",
       "1                 18                 0                0                    0\n",
       "2                  0                 2                0                    2\n",
       "3                  0                 0                6                    0\n",
       "4                  0                 0                0                    2\n",
       "5                  3                 0                2                    1\n",
       "6                  8                 0                0                    0\n",
       "  Ebony_rallies_indi Tokuyawa_rallies_indi ... volunteered_Cosmos\n",
       "1                  0                     9 ...                  0\n",
       "2                  5                     0 ...                  0\n",
       "3                  0                     0 ...                 15\n",
       "4                  0                     0 ...                  0\n",
       "5                  0                     1 ...                  7\n",
       "6                  1                     1 ...                  0\n",
       "  Household_size   Age Married Home education newspapers previous_region\n",
       "1              3 25-35       1    0    Degree          6             AEC\n",
       "2              3 18-24       1    0   Masters          5             AEC\n",
       "3              1 46-55       1    1   Masters          6             AMS\n",
       "4              1 36-45       1    0    Degree          6             ACL\n",
       "5              4 25-35       1    0   Primary          7             ARK\n",
       "6              3 46-55       1    1   Masters          8             ANQ\n",
       "  current_region actual_vote\n",
       "1            AEC    Tokugawa\n",
       "2            AEC       Ebony\n",
       "3            AMS      Cosmos\n",
       "4            ANQ     Centaur\n",
       "5            ARK     Centaur\n",
       "6            ANQ    Tokugawa"
      ]
     },
     "metadata": {},
     "output_type": "display_data"
    }
   ],
   "source": [
    "head(data_combined)"
   ]
  },
  {
   "cell_type": "code",
   "execution_count": 79,
   "metadata": {
    "collapsed": false
   },
   "outputs": [],
   "source": [
    "# # #do not run it 2 times\n",
    "# # #Donations\n",
    "\n",
    "# Total_Donations    =  data_combined$Donations_Centaur + data_combined$Donations_Ebony + data_combined$Donations_Tokuyawa + data_combined$Donations_Odyssey +data_combined$Donations_Cosmos                                 \n",
    "\n",
    "# data_combined$Donations_Centaur  =  (data_combined$Donations_Centaur*data_combined$sd_Donations)  / Total_Donations\n",
    "# data_combined$Donations_Ebony =  (data_combined$Donations_Ebony*data_combined$sd_Donations)  / Total_Donations\n",
    "# data_combined$Donations_Tokuyawa =  (data_combined$Donations_Tokuyawa*data_combined$sd_Donations)  / Total_Donations\n",
    "# data_combined$Donations_Odyssey  =  (data_combined$Donations_Odyssey*data_combined$sd_Donations)  / Total_Donations\n",
    "# data_combined$Donations_Cosmos   =  (data_combined$Donations_Cosmos*data_combined$sd_Donations)  / Total_Donations\n",
    "\n",
    "# # #Volunteered\n",
    "# # Total_volunteered    =  data_combined$volunteered_Centaur + data_combined$volunteered_Ebony + data_combined$volunteered_Tokuyawa + data_combined$volunteered_Odyssey +data_combined$volunteered_Cosmos                                 \n",
    "\n",
    "# # data_combined$volunteered_Centaur  =  (data_combined$volunteered_Centaur*data_combined$sd_Volunteered)  / Total_volunteered\n",
    "# # data_combined$volunteered_Ebony    =  (data_combined$volunteered_Ebony*data_combined$sd_Volunteered)  / Total_volunteered\n",
    "# # data_combined$volunteered_Tokuyawa =  (data_combined$volunteered_Tokuyawa*data_combined$sd_Volunteered)  / Total_volunteered\n",
    "# # data_combined$volunteered_Odyssey  =  (data_combined$volunteered_Odyssey*data_combined$sd_Volunteered)  / Total_volunteered\n",
    "# # data_combined$volunteered_Cosmos   =  (data_combined$volunteered_Cosmos*data_combined$sd_Volunteered)  / Total_volunteered\n",
    "\n",
    "# # #Rallies Indi\n",
    "# # Total_Rallies_Indi    =  data_combined$Centaur_rallies_indi + data_combined$Ebony_rallies_indi + data_combined$Tokuyawa_rallies_indi + data_combined$Odyssey_rallies_indi +data_combined$Cosmos_rallies_indi                                 \n",
    "\n",
    "# # data_combined$Centaur_rallies_indi  =  (data_combined$Centaur_rallies_indi*data_combined$sd_Rallies_Indi)  / Total_Rallies_Indi\n",
    "# # data_combined$Ebony_rallies_indi    =  (data_combined$Ebony_rallies_indi*data_combined$sd_Rallies_Indi)  / Total_Rallies_Indi\n",
    "# # data_combined$Tokuyawa_rallies_indi =  (data_combined$Tokuyawa_rallies_indi*data_combined$sd_Rallies_Indi)  / Total_Rallies_Indi\n",
    "# # data_combined$Odyssey_rallies_indi  =  (data_combined$Odyssey_rallies_indi*data_combined$sd_Rallies_Indi)  / Total_Rallies_Indi\n",
    "# # data_combined$Cosmos_rallies_indi   =  (data_combined$Cosmos_rallies_indi*data_combined$sd_Rallies_Indi)  / Total_Rallies_Indi\n",
    "\n",
    "# # #Rallies Group\n",
    "# # Total_Rallies_gr    =  data_combined$Centaur_rallies_gr + data_combined$Ebony_rallies_gr + data_combined$Tokuyawa_rallies_gr + data_combined$Odyssey_rallies_gr +data_combined$Cosmos_rallies_gr                                 \n",
    "\n",
    "# # data_combined$Centaur_rallies_gr  =  (data_combined$Centaur_rallies_gr*data_combined$sd_Rallies_Gr)  / Total_Rallies_gr\n",
    "# # data_combined$Ebony_rallies_gr    =  (data_combined$Ebony_rallies_gr*data_combined$sd_Rallies_Gr)  / Total_Rallies_gr\n",
    "# # data_combined$Tokuyawa_rallies_gr =  (data_combined$Tokuyawa_rallies_gr*data_combined$sd_Rallies_Gr)  / Total_Rallies_gr\n",
    "# # data_combined$Odyssey_rallies_gr  =  (data_combined$Odyssey_rallies_gr*data_combined$sd_Rallies_Gr)  / Total_Rallies_gr\n",
    "# # data_combined$Cosmos_rallies_gr   =  (data_combined$Cosmos_rallies_gr*data_combined$sd_Rallies_Gr)  / Total_Rallies_gr\n",
    "\n",
    "# # #Fund Raisers\n",
    "# # Total_Fund_Raisers  =  data_combined$fund_raisers_Centaur + data_combined$fund_raisers_Ebony + data_combined$fund_raisers_Tokuyawa + data_combined$fund_raisers_Odyssey +data_combined$fund_raisers_Cosmos                                 \n",
    "\n",
    "# # data_combined$fund_raisers_Centaur  =  (data_combined$fund_raisers_Centaur*data_combined$sd_Fund_Raisers)  / Total_Fund_Raisers\n",
    "# # data_combined$fund_raisers_Ebony    =  (data_combined$fund_raisers_Ebony*data_combined$sd_Fund_Raisers)  / Total_Fund_Raisers\n",
    "# # data_combined$fund_raisers_Tokuyawa =  (data_combined$fund_raisers_Tokuyawa*data_combined$sd_Fund_Raisers)  / Total_Fund_Raisers\n",
    "# # data_combined$fund_raisers_Odyssey  =  (data_combined$fund_raisers_Odyssey*data_combined$sd_Fund_Raisers)  / Total_Fund_Raisers\n",
    "# # data_combined$fund_raisers_Cosmos   =  (data_combined$fund_raisers_Cosmos*data_combined$sd_Fund_Raisers)  / Total_Fund_Raisers\n",
    "\n",
    "# # #To remove NaN Values\n",
    "# # data_combined[is.na(data_combined)]=0"
   ]
  },
  {
   "cell_type": "code",
   "execution_count": 80,
   "metadata": {
    "collapsed": false
   },
   "outputs": [],
   "source": [
    "# #do not run it 2 times\n",
    "# #Donations\n",
    "# Total_Donations    =  data_combined$Donations_Centaur + data_combined$Donations_Ebony + data_combined$Donations_Tokuyawa + data_combined$Donations_Odyssey +data_combined$Donations_Cosmos                                 \n",
    "\n",
    "# data_combined$Donations_Centaur  =  (data_combined$Donations_Centaur*data_combined$Donations_Centaur)  / Total_Donations\n",
    "# data_combined$Donations_Ebony    =  (data_combined$Donations_Ebony*data_combined$Donations_Ebony)  / Total_Donations\n",
    "# data_combined$Donations_Tokuyawa =  (data_combined$Donations_Tokuyawa*data_combined$Donations_Tokuyawa)  / Total_Donations\n",
    "# data_combined$Donations_Odyssey  =  (data_combined$Donations_Odyssey*data_combined$Donations_Odyssey)  / Total_Donations\n",
    "# data_combined$Donations_Cosmos   =  (data_combined$Donations_Cosmos*data_combined$Donations_Cosmos)  / Total_Donations\n",
    "\n",
    "# #Volunteered\n",
    "# Total_volunteered    =  data_combined$volunteered_Centaur + data_combined$volunteered_Ebony + data_combined$volunteered_Tokuyawa + data_combined$volunteered_Odyssey +data_combined$volunteered_Cosmos                                 \n",
    "\n",
    "# data_combined$volunteered_Centaur  =  (data_combined$volunteered_Centaur*data_combined$volunteered_Centaur)  / Total_volunteered\n",
    "# data_combined$volunteered_Ebony    =  (data_combined$volunteered_Ebony*data_combined$volunteered_Ebony)  / Total_volunteered\n",
    "# data_combined$volunteered_Tokuyawa =  (data_combined$volunteered_Tokuyawa*data_combined$volunteered_Tokuyawa)  / Total_volunteered\n",
    "# data_combined$volunteered_Odyssey  =  (data_combined$volunteered_Odyssey*data_combined$volunteered_Odyssey)  / Total_volunteered\n",
    "# data_combined$volunteered_Cosmos   =  (data_combined$volunteered_Cosmos*data_combined$volunteered_Cosmos)  / Total_volunteered\n",
    "\n",
    "# #Rallies Indi\n",
    "# Total_Rallies_Indi    =  data_combined$Centaur_rallies_indi + data_combined$Ebony_rallies_indi + data_combined$Tokuyawa_rallies_indi + data_combined$Odyssey_rallies_indi +data_combined$Cosmos_rallies_indi                                 \n",
    "\n",
    "# data_combined$Centaur_rallies_indi  =  (data_combined$Centaur_rallies_indi*data_combined$Centaur_rallies_indi)  / Total_Rallies_Indi\n",
    "# data_combined$Ebony_rallies_indi    =  (data_combined$Ebony_rallies_indi*data_combined$Ebony_rallies_indi)  / Total_Rallies_Indi\n",
    "# data_combined$Tokuyawa_rallies_indi =  (data_combined$Tokuyawa_rallies_indi*data_combined$Tokuyawa_rallies_indi)  / Total_Rallies_Indi\n",
    "# data_combined$Odyssey_rallies_indi  =  (data_combined$Odyssey_rallies_indi*data_combined$Odyssey_rallies_indi)  / Total_Rallies_Indi\n",
    "# data_combined$Cosmos_rallies_indi   =  (data_combined$Cosmos_rallies_indi*data_combined$Cosmos_rallies_indi)  / Total_Rallies_Indi\n",
    "\n",
    "# #Rallies Group\n",
    "# Total_Rallies_gr    =  data_combined$Centaur_rallies_gr + data_combined$Ebony_rallies_gr + data_combined$Tokuyawa_rallies_gr + data_combined$Odyssey_rallies_gr +data_combined$Cosmos_rallies_gr                                 \n",
    "\n",
    "# data_combined$Centaur_rallies_gr  =  (data_combined$Centaur_rallies_gr*data_combined$Centaur_rallies_gr)  / Total_Rallies_gr\n",
    "# data_combined$Ebony_rallies_gr    =  (data_combined$Ebony_rallies_gr*data_combined$Ebony_rallies_gr)  / Total_Rallies_gr\n",
    "# data_combined$Tokuyawa_rallies_gr =  (data_combined$Tokuyawa_rallies_gr*data_combined$Tokuyawa_rallies_gr)  / Total_Rallies_gr\n",
    "# data_combined$Odyssey_rallies_gr  =  (data_combined$Odyssey_rallies_gr*data_combined$Odyssey_rallies_gr)  / Total_Rallies_gr\n",
    "# data_combined$Cosmos_rallies_gr   =  (data_combined$Cosmos_rallies_gr*data_combined$Cosmos_rallies_gr)  / Total_Rallies_gr\n",
    "\n",
    "# #Fund Raisers\n",
    "# Total_Fund_Raisers  =  data_combined$fund_raisers_Centaur + data_combined$fund_raisers_Ebony + data_combined$fund_raisers_Tokuyawa + data_combined$fund_raisers_Odyssey +data_combined$fund_raisers_Cosmos                                 \n",
    "\n",
    "# data_combined$fund_raisers_Centaur  =  (data_combined$fund_raisers_Centaur*data_combined$fund_raisers_Centaur)  / Total_Fund_Raisers\n",
    "# data_combined$fund_raisers_Ebony    =  (data_combined$fund_raisers_Ebony*data_combined$fund_raisers_Ebony)  / Total_Fund_Raisers\n",
    "# data_combined$fund_raisers_Tokuyawa =  (data_combined$fund_raisers_Tokuyawa*data_combined$fund_raisers_Tokuyawa)  / Total_Fund_Raisers\n",
    "# data_combined$fund_raisers_Odyssey  =  (data_combined$fund_raisers_Odyssey*data_combined$fund_raisers_Odyssey)  / Total_Fund_Raisers\n",
    "# data_combined$fund_raisers_Cosmos   =  (data_combined$fund_raisers_Cosmos*data_combined$fund_raisers_Cosmos)  / Total_Fund_Raisers\n",
    "\n",
    "# #To remove NaN Values\n",
    "# data_combined[is.na(data_combined)]=0"
   ]
  },
  {
   "cell_type": "code",
   "execution_count": 81,
   "metadata": {
    "collapsed": false
   },
   "outputs": [],
   "source": [
    "# #do not run it 2 times\n",
    "# #Donations\n",
    "# Total_Donations    =  (data_combined$Donations_Centaur + data_combined$Donations_Ebony + data_combined$Donations_Tokuyawa + data_combined$Donations_Odyssey +data_combined$Donations_Cosmos )/5\n",
    "\n",
    "# data_combined$Donations_Centaur  =  data_combined$Donations_Centaur -  Total_Donations\n",
    "# data_combined$Donations_Ebony    =  data_combined$Donations_Ebony   -  Total_Donations\n",
    "# data_combined$Donations_Tokuyawa =  data_combined$Donations_Tokuyawa-  Total_Donations\n",
    "# data_combined$Donations_Odyssey  =  data_combined$Donations_Odyssey -  Total_Donations\n",
    "# data_combined$Donations_Cosmos   =  data_combined$Donations_Cosmos  -  Total_Donations\n",
    "\n",
    "# #Volunteered\n",
    "# Total_volunteered    =  (data_combined$volunteered_Centaur + data_combined$volunteered_Ebony + data_combined$volunteered_Tokuyawa + data_combined$volunteered_Odyssey +data_combined$volunteered_Cosmos     )/5                            \n",
    "\n",
    "# data_combined$volunteered_Centaur  =  data_combined$volunteered_Centaur  - Total_volunteered\n",
    "# data_combined$volunteered_Ebony    =  data_combined$volunteered_Ebony    - Total_volunteered\n",
    "# data_combined$volunteered_Tokuyawa =  data_combined$volunteered_Tokuyawa - Total_volunteered\n",
    "# data_combined$volunteered_Odyssey  =  data_combined$volunteered_Odyssey  - Total_volunteered\n",
    "# data_combined$volunteered_Cosmos   =  data_combined$volunteered_Cosmos   - Total_volunteered\n",
    "\n",
    "# # #Rallies Indi\n",
    "# Total_Rallies_Indi    =  (data_combined$Centaur_rallies_indi + data_combined$Ebony_rallies_indi + data_combined$Tokuyawa_rallies_indi + data_combined$Odyssey_rallies_indi +data_combined$Cosmos_rallies_indi   )/5                              \n",
    "\n",
    "# data_combined$Centaur_rallies_indi  =  data_combined$Centaur_rallies_indi - Total_Rallies_Indi\n",
    "# data_combined$Ebony_rallies_indi    =  data_combined$Ebony_rallies_indi   - Total_Rallies_Indi\n",
    "# data_combined$Tokuyawa_rallies_indi =  data_combined$Tokuyawa_rallies_indi- Total_Rallies_Indi\n",
    "# data_combined$Odyssey_rallies_indi  =  data_combined$Odyssey_rallies_indi - Total_Rallies_Indi\n",
    "# data_combined$Cosmos_rallies_indi   =  data_combined$Cosmos_rallies_indi  - Total_Rallies_Indi\n",
    "\n",
    "# #Rallies Group\n",
    "# Total_Rallies_gr    =  (data_combined$Centaur_rallies_gr + data_combined$Ebony_rallies_gr + data_combined$Tokuyawa_rallies_gr + data_combined$Odyssey_rallies_gr +data_combined$Cosmos_rallies_gr    )/5                             \n",
    "\n",
    "# data_combined$Centaur_rallies_gr  =  data_combined$Centaur_rallies_gr - Total_Rallies_gr\n",
    "# data_combined$Ebony_rallies_gr    =  data_combined$Ebony_rallies_gr   - Total_Rallies_gr\n",
    "# data_combined$Tokuyawa_rallies_gr =  data_combined$Tokuyawa_rallies_gr -Total_Rallies_gr\n",
    "# data_combined$Odyssey_rallies_gr  =  data_combined$Odyssey_rallies_gr -Total_Rallies_gr\n",
    "# data_combined$Cosmos_rallies_gr   =  data_combined$Cosmos_rallies_gr - Total_Rallies_gr\n",
    "\n",
    "# #Fund Raisers\n",
    "# Total_Fund_Raisers  =  (data_combined$fund_raisers_Centaur + data_combined$fund_raisers_Ebony + data_combined$fund_raisers_Tokuyawa + data_combined$fund_raisers_Odyssey +data_combined$fund_raisers_Cosmos      )/5                           \n",
    "\n",
    "# data_combined$fund_raisers_Centaur  =  data_combined$fund_raisers_Centaur -Total_Fund_Raisers\n",
    "# data_combined$fund_raisers_Ebony    =  data_combined$fund_raisers_Ebony -Total_Fund_Raisers\n",
    "# data_combined$fund_raisers_Tokuyawa =  data_combined$fund_raisers_Tokuyawa -Total_Fund_Raisers\n",
    "# data_combined$fund_raisers_Odyssey  =  data_combined$fund_raisers_Odyssey -Total_Fund_Raisers\n",
    "# data_combined$fund_raisers_Cosmos   =  data_combined$fund_raisers_Cosmos - Total_Fund_Raisers\n",
    "\n",
    "# #To remove NaN Values\n",
    "# data_combined[is.na(data_combined)]=0"
   ]
  },
  {
   "cell_type": "code",
   "execution_count": null,
   "metadata": {
    "collapsed": true
   },
   "outputs": [],
   "source": []
  },
  {
   "cell_type": "code",
   "execution_count": null,
   "metadata": {
    "collapsed": true
   },
   "outputs": [],
   "source": []
  },
  {
   "cell_type": "code",
   "execution_count": null,
   "metadata": {
    "collapsed": true
   },
   "outputs": [],
   "source": []
  },
  {
   "cell_type": "code",
   "execution_count": 82,
   "metadata": {
    "collapsed": false
   },
   "outputs": [],
   "source": [
    "#Region count\n",
    "data_combined$Region_Change_Current <- ave(as.numeric(data_combined$actual_vote), data_combined$current_region,  FUN = mean)\n",
    "data_combined$Region_Change_Previous <- ave(as.numeric(data_combined$actual_vote), data_combined$previous_region,  FUN = mean)\n",
    "\n",
    "data_combined$Region_Change_Current2 <- ave(as.numeric(data_combined$actual_vote), data_combined$current_region,  FUN = sd)\n",
    "data_combined$Region_Change_Previous2 <- ave(as.numeric(data_combined$actual_vote), data_combined$previous_region,  FUN = sd)\n",
    "\n",
    "# #as.numeric(dt$school), dt$school, FUN = length"
   ]
  },
  {
   "cell_type": "code",
   "execution_count": null,
   "metadata": {
    "collapsed": true
   },
   "outputs": [],
   "source": []
  },
  {
   "cell_type": "code",
   "execution_count": 83,
   "metadata": {
    "collapsed": false
   },
   "outputs": [],
   "source": [
    "# data_combined$DC <- ave(data_combined$Previous_Centaur, data_combined$Donations_Centaur,  FUN = sum)*100/ave(data_combined$Donations_Centaur, data_combined$Donations_Centaur,  FUN = length)\n",
    "# data_combined$DE <- ave(data_combined$Previous_Ebony, data_combined$Donations_Ebony,  FUN = sum)*100/ave(data_combined$Donations_Ebony, data_combined$Donations_Ebony,  FUN = length)\n",
    "# data_combined$DT <- ave(data_combined$Previous_Tokuyawa, data_combined$Donations_Tokuyawa,  FUN = sum)*100/ave(data_combined$Donations_Tokuyawa, data_combined$Donations_Tokuyawa,  FUN = length)\n",
    "# data_combined$DO <- ave(data_combined$Previous_Odyssey, data_combined$Donations_Odyssey,  FUN = sum)*100/ave(data_combined$Donations_Odyssey, data_combined$Donations_Odyssey,  FUN = length)\n",
    "# data_combined$DCC <- ave(data_combined$Previous_Cosmos, data_combined$Donations_Cosmos,  FUN = sum)*100/ave(data_combined$Donations_Cosmos, data_combined$Donations_Cosmos,  FUN = length)"
   ]
  },
  {
   "cell_type": "code",
   "execution_count": 84,
   "metadata": {
    "collapsed": false
   },
   "outputs": [
    {
     "data": {
      "text/html": [
       "40"
      ],
      "text/latex": [
       "40"
      ],
      "text/markdown": [
       "40"
      ],
      "text/plain": [
       "[1] 40"
      ]
     },
     "metadata": {},
     "output_type": "display_data"
    },
    {
     "data": {
      "text/html": [
       "<table>\n",
       "<thead><tr><th></th><th scope=col>Citizen_id</th><th scope=col>party_voted_past</th><th scope=col>Donations_Centaur</th><th scope=col>Donations_Ebony</th><th scope=col>Donations_Tokuyawa</th><th scope=col>Donations_Odyssey</th><th scope=col>Donations_Cosmos</th><th scope=col>Centaur_rallies_indi</th><th scope=col>Ebony_rallies_indi</th><th scope=col>Tokuyawa_rallies_indi</th><th scope=col>...</th><th scope=col>Home</th><th scope=col>education</th><th scope=col>newspapers</th><th scope=col>previous_region</th><th scope=col>current_region</th><th scope=col>actual_vote</th><th scope=col>Region_Change_Current</th><th scope=col>Region_Change_Previous</th><th scope=col>Region_Change_Current2</th><th scope=col>Region_Change_Previous2</th></tr></thead>\n",
       "<tbody>\n",
       "\t<tr><th scope=row>1</th><td>C1              </td><td>Tokugawa        </td><td>0               </td><td>0               </td><td>18              </td><td>0               </td><td>0               </td><td>0               </td><td>0               </td><td>9               </td><td>...             </td><td>0               </td><td>Degree          </td><td>6               </td><td>AEC             </td><td>AEC             </td><td>Tokugawa        </td><td>4.24917090426708</td><td>4.25467914438503</td><td>1.74224663882142</td><td>1.73493719578427</td></tr>\n",
       "\t<tr><th scope=row>2</th><td>C2              </td><td>Ebony           </td><td>2               </td><td>6               </td><td>0               </td><td>2               </td><td>0               </td><td>2               </td><td>5               </td><td>0               </td><td>...             </td><td>0               </td><td>Masters         </td><td>5               </td><td>AEC             </td><td>AEC             </td><td>Ebony           </td><td>4.24917090426708</td><td>4.25467914438503</td><td>1.74224663882142</td><td>1.73493719578427</td></tr>\n",
       "\t<tr><th scope=row>3</th><td>C3              </td><td>Cosmos          </td><td>0               </td><td>0               </td><td>0               </td><td>0               </td><td>6               </td><td>0               </td><td>0               </td><td>0               </td><td>...             </td><td>1               </td><td>Masters         </td><td>6               </td><td>AMS             </td><td>AMS             </td><td>Cosmos          </td><td>2.7207833228048 </td><td>2.71753681392236</td><td>1.15394837734299</td><td>1.14600577080053</td></tr>\n",
       "\t<tr><th scope=row>4</th><td>C4              </td><td>Centaur         </td><td>2               </td><td>0               </td><td>0               </td><td>0               </td><td>0               </td><td>2               </td><td>0               </td><td>0               </td><td>...             </td><td>0               </td><td>Degree          </td><td>6               </td><td>ACL             </td><td>ANQ             </td><td>Centaur         </td><td>4.08568142610696</td><td>3.37249324420424</td><td>1.73549015180657</td><td>1.59869435496645</td></tr>\n",
       "\t<tr><th scope=row>5</th><td>C5              </td><td>Centaur         </td><td>9               </td><td>2               </td><td>3               </td><td>0               </td><td>2               </td><td>1               </td><td>0               </td><td>1               </td><td>...             </td><td>0               </td><td>Primary         </td><td>7               </td><td>ARK             </td><td>ARK             </td><td>Centaur         </td><td>2.20771513353116</td><td>2.15708502024291</td><td>1.60359649671747</td><td>1.56634103408777</td></tr>\n",
       "\t<tr><th scope=row>6</th><td>C6              </td><td>Tokugawa        </td><td>0               </td><td>3               </td><td>8               </td><td>0               </td><td>0               </td><td>0               </td><td>1               </td><td>1               </td><td>...             </td><td>1               </td><td>Masters         </td><td>8               </td><td>ANQ             </td><td>ANQ             </td><td>Tokugawa        </td><td>4.08568142610696</td><td>4.07543753771877</td><td>1.73549015180657</td><td>1.75147220344362</td></tr>\n",
       "</tbody>\n",
       "</table>\n"
      ],
      "text/latex": [
       "\\begin{tabular}{r|llllllllllllllllllllllllllllllllllllllll}\n",
       "  & Citizen\\_id & party\\_voted\\_past & Donations\\_Centaur & Donations\\_Ebony & Donations\\_Tokuyawa & Donations\\_Odyssey & Donations\\_Cosmos & Centaur\\_rallies\\_indi & Ebony\\_rallies\\_indi & Tokuyawa\\_rallies\\_indi & ... & Home & education & newspapers & previous\\_region & current\\_region & actual\\_vote & Region\\_Change\\_Current & Region\\_Change\\_Previous & Region\\_Change\\_Current2 & Region\\_Change\\_Previous2\\\\\n",
       "\\hline\n",
       "\t1 & C1               & Tokugawa         & 0                & 0                & 18               & 0                & 0                & 0                & 0                & 9                & ...              & 0                & Degree           & 6                & AEC              & AEC              & Tokugawa         & 4.24917090426708 & 4.25467914438503 & 1.74224663882142 & 1.73493719578427\\\\\n",
       "\t2 & C2               & Ebony            & 2                & 6                & 0                & 2                & 0                & 2                & 5                & 0                & ...              & 0                & Masters          & 5                & AEC              & AEC              & Ebony            & 4.24917090426708 & 4.25467914438503 & 1.74224663882142 & 1.73493719578427\\\\\n",
       "\t3 & C3               & Cosmos           & 0                & 0                & 0                & 0                & 6                & 0                & 0                & 0                & ...              & 1                & Masters          & 6                & AMS              & AMS              & Cosmos           & 2.7207833228048  & 2.71753681392236 & 1.15394837734299 & 1.14600577080053\\\\\n",
       "\t4 & C4               & Centaur          & 2                & 0                & 0                & 0                & 0                & 2                & 0                & 0                & ...              & 0                & Degree           & 6                & ACL              & ANQ              & Centaur          & 4.08568142610696 & 3.37249324420424 & 1.73549015180657 & 1.59869435496645\\\\\n",
       "\t5 & C5               & Centaur          & 9                & 2                & 3                & 0                & 2                & 1                & 0                & 1                & ...              & 0                & Primary          & 7                & ARK              & ARK              & Centaur          & 2.20771513353116 & 2.15708502024291 & 1.60359649671747 & 1.56634103408777\\\\\n",
       "\t6 & C6               & Tokugawa         & 0                & 3                & 8                & 0                & 0                & 0                & 1                & 1                & ...              & 1                & Masters          & 8                & ANQ              & ANQ              & Tokugawa         & 4.08568142610696 & 4.07543753771877 & 1.73549015180657 & 1.75147220344362\\\\\n",
       "\\end{tabular}\n"
      ],
      "text/plain": [
       "  Citizen_id party_voted_past Donations_Centaur Donations_Ebony\n",
       "1         C1         Tokugawa                 0               0\n",
       "2         C2            Ebony                 2               6\n",
       "3         C3           Cosmos                 0               0\n",
       "4         C4          Centaur                 2               0\n",
       "5         C5          Centaur                 9               2\n",
       "6         C6         Tokugawa                 0               3\n",
       "  Donations_Tokuyawa Donations_Odyssey Donations_Cosmos Centaur_rallies_indi\n",
       "1                 18                 0                0                    0\n",
       "2                  0                 2                0                    2\n",
       "3                  0                 0                6                    0\n",
       "4                  0                 0                0                    2\n",
       "5                  3                 0                2                    1\n",
       "6                  8                 0                0                    0\n",
       "  Ebony_rallies_indi Tokuyawa_rallies_indi ... Home education newspapers\n",
       "1                  0                     9 ...    0    Degree          6\n",
       "2                  5                     0 ...    0   Masters          5\n",
       "3                  0                     0 ...    1   Masters          6\n",
       "4                  0                     0 ...    0    Degree          6\n",
       "5                  0                     1 ...    0   Primary          7\n",
       "6                  1                     1 ...    1   Masters          8\n",
       "  previous_region current_region actual_vote Region_Change_Current\n",
       "1             AEC            AEC    Tokugawa              4.249171\n",
       "2             AEC            AEC       Ebony              4.249171\n",
       "3             AMS            AMS      Cosmos              2.720783\n",
       "4             ACL            ANQ     Centaur              4.085681\n",
       "5             ARK            ARK     Centaur              2.207715\n",
       "6             ANQ            ANQ    Tokugawa              4.085681\n",
       "  Region_Change_Previous Region_Change_Current2 Region_Change_Previous2\n",
       "1               4.254679               1.742247                1.734937\n",
       "2               4.254679               1.742247                1.734937\n",
       "3               2.717537               1.153948                1.146006\n",
       "4               3.372493               1.735490                1.598694\n",
       "5               2.157085               1.603596                1.566341\n",
       "6               4.075438               1.735490                1.751472"
      ]
     },
     "metadata": {},
     "output_type": "display_data"
    }
   ],
   "source": [
    "ncol(data_combined)\n",
    "head(data_combined)"
   ]
  },
  {
   "cell_type": "code",
   "execution_count": 85,
   "metadata": {
    "collapsed": false
   },
   "outputs": [
    {
     "data": {
      "text/plain": [
       "\n",
       "    0     1     2     3     4     5     6     7     8     9    10    11    12 \n",
       "45648  8469  6373  3965  3327  2413  2004  1529  1330  1066   913   739   672 \n",
       "   13    14    15    16    17    18    19    20    21 \n",
       "  533   446   393   342   329   246   226   209   164 "
      ]
     },
     "metadata": {},
     "output_type": "display_data"
    }
   ],
   "source": [
    "table(data_combined$Donations_Centaur)"
   ]
  },
  {
   "cell_type": "code",
   "execution_count": 86,
   "metadata": {
    "collapsed": false
   },
   "outputs": [],
   "source": [
    "a=subset(data_combined,party_voted_past==\"Centaur\")"
   ]
  },
  {
   "cell_type": "code",
   "execution_count": 87,
   "metadata": {
    "collapsed": false
   },
   "outputs": [
    {
     "data": {
      "text/plain": [
       "\n",
       "   0    1    2    3    4    5    6    7    8    9   10   11   12   13   14   15 \n",
       " 161 1199 1945 2039 1919 1664 1457 1219 1079  899  787  661  614  475  413  372 \n",
       "  16   17   18   19   20   21 \n",
       " 319  313  238  216  203  157 "
      ]
     },
     "metadata": {},
     "output_type": "display_data"
    }
   ],
   "source": [
    "table(a$Donations_Centaur)"
   ]
  },
  {
   "cell_type": "code",
   "execution_count": 88,
   "metadata": {
    "collapsed": false
   },
   "outputs": [],
   "source": [
    "# do.call(pmax, df[2:26])\n",
    "data_combined$MaxDonation=do.call(pmax,data_combined[,3:7])\n",
    "\n",
    "data_combined$Max_Don[data_combined$Donations_Centaur == data_combined$MaxDonation]=\"Centaur\"\n",
    "data_combined$Max_Don[data_combined$Donations_Ebony == data_combined$MaxDonation]=\"Ebony\"\n",
    "data_combined$Max_Don[data_combined$Donations_Tokuyawa == data_combined$MaxDonation]=\"Tokuyawa\"\n",
    "data_combined$Max_Don[data_combined$Donations_Odyssey == data_combined$MaxDonation]=\"Odyssey\"\n",
    "data_combined$Max_Don[data_combined$Donations_Cosmos == data_combined$MaxDonation]=\"Cosmos\"\n",
    "\n",
    "data_combined$MaxIndividual=do.call(pmax,data_combined[,8:12])\n",
    "\n",
    "data_combined$MaxIndi[data_combined$Centaur_rallies_indi == data_combined$MaxIndividual]=\"Centaur\"\n",
    "data_combined$MaxIndi[data_combined$Ebony_rallies_indi == data_combined$MaxIndividual]=\"Ebony\"\n",
    "data_combined$MaxIndi[data_combined$Tokuyawa_rallies_indi == data_combined$MaxIndividual]=\"Tokuyawa\"\n",
    "data_combined$MaxIndi[data_combined$Odyssey_rallies_indi == data_combined$MaxIndividual]=\"Odyssey\"\n",
    "data_combined$MaxIndi[data_combined$Cosmos_rallies_indi == data_combined$MaxIndividual]=\"Cosmos\"\n",
    "\n",
    "data_combined$MaxGroup=do.call(pmax,data_combined[,13:17])\n",
    "\n",
    "data_combined$MaxGr[data_combined$Centaur_rallies_gr == data_combined$MaxGroup]=\"Centaur\"\n",
    "data_combined$MaxGr[data_combined$Ebony_rallies_gr == data_combined$MaxGroup]=\"Ebony\"\n",
    "data_combined$MaxGr[data_combined$Tokuyawa_rallies_gr == data_combined$MaxGroup]=\"Tokuyawa\"\n",
    "data_combined$MaxGr[data_combined$Odyssey_rallies_gr == data_combined$MaxGroup]=\"Odyssey\"\n",
    "data_combined$MaxGr[data_combined$Cosmos_rallies_gr == data_combined$MaxGroup]=\"Cosmos\"\n",
    "\n",
    "data_combined$MaxFundRaisers=do.call(pmax,data_combined[,18:22])\n",
    "\n",
    "data_combined$MaxFR[data_combined$fund_raisers_Centaur == data_combined$MaxFundRaisers]=\"Centaur\"\n",
    "data_combined$MaxFR[data_combined$fund_raisers_Ebony == data_combined$MaxFundRaisers]=\"Ebony\"\n",
    "data_combined$MaxFR[data_combined$fund_raisers_Tokuyawa == data_combined$MaxFundRaisers]=\"Tokuyawa\"\n",
    "data_combined$MaxFR[data_combined$fund_raisers_Odyssey == data_combined$MaxFundRaisers]=\"Odyssey\"\n",
    "data_combined$MaxFR[data_combined$fund_raisers_Cosmos == data_combined$MaxFundRaisers]=\"Cosmos\"\n",
    "\n",
    "data_combined$MaxVolunteer=do.call(pmax,data_combined[,23:27])\n",
    "\n",
    "data_combined$MaxVol[data_combined$volunteered_Centaur == data_combined$MaxVolunteer]=\"Centaur\"\n",
    "data_combined$MaxVol[data_combined$volunteered_Ebony == data_combined$MaxVolunteer]=\"Ebony\"\n",
    "data_combined$MaxVol[data_combined$volunteered_Tokuyawa == data_combined$MaxVolunteer]=\"Tokuyawa\"\n",
    "data_combined$MaxVol[data_combined$volunteered_Odyssey == data_combined$MaxVolunteer]=\"Odyssey\"\n",
    "data_combined$MaxVol[data_combined$volunteered_Cosmos == data_combined$MaxVolunteer]=\"Cosmos\""
   ]
  },
  {
   "cell_type": "code",
   "execution_count": 89,
   "metadata": {
    "collapsed": true
   },
   "outputs": [],
   "source": [
    "data_combined$MinDonation=do.call(pmin,data_combined[,3:7])\n",
    "\n",
    "data_combined$Min_Don[data_combined$Donations_Centaur == data_combined$MinDonation]=\"Centaur\"\n",
    "data_combined$Min_Don[data_combined$Donations_Ebony == data_combined$MinDonation]=\"Ebony\"\n",
    "data_combined$Min_Don[data_combined$Donations_Tokuyawa == data_combined$MinDonation]=\"Tokuyawa\"\n",
    "data_combined$Min_Don[data_combined$Donations_Odyssey == data_combined$MinDonation]=\"Odyssey\"\n",
    "data_combined$Min_Don[data_combined$Donations_Cosmos == data_combined$MinDonation]=\"Cosmos\"\n",
    "\n",
    "data_combined$TotalDon= data_combined$Donations_Centaur + data_combined$Donations_Ebony +\n",
    "                        data_combined$Donations_Tokuyawa + data_combined$Donations_Odyssey + data_combined$Donations_Cosmos\n",
    "            "
   ]
  },
  {
   "cell_type": "code",
   "execution_count": null,
   "metadata": {
    "collapsed": true
   },
   "outputs": [],
   "source": []
  },
  {
   "cell_type": "code",
   "execution_count": 102,
   "metadata": {
    "collapsed": false
   },
   "outputs": [
    {
     "data": {
      "text/html": [
       "<table>\n",
       "<thead><tr><th></th><th scope=col>Citizen_id</th><th scope=col>party_voted_past</th><th scope=col>Donations_Centaur</th><th scope=col>Donations_Ebony</th><th scope=col>Donations_Tokuyawa</th><th scope=col>Donations_Odyssey</th><th scope=col>Donations_Cosmos</th><th scope=col>Centaur_rallies_indi</th><th scope=col>Ebony_rallies_indi</th><th scope=col>Tokuyawa_rallies_indi</th><th scope=col>...</th><th scope=col>Var3_part1</th><th scope=col>Var3_part2</th><th scope=col>Var3_part3</th><th scope=col>Var4_part1</th><th scope=col>Var4_part2</th><th scope=col>Var4_part3</th><th scope=col>Var5_part1</th><th scope=col>Var5_part2</th><th scope=col>Var5_part3</th><th scope=col>final</th></tr></thead>\n",
       "<tbody>\n",
       "\t<tr><th scope=row>1</th><td>C1      </td><td>Tokugawa</td><td>0       </td><td>0       </td><td>18      </td><td>0       </td><td>0       </td><td>0       </td><td>0       </td><td>9       </td><td>...     </td><td>1       </td><td>0       </td><td>0       </td><td>0       </td><td>0       </td><td>1       </td><td>1       </td><td>0       </td><td>0       </td><td>0       </td></tr>\n",
       "\t<tr><th scope=row>2</th><td>C2   </td><td>Ebony</td><td>2    </td><td>6    </td><td>0    </td><td>2    </td><td>0    </td><td>2    </td><td>5    </td><td>0    </td><td>...  </td><td>0    </td><td>1    </td><td>0    </td><td>1    </td><td>0    </td><td>0    </td><td>1    </td><td>0    </td><td>0    </td><td>0    </td></tr>\n",
       "\t<tr><th scope=row>3</th><td>C3    </td><td>Cosmos</td><td>0     </td><td>0     </td><td>0     </td><td>0     </td><td>6     </td><td>0     </td><td>0     </td><td>0     </td><td>...   </td><td>1     </td><td>0     </td><td>0     </td><td>1     </td><td>0     </td><td>0     </td><td>0     </td><td>1     </td><td>0     </td><td>0     </td></tr>\n",
       "\t<tr><th scope=row>4</th><td>C4     </td><td>Centaur</td><td>2      </td><td>0      </td><td>0      </td><td>0      </td><td>0      </td><td>2      </td><td>0      </td><td>0      </td><td>...    </td><td>1      </td><td>0      </td><td>0      </td><td>1      </td><td>0      </td><td>0      </td><td>1      </td><td>0      </td><td>0      </td><td>0      </td></tr>\n",
       "\t<tr><th scope=row>5</th><td>C5     </td><td>Centaur</td><td>9      </td><td>2      </td><td>3      </td><td>0      </td><td>2      </td><td>1      </td><td>0      </td><td>1      </td><td>...    </td><td>1      </td><td>0      </td><td>0      </td><td>0      </td><td>1      </td><td>0      </td><td>0      </td><td>1      </td><td>0      </td><td>0      </td></tr>\n",
       "\t<tr><th scope=row>6</th><td>C6      </td><td>Tokugawa</td><td>0       </td><td>3       </td><td>8       </td><td>0       </td><td>0       </td><td>0       </td><td>1       </td><td>1       </td><td>...     </td><td>1       </td><td>0       </td><td>0       </td><td>0       </td><td>1       </td><td>0       </td><td>1       </td><td>0       </td><td>0       </td><td>0       </td></tr>\n",
       "</tbody>\n",
       "</table>\n"
      ],
      "text/latex": [
       "\\begin{tabular}{r|llllllllllllllllllllllllllllllllllllllllllllllllllllllllllllllllllllllllll}\n",
       "  & Citizen\\_id & party\\_voted\\_past & Donations\\_Centaur & Donations\\_Ebony & Donations\\_Tokuyawa & Donations\\_Odyssey & Donations\\_Cosmos & Centaur\\_rallies\\_indi & Ebony\\_rallies\\_indi & Tokuyawa\\_rallies\\_indi & ... & Var3\\_part1 & Var3\\_part2 & Var3\\_part3 & Var4\\_part1 & Var4\\_part2 & Var4\\_part3 & Var5\\_part1 & Var5\\_part2 & Var5\\_part3 & final\\\\\n",
       "\\hline\n",
       "\t1 & C1       & Tokugawa & 0        & 0        & 18       & 0        & 0        & 0        & 0        & 9        & ...      & 1        & 0        & 0        & 0        & 0        & 1        & 1        & 0        & 0        & 0       \\\\\n",
       "\t2 & C2    & Ebony & 2     & 6     & 0     & 2     & 0     & 2     & 5     & 0     & ...   & 0     & 1     & 0     & 1     & 0     & 0     & 1     & 0     & 0     & 0    \\\\\n",
       "\t3 & C3     & Cosmos & 0      & 0      & 0      & 0      & 6      & 0      & 0      & 0      & ...    & 1      & 0      & 0      & 1      & 0      & 0      & 0      & 1      & 0      & 0     \\\\\n",
       "\t4 & C4      & Centaur & 2       & 0       & 0       & 0       & 0       & 2       & 0       & 0       & ...     & 1       & 0       & 0       & 1       & 0       & 0       & 1       & 0       & 0       & 0      \\\\\n",
       "\t5 & C5      & Centaur & 9       & 2       & 3       & 0       & 2       & 1       & 0       & 1       & ...     & 1       & 0       & 0       & 0       & 1       & 0       & 0       & 1       & 0       & 0      \\\\\n",
       "\t6 & C6       & Tokugawa & 0        & 3        & 8        & 0        & 0        & 0        & 1        & 1        & ...      & 1        & 0        & 0        & 0        & 1        & 0        & 1        & 0        & 0        & 0       \\\\\n",
       "\\end{tabular}\n"
      ],
      "text/plain": [
       "  Citizen_id party_voted_past Donations_Centaur Donations_Ebony\n",
       "1         C1         Tokugawa                 0               0\n",
       "2         C2            Ebony                 2               6\n",
       "3         C3           Cosmos                 0               0\n",
       "4         C4          Centaur                 2               0\n",
       "5         C5          Centaur                 9               2\n",
       "6         C6         Tokugawa                 0               3\n",
       "  Donations_Tokuyawa Donations_Odyssey Donations_Cosmos Centaur_rallies_indi\n",
       "1                 18                 0                0                    0\n",
       "2                  0                 2                0                    2\n",
       "3                  0                 0                6                    0\n",
       "4                  0                 0                0                    2\n",
       "5                  3                 0                2                    1\n",
       "6                  8                 0                0                    0\n",
       "  Ebony_rallies_indi Tokuyawa_rallies_indi ... Var3_part1 Var3_part2 Var3_part3\n",
       "1                  0                     9 ...          1          0          0\n",
       "2                  5                     0 ...          0          1          0\n",
       "3                  0                     0 ...          1          0          0\n",
       "4                  0                     0 ...          1          0          0\n",
       "5                  0                     1 ...          1          0          0\n",
       "6                  1                     1 ...          1          0          0\n",
       "  Var4_part1 Var4_part2 Var4_part3 Var5_part1 Var5_part2 Var5_part3 final\n",
       "1          0          0          1          1          0          0     0\n",
       "2          1          0          0          1          0          0     0\n",
       "3          1          0          0          0          1          0     0\n",
       "4          1          0          0          1          0          0     0\n",
       "5          0          1          0          0          1          0     0\n",
       "6          0          1          0          1          0          0     0"
      ]
     },
     "metadata": {},
     "output_type": "display_data"
    }
   ],
   "source": [
    "head(data_combined)"
   ]
  },
  {
   "cell_type": "code",
   "execution_count": 101,
   "metadata": {
    "collapsed": false
   },
   "outputs": [],
   "source": [
    "data_combined$final[data_combined$Min_Don == data_combined$actual_vote & data_combined$TotalDon > 0]=1\n",
    "data_combined$final[data_combined$Min_Don != data_combined$actual_vote]=0"
   ]
  },
  {
   "cell_type": "code",
   "execution_count": 105,
   "metadata": {
    "collapsed": false
   },
   "outputs": [
    {
     "data": {
      "text/plain": [
       "\n",
       "    0     1 \n",
       "79507  1829 "
      ]
     },
     "metadata": {},
     "output_type": "display_data"
    }
   ],
   "source": [
    "table(data_combined$final)"
   ]
  },
  {
   "cell_type": "code",
   "execution_count": 107,
   "metadata": {
    "collapsed": false
   },
   "outputs": [
    {
     "data": {
      "text/html": [
       "60129"
      ],
      "text/latex": [
       "60129"
      ],
      "text/markdown": [
       "60129"
      ],
      "text/plain": [
       "[1] 60129"
      ]
     },
     "metadata": {},
     "output_type": "display_data"
    }
   ],
   "source": [
    "nrow(train)"
   ]
  },
  {
   "cell_type": "code",
   "execution_count": 93,
   "metadata": {
    "collapsed": true
   },
   "outputs": [],
   "source": [
    "# #Creating Dummies\n",
    "# data_combined=cbind(data_combined,model.matrix( ~ Household_size - 1, data=data_combined ))\n",
    "# data_combined=cbind(data_combined,model.matrix( ~ Age - 1, data=data_combined ))\n",
    "# data_combined=cbind(data_combined,model.matrix( ~ newspapers - 1, data=data_combined ))"
   ]
  },
  {
   "cell_type": "code",
   "execution_count": null,
   "metadata": {
    "collapsed": true
   },
   "outputs": [],
   "source": []
  },
  {
   "cell_type": "code",
   "execution_count": 94,
   "metadata": {
    "collapsed": false
   },
   "outputs": [],
   "source": [
    "#Creating Parts of Current_Region_1\n",
    "\n",
    "data_combined$Var1_part[data_combined$Donations_Centaur == 0 ] = 1\n",
    "data_combined$Var1_part[data_combined$Donations_Centaur >0 &   data_combined$Donations_Centaur <10 ] = 2\n",
    "data_combined$Var1_part[data_combined$Donations_Centaur >=10 &   data_combined$Donations_Centaur <=21 ] = 3\n",
    "\n",
    "data_combined$Var2_part[data_combined$Donations_Ebony ==0 ] = 1\n",
    "data_combined$Var2_part[data_combined$Donations_Ebony >0 &   data_combined$Donations_Ebony <10 ] = 2\n",
    "data_combined$Var2_part[data_combined$Donations_Ebony >=10 &   data_combined$Donations_Ebony <=21 ] = 3\n",
    "\n",
    "data_combined$Var3_part[ data_combined$Donations_Odyssey ==0 ] = 1\n",
    "data_combined$Var3_part[data_combined$Donations_Odyssey >0 &   data_combined$Donations_Odyssey <10 ] = 2\n",
    "data_combined$Var3_part[data_combined$Donations_Odyssey >=10 &   data_combined$Donations_Odyssey <=21 ] = 3\n",
    "\n",
    "data_combined$Var4_part[data_combined$Donations_Tokuyawa ==0 ] = 1\n",
    "data_combined$Var4_part[data_combined$Donations_Tokuyawa >0 &   data_combined$Donations_Tokuyawa <10 ] = 2\n",
    "data_combined$Var4_part[data_combined$Donations_Tokuyawa >=10 &   data_combined$Donations_Tokuyawa <=21 ] = 3\n",
    "\n",
    "data_combined$Var5_part[data_combined$Donations_Cosmos ==0 ] = 1\n",
    "data_combined$Var5_part[data_combined$Donations_Cosmos >0 &   data_combined$Donations_Cosmos <10 ] = 2\n",
    "data_combined$Var5_part[data_combined$Donations_Cosmos >=10 &   data_combined$Donations_Cosmos <=21 ] = 3\n"
   ]
  },
  {
   "cell_type": "code",
   "execution_count": 95,
   "metadata": {
    "collapsed": false
   },
   "outputs": [
    {
     "data": {
      "text/plain": [
       "\n",
       "    1     2     3 \n",
       "45648 30476  5212 "
      ]
     },
     "metadata": {},
     "output_type": "display_data"
    }
   ],
   "source": [
    "table(data_combined$Var1_part)"
   ]
  },
  {
   "cell_type": "code",
   "execution_count": 96,
   "metadata": {
    "collapsed": false
   },
   "outputs": [],
   "source": [
    "data_combined$Var1_part=as.factor(data_combined$Var1_part)\n",
    "data_combined$Var2_part=as.factor(data_combined$Var2_part)\n",
    "data_combined$Var3_part=as.factor(data_combined$Var3_part)\n",
    "data_combined$Var4_part=as.factor(data_combined$Var4_part)\n",
    "data_combined$Var5_part=as.factor(data_combined$Var5_part)\n",
    "\n",
    "#Creating Dummies\n",
    "data_combined=cbind(data_combined,model.matrix( ~ Var1_part - 1, data=data_combined ))\n",
    "data_combined=cbind(data_combined,model.matrix( ~ Var2_part - 1, data=data_combined ))\n",
    "data_combined=cbind(data_combined,model.matrix( ~ Var3_part - 1, data=data_combined ))\n",
    "data_combined=cbind(data_combined,model.matrix( ~ Var4_part - 1, data=data_combined ))\n",
    "data_combined=cbind(data_combined,model.matrix( ~ Var5_part - 1, data=data_combined ))\n",
    "# data_combined=cbind(data_combined,model.matrix( ~ Household_size - 1, data=data_combined ))\n",
    "# data_combined=cbind(data_combined,model.matrix( ~ Age - 1, data=data_combined ))\n",
    "# data_combined=cbind(data_combined,model.matrix( ~ newspapers - 1, data=data_combined ))"
   ]
  },
  {
   "cell_type": "code",
   "execution_count": 97,
   "metadata": {
    "collapsed": false
   },
   "outputs": [
    {
     "name": "stdout",
     "output_type": "stream",
     "text": [
      "'data.frame':\t81336 obs. of  73 variables:\n",
      " $ Citizen_id             : Factor w/ 81336 levels \"C1\",\"C10\",\"C100\",..: 1 11112 22223 33334 44445 55556 56797 67907 79018 2 ...\n",
      " $ party_voted_past       : Factor w/ 5 levels \"Centaur\",\"Cosmos\",..: 5 3 2 1 1 5 2 2 1 3 ...\n",
      " $ Donations_Centaur      : int  0 2 0 2 9 0 0 0 13 8 ...\n",
      " $ Donations_Ebony        : int  0 6 0 0 2 3 3 0 0 0 ...\n",
      " $ Donations_Tokuyawa     : int  18 0 0 0 3 8 1 2 0 0 ...\n",
      " $ Donations_Odyssey      : int  0 2 0 0 0 0 0 0 3 0 ...\n",
      " $ Donations_Cosmos       : int  0 0 6 0 2 0 4 3 0 0 ...\n",
      " $ Centaur_rallies_indi   : int  0 2 0 2 1 0 0 0 5 2 ...\n",
      " $ Ebony_rallies_indi     : int  0 5 0 0 0 1 1 0 0 0 ...\n",
      " $ Tokuyawa_rallies_indi  : int  9 0 0 0 1 1 0 1 0 0 ...\n",
      " $ Odyssey_rallies_indi   : int  0 2 0 0 0 0 0 0 1 0 ...\n",
      " $ Cosmos_rallies_indi    : int  0 0 6 0 0 0 0 0 0 0 ...\n",
      " $ Centaur_rallies_gr     : int  0 0 0 0 2 0 0 0 4 3 ...\n",
      " $ Ebony_rallies_gr       : int  0 0 0 0 0 0 1 0 0 0 ...\n",
      " $ Tokuyawa_rallies_gr    : int  3 0 0 0 0 1 0 0 0 0 ...\n",
      " $ Odyssey_rallies_gr     : int  0 0 0 0 0 0 0 0 1 0 ...\n",
      " $ Cosmos_rallies_gr      : int  0 0 0 0 0 0 1 1 0 0 ...\n",
      " $ fund_raisers_Centaur   : int  0 0 0 0 2 0 0 0 0 0 ...\n",
      " $ fund_raisers_Ebony     : int  0 1 0 0 1 1 0 0 0 0 ...\n",
      " $ fund_raisers_Tokuyawa  : int  2 0 0 0 2 2 1 1 0 0 ...\n",
      " $ fund_raisers_Odyssey   : int  0 0 0 0 0 0 0 0 0 0 ...\n",
      " $ fund_raisers_Cosmos    : int  0 0 0 0 1 0 0 0 0 0 ...\n",
      " $ volunteered_Centaur    : int  0 5 0 15 10 0 0 0 15 15 ...\n",
      " $ volunteered_Ebony      : int  0 10 0 15 15 15 5 0 0 15 ...\n",
      " $ volunteered_Tokuyawa   : int  15 0 0 0 15 15 0 15 0 0 ...\n",
      " $ volunteered_Odyssey    : int  0 15 0 0 0 0 0 0 15 0 ...\n",
      " $ volunteered_Cosmos     : int  0 0 15 0 7 0 3 15 0 0 ...\n",
      " $ Household_size         : Factor w/ 8 levels \"1\",\"2\",\"3\",\"4\",..: 3 3 1 1 4 3 2 1 1 4 ...\n",
      " $ Age                    : Factor w/ 5 levels \"18-24\",\"25-35\",..: 2 1 4 3 2 4 2 2 1 4 ...\n",
      " $ Married                : Factor w/ 3 levels \"-1\",\"0\",\"1\": 3 3 3 3 3 3 3 3 2 2 ...\n",
      " $ Home                   : Factor w/ 3 levels \"-1\",\"0\",\"1\": 2 2 3 2 2 3 2 2 2 3 ...\n",
      " $ education              : Factor w/ 5 levels \"\",\"Degree\",\"Diploma\",..: 2 4 4 2 5 4 3 3 2 5 ...\n",
      " $ newspapers             : Factor w/ 12 levels \"0\",\"1\",\"2\",\"3\",..: 7 6 7 7 8 9 8 7 6 7 ...\n",
      " $ previous_region        : Factor w/ 488 levels \"AAB\",\"AAC\",\"AAE\",..: 66 66 222 39 306 240 376 156 66 39 ...\n",
      " $ current_region         : Factor w/ 486 levels \"AAB\",\"AAC\",\"AAE\",..: 68 68 231 248 310 248 378 248 134 397 ...\n",
      " $ actual_vote            : Factor w/ 6 levels \"Centaur\",\"Cosmos\",..: 6 3 2 1 1 6 2 6 1 1 ...\n",
      " $ Region_Change_Current  : num  4.25 4.25 2.72 4.09 2.21 ...\n",
      " $ Region_Change_Previous : num  4.25 4.25 2.72 3.37 2.16 ...\n",
      " $ Region_Change_Current2 : num  1.74 1.74 1.15 1.74 1.6 ...\n",
      " $ Region_Change_Previous2: num  1.73 1.73 1.15 1.6 1.57 ...\n",
      " $ MaxDonation            : int  18 6 6 2 9 8 4 3 13 8 ...\n",
      " $ Max_Don                : chr  \"Tokuyawa\" \"Ebony\" \"Cosmos\" \"Centaur\" ...\n",
      " $ MaxIndividual          : int  9 5 6 2 1 1 1 1 5 2 ...\n",
      " $ MaxIndi                : chr  \"Tokuyawa\" \"Ebony\" \"Cosmos\" \"Centaur\" ...\n",
      " $ MaxGroup               : int  3 0 0 0 2 1 1 1 4 3 ...\n",
      " $ MaxGr                  : chr  \"Tokuyawa\" \"Cosmos\" \"Cosmos\" \"Cosmos\" ...\n",
      " $ MaxFundRaisers         : int  2 1 0 0 2 2 1 1 0 0 ...\n",
      " $ MaxFR                  : chr  \"Tokuyawa\" \"Ebony\" \"Cosmos\" \"Cosmos\" ...\n",
      " $ MaxVolunteer           : int  15 15 15 15 15 15 5 15 15 15 ...\n",
      " $ MaxVol                 : chr  \"Tokuyawa\" \"Odyssey\" \"Cosmos\" \"Ebony\" ...\n",
      " $ MinDonation            : int  0 0 0 0 0 0 0 0 0 0 ...\n",
      " $ Min_Don                : chr  \"Cosmos\" \"Cosmos\" \"Odyssey\" \"Cosmos\" ...\n",
      " $ TotalDon               : int  18 10 6 2 16 11 8 5 16 8 ...\n",
      " $ Var1_part              : Factor w/ 3 levels \"1\",\"2\",\"3\": 1 2 1 2 2 1 1 1 3 2 ...\n",
      " $ Var2_part              : Factor w/ 3 levels \"1\",\"2\",\"3\": 1 2 1 1 2 2 2 1 1 1 ...\n",
      " $ Var3_part              : Factor w/ 3 levels \"1\",\"2\",\"3\": 1 2 1 1 1 1 1 1 2 1 ...\n",
      " $ Var4_part              : Factor w/ 3 levels \"1\",\"2\",\"3\": 3 1 1 1 2 2 2 2 1 1 ...\n",
      " $ Var5_part              : Factor w/ 3 levels \"1\",\"2\",\"3\": 1 1 2 1 2 1 2 2 1 1 ...\n",
      " $ Var1_part1             : num  1 0 1 0 0 1 1 1 0 0 ...\n",
      " $ Var1_part2             : num  0 1 0 1 1 0 0 0 0 1 ...\n",
      " $ Var1_part3             : num  0 0 0 0 0 0 0 0 1 0 ...\n",
      " $ Var2_part1             : num  1 0 1 1 0 0 0 1 1 1 ...\n",
      " $ Var2_part2             : num  0 1 0 0 1 1 1 0 0 0 ...\n",
      " $ Var2_part3             : num  0 0 0 0 0 0 0 0 0 0 ...\n",
      " $ Var3_part1             : num  1 0 1 1 1 1 1 1 0 1 ...\n",
      " $ Var3_part2             : num  0 1 0 0 0 0 0 0 1 0 ...\n",
      " $ Var3_part3             : num  0 0 0 0 0 0 0 0 0 0 ...\n",
      " $ Var4_part1             : num  0 1 1 1 0 0 0 0 1 1 ...\n",
      " $ Var4_part2             : num  0 0 0 0 1 1 1 1 0 0 ...\n",
      " $ Var4_part3             : num  1 0 0 0 0 0 0 0 0 0 ...\n",
      " $ Var5_part1             : num  1 1 0 1 0 1 0 0 1 1 ...\n",
      " $ Var5_part2             : num  0 0 1 0 1 0 1 1 0 0 ...\n",
      " $ Var5_part3             : num  0 0 0 0 0 0 0 0 0 0 ...\n"
     ]
    }
   ],
   "source": [
    "str(data_combined)"
   ]
  },
  {
   "cell_type": "code",
   "execution_count": 98,
   "metadata": {
    "collapsed": false
   },
   "outputs": [
    {
     "data": {
      "text/plain": [
       "\n",
       "    0     1     2     3     4     5     6     7     8     9    10    11    12 \n",
       "50854 11930  6447  3681  2337  1554  1144   870   605   459   358   275   209 \n",
       "   13    14    15    16    17    18    19    20    21 \n",
       "  166   135   105    75    58    21    25    20     8 "
      ]
     },
     "metadata": {},
     "output_type": "display_data"
    }
   ],
   "source": [
    "table(data_combined$Centaur_rallies_indi)"
   ]
  },
  {
   "cell_type": "code",
   "execution_count": 99,
   "metadata": {
    "collapsed": false
   },
   "outputs": [],
   "source": [
    "write.csv(data_combined,file=\"data.combined1.csv\",row.names = FALSE)"
   ]
  },
  {
   "cell_type": "code",
   "execution_count": 100,
   "metadata": {
    "collapsed": false
   },
   "outputs": [],
   "source": [
    "write.csv(data_combined[0:nrow(train),],file=\"train1.csv\",row.names = FALSE)"
   ]
  }
 ],
 "metadata": {
  "anaconda-cloud": {},
  "kernelspec": {
   "display_name": "Python [conda env:tensorflow]",
   "language": "python",
   "name": "conda-env-tensorflow-py"
  },
  "language_info": {
   "codemirror_mode": {
    "name": "ipython",
    "version": 3
   },
   "file_extension": ".py",
   "mimetype": "text/x-python",
   "name": "python",
   "nbconvert_exporter": "python",
   "pygments_lexer": "ipython3",
   "version": "3.6.0"
  }
 },
 "nbformat": 4,
 "nbformat_minor": 1
}
