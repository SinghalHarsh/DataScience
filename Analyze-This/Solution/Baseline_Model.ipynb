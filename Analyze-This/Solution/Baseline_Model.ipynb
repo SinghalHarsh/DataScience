{
 "cells": [
  {
   "cell_type": "code",
   "execution_count": 13,
   "metadata": {
    "collapsed": false
   },
   "outputs": [],
   "source": [
    "data_combined=read.csv(\"data.combined.csv\")\n",
    "train=read.csv(\"train.csv\")"
   ]
  },
  {
   "cell_type": "code",
   "execution_count": 14,
   "metadata": {
    "collapsed": true
   },
   "outputs": [],
   "source": [
    "data_combined$newspapers=as.factor(data_combined$newspapers)\n",
    "data_combined$Home=as.factor(data_combined$Home)\n",
    "data_combined$Married=as.factor(data_combined$Married)\n",
    "data_combined$Household_size=as.factor(data_combined$Household_size)"
   ]
  },
  {
   "cell_type": "code",
   "execution_count": 15,
   "metadata": {
    "collapsed": false
   },
   "outputs": [],
   "source": [
    "train=data_combined[0:nrow(train),]\n",
    "test=data_combined[(nrow(train)+1):(nrow(data_combined)),]\n",
    "test$actual_vote=NULL"
   ]
  },
  {
   "cell_type": "code",
   "execution_count": null,
   "metadata": {
    "collapsed": true
   },
   "outputs": [],
   "source": []
  },
  {
   "cell_type": "code",
   "execution_count": 16,
   "metadata": {
    "collapsed": false
   },
   "outputs": [
    {
     "name": "stdout",
     "output_type": "stream",
     "text": [
      " Connection successful!\n",
      "\n",
      "R is connected to the H2O cluster: \n",
      "    H2O cluster uptime:         12 minutes 39 seconds \n",
      "    H2O cluster version:        3.10.0.6 \n",
      "    H2O cluster version age:    1 month and 21 days  \n",
      "    H2O cluster name:           H2O_started_from_R_HARSH_uva175 \n",
      "    H2O cluster total nodes:    1 \n",
      "    H2O cluster total memory:   0.61 GB \n",
      "    H2O cluster total cores:    4 \n",
      "    H2O cluster allowed cores:  4 \n",
      "    H2O cluster healthy:        TRUE \n",
      "    H2O Connection ip:          localhost \n",
      "    H2O Connection port:        54321 \n",
      "    H2O Connection proxy:       NA \n",
      "    R Version:                  R version 3.3.1 (2016-06-21) \n",
      "\n",
      " Connection successful!\n",
      "\n",
      "R is connected to the H2O cluster: \n",
      "    H2O cluster uptime:         12 minutes 39 seconds \n",
      "    H2O cluster version:        3.10.0.6 \n",
      "    H2O cluster version age:    1 month and 21 days  \n",
      "    H2O cluster name:           H2O_started_from_R_HARSH_uva175 \n",
      "    H2O cluster total nodes:    1 \n",
      "    H2O cluster total memory:   0.61 GB \n",
      "    H2O cluster total cores:    4 \n",
      "    H2O cluster allowed cores:  4 \n",
      "    H2O cluster healthy:        TRUE \n",
      "    H2O Connection ip:          localhost \n",
      "    H2O Connection port:        54321 \n",
      "    H2O Connection proxy:       NA \n",
      "    R Version:                  R version 3.3.1 (2016-06-21) \n",
      "\n"
     ]
    }
   ],
   "source": [
    "library(h2o)\n",
    "localH2O <- h2o.init(nthreads = -1)\n",
    "h2o.init()"
   ]
  },
  {
   "cell_type": "code",
   "execution_count": 17,
   "metadata": {
    "collapsed": false
   },
   "outputs": [
    {
     "name": "stdout",
     "output_type": "stream",
     "text": [
      "  |======================================================================| 100%\n",
      "  |======================================================================| 100%\n"
     ]
    }
   ],
   "source": [
    "#data to h2o cluster\n",
    "maintrain.h2o = as.h2o(train)\n",
    "maintest.h2o = as.h2o(test)"
   ]
  },
  {
   "cell_type": "code",
   "execution_count": 18,
   "metadata": {
    "collapsed": false
   },
   "outputs": [
    {
     "data": {
      "text/html": [
       "<ol class=list-inline>\n",
       "\t<li>\"X\"</li>\n",
       "\t<li>\"Citizen_id\"</li>\n",
       "\t<li>\"party_voted_past\"</li>\n",
       "\t<li>\"Donations_Centaur\"</li>\n",
       "\t<li>\"Donations_Ebony\"</li>\n",
       "\t<li>\"Donations_Tokuyawa\"</li>\n",
       "\t<li>\"Donations_Odyssey\"</li>\n",
       "\t<li>\"Donations_Cosmos\"</li>\n",
       "\t<li>\"Centaur_rallies_indi\"</li>\n",
       "\t<li>\"Ebony_rallies_indi\"</li>\n",
       "\t<li>\"Tokuyawa_rallies_indi\"</li>\n",
       "\t<li>\"Odyssey_rallies_indi\"</li>\n",
       "\t<li>\"Cosmos_rallies_indi\"</li>\n",
       "\t<li>\"Centaur_rallies_gr\"</li>\n",
       "\t<li>\"Ebony_rallies_gr\"</li>\n",
       "\t<li>\"Tokuyawa_rallies_gr\"</li>\n",
       "\t<li>\"Odyssey_rallies_gr\"</li>\n",
       "\t<li>\"Cosmos_rallies_gr\"</li>\n",
       "\t<li>\"fund_raisers_Centaur\"</li>\n",
       "\t<li>\"fund_raisers_Ebony\"</li>\n",
       "\t<li>\"fund_raisers_Tokuyawa\"</li>\n",
       "\t<li>\"fund_raisers_Odyssey\"</li>\n",
       "\t<li>\"fund_raisers_Cosmos\"</li>\n",
       "\t<li>\"volunteered_Centaur\"</li>\n",
       "\t<li>\"volunteered_Ebony\"</li>\n",
       "\t<li>\"volunteered_Tokuyawa\"</li>\n",
       "\t<li>\"volunteered_Odyssey\"</li>\n",
       "\t<li>\"volunteered_Cosmos\"</li>\n",
       "\t<li>\"Household_size\"</li>\n",
       "\t<li>\"Age\"</li>\n",
       "\t<li>\"Married\"</li>\n",
       "\t<li>\"Home\"</li>\n",
       "\t<li>\"education\"</li>\n",
       "\t<li>\"newspapers\"</li>\n",
       "\t<li>\"previous_region\"</li>\n",
       "\t<li>\"current_region\"</li>\n",
       "\t<li>\"actual_vote\"</li>\n",
       "</ol>\n"
      ],
      "text/latex": [
       "\\begin{enumerate*}\n",
       "\\item \"X\"\n",
       "\\item \"Citizen\\_id\"\n",
       "\\item \"party\\_voted\\_past\"\n",
       "\\item \"Donations\\_Centaur\"\n",
       "\\item \"Donations\\_Ebony\"\n",
       "\\item \"Donations\\_Tokuyawa\"\n",
       "\\item \"Donations\\_Odyssey\"\n",
       "\\item \"Donations\\_Cosmos\"\n",
       "\\item \"Centaur\\_rallies\\_indi\"\n",
       "\\item \"Ebony\\_rallies\\_indi\"\n",
       "\\item \"Tokuyawa\\_rallies\\_indi\"\n",
       "\\item \"Odyssey\\_rallies\\_indi\"\n",
       "\\item \"Cosmos\\_rallies\\_indi\"\n",
       "\\item \"Centaur\\_rallies\\_gr\"\n",
       "\\item \"Ebony\\_rallies\\_gr\"\n",
       "\\item \"Tokuyawa\\_rallies\\_gr\"\n",
       "\\item \"Odyssey\\_rallies\\_gr\"\n",
       "\\item \"Cosmos\\_rallies\\_gr\"\n",
       "\\item \"fund\\_raisers\\_Centaur\"\n",
       "\\item \"fund\\_raisers\\_Ebony\"\n",
       "\\item \"fund\\_raisers\\_Tokuyawa\"\n",
       "\\item \"fund\\_raisers\\_Odyssey\"\n",
       "\\item \"fund\\_raisers\\_Cosmos\"\n",
       "\\item \"volunteered\\_Centaur\"\n",
       "\\item \"volunteered\\_Ebony\"\n",
       "\\item \"volunteered\\_Tokuyawa\"\n",
       "\\item \"volunteered\\_Odyssey\"\n",
       "\\item \"volunteered\\_Cosmos\"\n",
       "\\item \"Household\\_size\"\n",
       "\\item \"Age\"\n",
       "\\item \"Married\"\n",
       "\\item \"Home\"\n",
       "\\item \"education\"\n",
       "\\item \"newspapers\"\n",
       "\\item \"previous\\_region\"\n",
       "\\item \"current\\_region\"\n",
       "\\item \"actual\\_vote\"\n",
       "\\end{enumerate*}\n"
      ],
      "text/markdown": [
       "1. \"X\"\n",
       "2. \"Citizen_id\"\n",
       "3. \"party_voted_past\"\n",
       "4. \"Donations_Centaur\"\n",
       "5. \"Donations_Ebony\"\n",
       "6. \"Donations_Tokuyawa\"\n",
       "7. \"Donations_Odyssey\"\n",
       "8. \"Donations_Cosmos\"\n",
       "9. \"Centaur_rallies_indi\"\n",
       "10. \"Ebony_rallies_indi\"\n",
       "11. \"Tokuyawa_rallies_indi\"\n",
       "12. \"Odyssey_rallies_indi\"\n",
       "13. \"Cosmos_rallies_indi\"\n",
       "14. \"Centaur_rallies_gr\"\n",
       "15. \"Ebony_rallies_gr\"\n",
       "16. \"Tokuyawa_rallies_gr\"\n",
       "17. \"Odyssey_rallies_gr\"\n",
       "18. \"Cosmos_rallies_gr\"\n",
       "19. \"fund_raisers_Centaur\"\n",
       "20. \"fund_raisers_Ebony\"\n",
       "21. \"fund_raisers_Tokuyawa\"\n",
       "22. \"fund_raisers_Odyssey\"\n",
       "23. \"fund_raisers_Cosmos\"\n",
       "24. \"volunteered_Centaur\"\n",
       "25. \"volunteered_Ebony\"\n",
       "26. \"volunteered_Tokuyawa\"\n",
       "27. \"volunteered_Odyssey\"\n",
       "28. \"volunteered_Cosmos\"\n",
       "29. \"Household_size\"\n",
       "30. \"Age\"\n",
       "31. \"Married\"\n",
       "32. \"Home\"\n",
       "33. \"education\"\n",
       "34. \"newspapers\"\n",
       "35. \"previous_region\"\n",
       "36. \"current_region\"\n",
       "37. \"actual_vote\"\n",
       "\n",
       "\n"
      ],
      "text/plain": [
       " [1] \"X\"                     \"Citizen_id\"            \"party_voted_past\"     \n",
       " [4] \"Donations_Centaur\"     \"Donations_Ebony\"       \"Donations_Tokuyawa\"   \n",
       " [7] \"Donations_Odyssey\"     \"Donations_Cosmos\"      \"Centaur_rallies_indi\" \n",
       "[10] \"Ebony_rallies_indi\"    \"Tokuyawa_rallies_indi\" \"Odyssey_rallies_indi\" \n",
       "[13] \"Cosmos_rallies_indi\"   \"Centaur_rallies_gr\"    \"Ebony_rallies_gr\"     \n",
       "[16] \"Tokuyawa_rallies_gr\"   \"Odyssey_rallies_gr\"    \"Cosmos_rallies_gr\"    \n",
       "[19] \"fund_raisers_Centaur\"  \"fund_raisers_Ebony\"    \"fund_raisers_Tokuyawa\"\n",
       "[22] \"fund_raisers_Odyssey\"  \"fund_raisers_Cosmos\"   \"volunteered_Centaur\"  \n",
       "[25] \"volunteered_Ebony\"     \"volunteered_Tokuyawa\"  \"volunteered_Odyssey\"  \n",
       "[28] \"volunteered_Cosmos\"    \"Household_size\"        \"Age\"                  \n",
       "[31] \"Married\"               \"Home\"                  \"education\"            \n",
       "[34] \"newspapers\"            \"previous_region\"       \"current_region\"       \n",
       "[37] \"actual_vote\"          "
      ]
     },
     "metadata": {},
     "output_type": "display_data"
    }
   ],
   "source": [
    "colnames(maintrain.h2o)"
   ]
  },
  {
   "cell_type": "code",
   "execution_count": 19,
   "metadata": {
    "collapsed": false
   },
   "outputs": [
    {
     "name": "stdout",
     "output_type": "stream",
     "text": [
      "\r",
      "  |                                                                            \r",
      "  |                                                                      |   0%\r",
      "  |                                                                            \r",
      "  |=======                                                               |  10%\r",
      "  |                                                                            \r",
      "  |==============                                                        |  20%\r",
      "  |                                                                            \r",
      "  |=====================                                                 |  30%\r",
      "  |                                                                            \r",
      "  |============================                                          |  40%\r",
      "  |                                                                            \r",
      "  |===================================                                   |  50%\r",
      "  |                                                                            \r",
      "  |=================================================                     |  70%\r",
      "  |                                                                            \r",
      "  |========================================================              |  80%\r",
      "  |                                                                            \r",
      "  |===============================================================       |  90%\r",
      "  |                                                                            \r",
      "  |======================================================================| 100%\n"
     ]
    }
   ],
   "source": [
    "fit1=h2o.randomForest(y='actual_vote',x=c( \"party_voted_past\", \"Donations_Centaur\", \"Donations_Ebony\", \"Donations_Tokuyawa\",\n",
    "                                          \"Donations_Odyssey\" ,\"Donations_Cosmos\",\n",
    "                                          \"Centaur_rallies_indi\" ,\"Ebony_rallies_indi\", \"Tokuyawa_rallies_indi\" ,\n",
    "                                          \"Odyssey_rallies_indi\", \"Cosmos_rallies_indi\",\n",
    "                                          \"Centaur_rallies_gr\" ,\"Ebony_rallies_gr\" ,\"Tokuyawa_rallies_gr\",\n",
    "                                          \"Odyssey_rallies_gr\", \"Cosmos_rallies_gr\" ,\n",
    "                                          \"fund_raisers_Centaur\" ,\"fund_raisers_Ebony\", \"fund_raisers_Tokuyawa\" ,\n",
    "                                          \"fund_raisers_Odyssey\" ,\"fund_raisers_Cosmos\",\n",
    "                                          \"volunteered_Centaur\" ,\"volunteered_Ebony\" ,\"volunteered_Tokuyawa\" ,\n",
    "                                          \"volunteered_Odyssey\", \"volunteered_Cosmos\",\n",
    "                                          \"Household_size\" ,\"Age\" ,\"Married\", \"Home\" ,\"education\", \"newspapers\"),\n",
    "                                          training_frame=maintrain.h2o, ntree=10)"
   ]
  },
  {
   "cell_type": "code",
   "execution_count": 26,
   "metadata": {
    "collapsed": false
   },
   "outputs": [
    {
     "name": "stdout",
     "output_type": "stream",
     "text": [
      "\r",
      "  |                                                                            \r",
      "  |                                                                      |   0%\r",
      "  |                                                                            \r",
      "  |======================================================================| 100%\n"
     ]
    }
   ],
   "source": [
    "pred=h2o.predict(fit1,newdata=maintest.h2o)\n",
    "pred=as.data.frame(pred)\n",
    "Submit = data.frame(Citizen_id=test$Citizen_id,actual_vote=pred)\n",
    "colnames(Submit) = NULL\n",
    "Submit=Submit[,1:2]\n",
    "write.csv(Submit,file=\"submit.csv\",row.names=FALSE)"
   ]
  },
  {
   "cell_type": "code",
   "execution_count": 27,
   "metadata": {
    "collapsed": false
   },
   "outputs": [
    {
     "data": {
      "text/html": [
       "<table>\n",
       "<tbody>\n",
       "\t<tr><th scope=row>1</th><td>C70001 </td><td>Centaur</td></tr>\n",
       "\t<tr><th scope=row>2</th><td>C70002  </td><td>Tokugawa</td></tr>\n",
       "\t<tr><th scope=row>3</th><td>C70003 </td><td>Centaur</td></tr>\n",
       "\t<tr><th scope=row>4</th><td>C70004 </td><td>Odyssey</td></tr>\n",
       "\t<tr><th scope=row>5</th><td>C70005</td><td>Cosmos</td></tr>\n",
       "\t<tr><th scope=row>6</th><td>C70006</td><td>Ebony </td></tr>\n",
       "</tbody>\n",
       "</table>\n"
      ],
      "text/latex": [
       "\\begin{tabular}{r|ll}\n",
       "\t1 & C70001  & Centaur\\\\\n",
       "\t2 & C70002   & Tokugawa\\\\\n",
       "\t3 & C70003  & Centaur\\\\\n",
       "\t4 & C70004  & Odyssey\\\\\n",
       "\t5 & C70005 & Cosmos\\\\\n",
       "\t6 & C70006 & Ebony \\\\\n",
       "\\end{tabular}\n"
      ],
      "text/plain": [
       "                 \n",
       "1 C70001  Centaur\n",
       "2 C70002 Tokugawa\n",
       "3 C70003  Centaur\n",
       "4 C70004  Odyssey\n",
       "5 C70005   Cosmos\n",
       "6 C70006    Ebony"
      ]
     },
     "metadata": {},
     "output_type": "display_data"
    }
   ],
   "source": [
    "head(Submit)"
   ]
  }
 ],
 "metadata": {
  "anaconda-cloud": {},
  "kernelspec": {
   "display_name": "Python [conda env:tensorflow]",
   "language": "python",
   "name": "conda-env-tensorflow-py"
  },
  "language_info": {
   "codemirror_mode": {
    "name": "ipython",
    "version": 3
   },
   "file_extension": ".py",
   "mimetype": "text/x-python",
   "name": "python",
   "nbconvert_exporter": "python",
   "pygments_lexer": "ipython3",
   "version": "3.6.0"
  }
 },
 "nbformat": 4,
 "nbformat_minor": 1
}
