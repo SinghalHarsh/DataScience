{
 "cells": [
  {
   "cell_type": "code",
   "execution_count": 45,
   "metadata": {
    "collapsed": false
   },
   "outputs": [],
   "source": [
    "data_combined=read.csv(\"data.combined1.csv\")\n",
    "train=read.csv(\"train.csv\")"
   ]
  },
  {
   "cell_type": "code",
   "execution_count": 46,
   "metadata": {
    "collapsed": true
   },
   "outputs": [],
   "source": [
    "data_combined$newspapers=as.factor(data_combined$newspapers)\n",
    "data_combined$Home=as.factor(data_combined$Home)\n",
    "data_combined$Married=as.factor(data_combined$Married)\n",
    "data_combined$Household_size=as.factor(data_combined$Household_size)\n",
    "# data_combined$CR1_part=as.factor(data_combined$CR1_part)\n",
    "# data_combined$CR2_part=as.factor(data_combined$CR2_part)"
   ]
  },
  {
   "cell_type": "code",
   "execution_count": 47,
   "metadata": {
    "collapsed": false
   },
   "outputs": [],
   "source": [
    "# data_combined$volunteered_Centaur_1 =as.factor(data_combined$volunteered_Centaur_1 )\n",
    "# data_combined$volunteered_Ebony_1 =as.factor(data_combined$volunteered_Ebony_1 )\n",
    "# data_combined$volunteered_Tokuyawa_1 =as.factor(data_combined$volunteered_Tokuyawa_1 )\n",
    "# data_combined$volunteered_Odyssey_1 =as.factor(data_combined$volunteered_Odyssey_1 )\n",
    "# data_combined$volunteered_Cosmos_1 =as.factor(data_combined$volunteered_Cosmos_1 )\n",
    "\n",
    "# data_combined$Previous_Centaur =as.factor(data_combined$Previous_Centaur )\n",
    "# data_combined$Previous_Ebony =as.factor(data_combined$Previous_Ebony )\n",
    "# data_combined$Previous_Tokuyawa =as.factor(data_combined$Previous_Tokuyawa )\n",
    "# data_combined$Previous_Odyssey =as.factor(data_combined$Previous_Odyssey )\n",
    "# data_combined$Previous_Cosmos =as.factor(data_combined$Previous_Cosmos )"
   ]
  },
  {
   "cell_type": "code",
   "execution_count": 48,
   "metadata": {
    "collapsed": false
   },
   "outputs": [
    {
     "name": "stdout",
     "output_type": "stream",
     "text": [
      "'data.frame':\t81336 obs. of  70 variables:\n",
      " $ Citizen_id             : Factor w/ 81336 levels \"C1\",\"C10\",\"C100\",..: 1 11112 22223 33334 44445 55556 56797 67907 79018 2 ...\n",
      " $ party_voted_past       : Factor w/ 5 levels \"Centaur\",\"Cosmos\",..: 5 3 2 1 1 5 2 2 1 3 ...\n",
      " $ Donations_Centaur      : int  0 2 0 2 9 0 0 0 13 8 ...\n",
      " $ Donations_Ebony        : int  0 6 0 0 2 3 3 0 0 0 ...\n",
      " $ Donations_Tokuyawa     : int  18 0 0 0 3 8 1 2 0 0 ...\n",
      " $ Donations_Odyssey      : int  0 2 0 0 0 0 0 0 3 0 ...\n",
      " $ Donations_Cosmos       : int  0 0 6 0 2 0 4 3 0 0 ...\n",
      " $ Centaur_rallies_indi   : int  0 2 0 2 1 0 0 0 5 2 ...\n",
      " $ Ebony_rallies_indi     : int  0 5 0 0 0 1 1 0 0 0 ...\n",
      " $ Tokuyawa_rallies_indi  : int  9 0 0 0 1 1 0 1 0 0 ...\n",
      " $ Odyssey_rallies_indi   : int  0 2 0 0 0 0 0 0 1 0 ...\n",
      " $ Cosmos_rallies_indi    : int  0 0 6 0 0 0 0 0 0 0 ...\n",
      " $ Centaur_rallies_gr     : int  0 0 0 0 2 0 0 0 4 3 ...\n",
      " $ Ebony_rallies_gr       : int  0 0 0 0 0 0 1 0 0 0 ...\n",
      " $ Tokuyawa_rallies_gr    : int  3 0 0 0 0 1 0 0 0 0 ...\n",
      " $ Odyssey_rallies_gr     : int  0 0 0 0 0 0 0 0 1 0 ...\n",
      " $ Cosmos_rallies_gr      : int  0 0 0 0 0 0 1 1 0 0 ...\n",
      " $ fund_raisers_Centaur   : int  0 0 0 0 2 0 0 0 0 0 ...\n",
      " $ fund_raisers_Ebony     : int  0 1 0 0 1 1 0 0 0 0 ...\n",
      " $ fund_raisers_Tokuyawa  : int  2 0 0 0 2 2 1 1 0 0 ...\n",
      " $ fund_raisers_Odyssey   : int  0 0 0 0 0 0 0 0 0 0 ...\n",
      " $ fund_raisers_Cosmos    : int  0 0 0 0 1 0 0 0 0 0 ...\n",
      " $ volunteered_Centaur    : int  0 5 0 15 10 0 0 0 15 15 ...\n",
      " $ volunteered_Ebony      : int  0 10 0 15 15 15 5 0 0 15 ...\n",
      " $ volunteered_Tokuyawa   : int  15 0 0 0 15 15 0 15 0 0 ...\n",
      " $ volunteered_Odyssey    : int  0 15 0 0 0 0 0 0 15 0 ...\n",
      " $ volunteered_Cosmos     : int  0 0 15 0 7 0 3 15 0 0 ...\n",
      " $ Household_size         : Factor w/ 4 levels \"1\",\"2\",\"3\",\"4\": 3 3 1 1 4 3 2 1 1 4 ...\n",
      " $ Age                    : Factor w/ 5 levels \"18-24\",\"25-35\",..: 2 1 4 3 2 4 2 2 1 4 ...\n",
      " $ Married                : Factor w/ 2 levels \"0\",\"1\": 2 2 2 2 2 2 2 2 1 1 ...\n",
      " $ Home                   : Factor w/ 2 levels \"0\",\"1\": 1 1 2 1 1 2 1 1 1 2 ...\n",
      " $ education              : Factor w/ 4 levels \"Degree\",\"Diploma\",..: 1 3 3 1 4 3 2 2 1 4 ...\n",
      " $ newspapers             : Factor w/ 9 levels \"0\",\"1\",\"4\",\"5\",..: 5 4 5 5 6 7 6 5 4 5 ...\n",
      " $ previous_region        : Factor w/ 488 levels \"AAB\",\"AAC\",\"AAE\",..: 66 66 222 39 306 240 376 156 66 39 ...\n",
      " $ current_region         : Factor w/ 486 levels \"AAB\",\"AAC\",\"AAE\",..: 68 68 231 248 310 248 378 248 134 397 ...\n",
      " $ actual_vote            : Factor w/ 6 levels \"Centaur\",\"Cosmos\",..: 6 3 2 1 1 6 2 6 1 1 ...\n",
      " $ Region_Change_Current  : num  4.25 4.25 2.72 4.09 2.21 ...\n",
      " $ Region_Change_Previous : num  4.25 4.25 2.72 3.37 2.16 ...\n",
      " $ Region_Change_Current2 : num  1.74 1.74 1.15 1.74 1.6 ...\n",
      " $ Region_Change_Previous2: num  1.73 1.73 1.15 1.6 1.57 ...\n",
      " $ MaxDonation            : int  18 6 6 2 9 8 4 3 13 8 ...\n",
      " $ Max_Don                : Factor w/ 5 levels \"Centaur\",\"Cosmos\",..: 5 3 2 1 1 5 2 2 1 1 ...\n",
      " $ MaxIndividual          : int  9 5 6 2 1 1 1 1 5 2 ...\n",
      " $ MaxIndi                : Factor w/ 5 levels \"Centaur\",\"Cosmos\",..: 5 3 2 1 5 5 3 5 1 1 ...\n",
      " $ MaxGroup               : int  3 0 0 0 2 1 1 1 4 3 ...\n",
      " $ MaxGr                  : Factor w/ 5 levels \"Centaur\",\"Cosmos\",..: 5 2 2 2 1 5 2 2 1 1 ...\n",
      " $ MaxFundRaisers         : int  2 1 0 0 2 2 1 1 0 0 ...\n",
      " $ MaxFR                  : Factor w/ 5 levels \"Centaur\",\"Cosmos\",..: 5 3 2 2 5 5 5 5 2 2 ...\n",
      " $ MaxVolunteer           : int  15 15 15 15 15 15 5 15 15 15 ...\n",
      " $ MaxVol                 : Factor w/ 5 levels \"Centaur\",\"Cosmos\",..: 5 4 2 3 5 5 3 2 4 3 ...\n",
      " $ Var1_part              : int  1 2 1 2 2 1 1 1 3 2 ...\n",
      " $ Var2_part              : int  1 2 1 1 2 2 2 1 1 1 ...\n",
      " $ Var3_part              : int  1 2 1 1 1 1 1 1 2 1 ...\n",
      " $ Var4_part              : int  3 1 1 1 2 2 2 2 1 1 ...\n",
      " $ Var5_part              : int  1 1 2 1 2 1 2 2 1 1 ...\n",
      " $ Var1_part1             : int  1 0 1 0 0 1 1 1 0 0 ...\n",
      " $ Var1_part2             : int  0 1 0 1 1 0 0 0 0 1 ...\n",
      " $ Var1_part3             : int  0 0 0 0 0 0 0 0 1 0 ...\n",
      " $ Var2_part1             : int  1 0 1 1 0 0 0 1 1 1 ...\n",
      " $ Var2_part2             : int  0 1 0 0 1 1 1 0 0 0 ...\n",
      " $ Var2_part3             : int  0 0 0 0 0 0 0 0 0 0 ...\n",
      " $ Var3_part1             : int  1 0 1 1 1 1 1 1 0 1 ...\n",
      " $ Var3_part2             : int  0 1 0 0 0 0 0 0 1 0 ...\n",
      " $ Var3_part3             : int  0 0 0 0 0 0 0 0 0 0 ...\n",
      " $ Var4_part1             : int  0 1 1 1 0 0 0 0 1 1 ...\n",
      " $ Var4_part2             : int  0 0 0 0 1 1 1 1 0 0 ...\n",
      " $ Var4_part3             : int  1 0 0 0 0 0 0 0 0 0 ...\n",
      " $ Var5_part1             : int  1 1 0 1 0 1 0 0 1 1 ...\n",
      " $ Var5_part2             : int  0 0 1 0 1 0 1 1 0 0 ...\n",
      " $ Var5_part3             : int  0 0 0 0 0 0 0 0 0 0 ...\n"
     ]
    }
   ],
   "source": [
    "str(data_combined)"
   ]
  },
  {
   "cell_type": "code",
   "execution_count": 49,
   "metadata": {
    "collapsed": false
   },
   "outputs": [
    {
     "data": {
      "text/html": [
       "<table>\n",
       "<thead><tr><th></th><th scope=col>Citizen_id</th><th scope=col>party_voted_past</th><th scope=col>Donations_Centaur</th><th scope=col>Donations_Ebony</th><th scope=col>Donations_Tokuyawa</th><th scope=col>Donations_Odyssey</th><th scope=col>Donations_Cosmos</th><th scope=col>Centaur_rallies_indi</th><th scope=col>Ebony_rallies_indi</th><th scope=col>Tokuyawa_rallies_indi</th><th scope=col>...</th><th scope=col>Var2_part3</th><th scope=col>Var3_part1</th><th scope=col>Var3_part2</th><th scope=col>Var3_part3</th><th scope=col>Var4_part1</th><th scope=col>Var4_part2</th><th scope=col>Var4_part3</th><th scope=col>Var5_part1</th><th scope=col>Var5_part2</th><th scope=col>Var5_part3</th></tr></thead>\n",
       "<tbody>\n",
       "\t<tr><th scope=row>1</th><td>C1      </td><td>Tokugawa</td><td>0       </td><td>0       </td><td>18      </td><td>0       </td><td>0       </td><td>0       </td><td>0       </td><td>9       </td><td>...     </td><td>0       </td><td>1       </td><td>0       </td><td>0       </td><td>0       </td><td>0       </td><td>1       </td><td>1       </td><td>0       </td><td>0       </td></tr>\n",
       "\t<tr><th scope=row>2</th><td>C2   </td><td>Ebony</td><td>2    </td><td>6    </td><td>0    </td><td>2    </td><td>0    </td><td>2    </td><td>5    </td><td>0    </td><td>...  </td><td>0    </td><td>0    </td><td>1    </td><td>0    </td><td>1    </td><td>0    </td><td>0    </td><td>1    </td><td>0    </td><td>0    </td></tr>\n",
       "\t<tr><th scope=row>3</th><td>C3    </td><td>Cosmos</td><td>0     </td><td>0     </td><td>0     </td><td>0     </td><td>6     </td><td>0     </td><td>0     </td><td>0     </td><td>...   </td><td>0     </td><td>1     </td><td>0     </td><td>0     </td><td>1     </td><td>0     </td><td>0     </td><td>0     </td><td>1     </td><td>0     </td></tr>\n",
       "\t<tr><th scope=row>4</th><td>C4     </td><td>Centaur</td><td>2      </td><td>0      </td><td>0      </td><td>0      </td><td>0      </td><td>2      </td><td>0      </td><td>0      </td><td>...    </td><td>0      </td><td>1      </td><td>0      </td><td>0      </td><td>1      </td><td>0      </td><td>0      </td><td>1      </td><td>0      </td><td>0      </td></tr>\n",
       "\t<tr><th scope=row>5</th><td>C5     </td><td>Centaur</td><td>9      </td><td>2      </td><td>3      </td><td>0      </td><td>2      </td><td>1      </td><td>0      </td><td>1      </td><td>...    </td><td>0      </td><td>1      </td><td>0      </td><td>0      </td><td>0      </td><td>1      </td><td>0      </td><td>0      </td><td>1      </td><td>0      </td></tr>\n",
       "\t<tr><th scope=row>6</th><td>C6      </td><td>Tokugawa</td><td>0       </td><td>3       </td><td>8       </td><td>0       </td><td>0       </td><td>0       </td><td>1       </td><td>1       </td><td>...     </td><td>0       </td><td>1       </td><td>0       </td><td>0       </td><td>0       </td><td>1       </td><td>0       </td><td>1       </td><td>0       </td><td>0       </td></tr>\n",
       "</tbody>\n",
       "</table>\n"
      ],
      "text/latex": [
       "\\begin{tabular}{r|llllllllllllllllllllllllllllllllllllllllllllllllllllllllllllllllllllll}\n",
       "  & Citizen\\_id & party\\_voted\\_past & Donations\\_Centaur & Donations\\_Ebony & Donations\\_Tokuyawa & Donations\\_Odyssey & Donations\\_Cosmos & Centaur\\_rallies\\_indi & Ebony\\_rallies\\_indi & Tokuyawa\\_rallies\\_indi & ... & Var2\\_part3 & Var3\\_part1 & Var3\\_part2 & Var3\\_part3 & Var4\\_part1 & Var4\\_part2 & Var4\\_part3 & Var5\\_part1 & Var5\\_part2 & Var5\\_part3\\\\\n",
       "\\hline\n",
       "\t1 & C1       & Tokugawa & 0        & 0        & 18       & 0        & 0        & 0        & 0        & 9        & ...      & 0        & 1        & 0        & 0        & 0        & 0        & 1        & 1        & 0        & 0       \\\\\n",
       "\t2 & C2    & Ebony & 2     & 6     & 0     & 2     & 0     & 2     & 5     & 0     & ...   & 0     & 0     & 1     & 0     & 1     & 0     & 0     & 1     & 0     & 0    \\\\\n",
       "\t3 & C3     & Cosmos & 0      & 0      & 0      & 0      & 6      & 0      & 0      & 0      & ...    & 0      & 1      & 0      & 0      & 1      & 0      & 0      & 0      & 1      & 0     \\\\\n",
       "\t4 & C4      & Centaur & 2       & 0       & 0       & 0       & 0       & 2       & 0       & 0       & ...     & 0       & 1       & 0       & 0       & 1       & 0       & 0       & 1       & 0       & 0      \\\\\n",
       "\t5 & C5      & Centaur & 9       & 2       & 3       & 0       & 2       & 1       & 0       & 1       & ...     & 0       & 1       & 0       & 0       & 0       & 1       & 0       & 0       & 1       & 0      \\\\\n",
       "\t6 & C6       & Tokugawa & 0        & 3        & 8        & 0        & 0        & 0        & 1        & 1        & ...      & 0        & 1        & 0        & 0        & 0        & 1        & 0        & 1        & 0        & 0       \\\\\n",
       "\\end{tabular}\n"
      ],
      "text/plain": [
       "  Citizen_id party_voted_past Donations_Centaur Donations_Ebony\n",
       "1         C1         Tokugawa                 0               0\n",
       "2         C2            Ebony                 2               6\n",
       "3         C3           Cosmos                 0               0\n",
       "4         C4          Centaur                 2               0\n",
       "5         C5          Centaur                 9               2\n",
       "6         C6         Tokugawa                 0               3\n",
       "  Donations_Tokuyawa Donations_Odyssey Donations_Cosmos Centaur_rallies_indi\n",
       "1                 18                 0                0                    0\n",
       "2                  0                 2                0                    2\n",
       "3                  0                 0                6                    0\n",
       "4                  0                 0                0                    2\n",
       "5                  3                 0                2                    1\n",
       "6                  8                 0                0                    0\n",
       "  Ebony_rallies_indi Tokuyawa_rallies_indi ... Var2_part3 Var3_part1 Var3_part2\n",
       "1                  0                     9 ...          0          1          0\n",
       "2                  5                     0 ...          0          0          1\n",
       "3                  0                     0 ...          0          1          0\n",
       "4                  0                     0 ...          0          1          0\n",
       "5                  0                     1 ...          0          1          0\n",
       "6                  1                     1 ...          0          1          0\n",
       "  Var3_part3 Var4_part1 Var4_part2 Var4_part3 Var5_part1 Var5_part2 Var5_part3\n",
       "1          0          0          0          1          1          0          0\n",
       "2          0          1          0          0          1          0          0\n",
       "3          0          1          0          0          0          1          0\n",
       "4          0          1          0          0          1          0          0\n",
       "5          0          0          1          0          0          1          0\n",
       "6          0          0          1          0          1          0          0"
      ]
     },
     "metadata": {},
     "output_type": "display_data"
    }
   ],
   "source": [
    "head(data_combined)"
   ]
  },
  {
   "cell_type": "code",
   "execution_count": 50,
   "metadata": {
    "collapsed": false
   },
   "outputs": [
    {
     "data": {
      "text/html": [
       "<table>\n",
       "<thead><tr><th></th><th scope=col>Citizen_id</th><th scope=col>party_voted_past</th><th scope=col>Donations_Centaur</th><th scope=col>Donations_Ebony</th><th scope=col>Donations_Tokuyawa</th><th scope=col>Donations_Odyssey</th><th scope=col>Donations_Cosmos</th><th scope=col>Centaur_rallies_indi</th><th scope=col>Ebony_rallies_indi</th><th scope=col>Tokuyawa_rallies_indi</th><th scope=col>...</th><th scope=col>Var2_part3</th><th scope=col>Var3_part1</th><th scope=col>Var3_part2</th><th scope=col>Var3_part3</th><th scope=col>Var4_part1</th><th scope=col>Var4_part2</th><th scope=col>Var4_part3</th><th scope=col>Var5_part1</th><th scope=col>Var5_part2</th><th scope=col>Var5_part3</th></tr></thead>\n",
       "<tbody>\n",
       "\t<tr><th scope=row>1</th><td>C1      </td><td>Tokugawa</td><td>0       </td><td>0       </td><td>18      </td><td>0       </td><td>0       </td><td>0       </td><td>0       </td><td>9       </td><td>...     </td><td>0       </td><td>1       </td><td>0       </td><td>0       </td><td>0       </td><td>0       </td><td>1       </td><td>1       </td><td>0       </td><td>0       </td></tr>\n",
       "\t<tr><th scope=row>2</th><td>C2   </td><td>Ebony</td><td>2    </td><td>6    </td><td>0    </td><td>2    </td><td>0    </td><td>2    </td><td>5    </td><td>0    </td><td>...  </td><td>0    </td><td>0    </td><td>1    </td><td>0    </td><td>1    </td><td>0    </td><td>0    </td><td>1    </td><td>0    </td><td>0    </td></tr>\n",
       "\t<tr><th scope=row>3</th><td>C3    </td><td>Cosmos</td><td>0     </td><td>0     </td><td>0     </td><td>0     </td><td>6     </td><td>0     </td><td>0     </td><td>0     </td><td>...   </td><td>0     </td><td>1     </td><td>0     </td><td>0     </td><td>1     </td><td>0     </td><td>0     </td><td>0     </td><td>1     </td><td>0     </td></tr>\n",
       "\t<tr><th scope=row>4</th><td>C4     </td><td>Centaur</td><td>2      </td><td>0      </td><td>0      </td><td>0      </td><td>0      </td><td>2      </td><td>0      </td><td>0      </td><td>...    </td><td>0      </td><td>1      </td><td>0      </td><td>0      </td><td>1      </td><td>0      </td><td>0      </td><td>1      </td><td>0      </td><td>0      </td></tr>\n",
       "\t<tr><th scope=row>5</th><td>C5     </td><td>Centaur</td><td>9      </td><td>2      </td><td>3      </td><td>0      </td><td>2      </td><td>1      </td><td>0      </td><td>1      </td><td>...    </td><td>0      </td><td>1      </td><td>0      </td><td>0      </td><td>0      </td><td>1      </td><td>0      </td><td>0      </td><td>1      </td><td>0      </td></tr>\n",
       "\t<tr><th scope=row>6</th><td>C6      </td><td>Tokugawa</td><td>0       </td><td>3       </td><td>8       </td><td>0       </td><td>0       </td><td>0       </td><td>1       </td><td>1       </td><td>...     </td><td>0       </td><td>1       </td><td>0       </td><td>0       </td><td>0       </td><td>1       </td><td>0       </td><td>1       </td><td>0       </td><td>0       </td></tr>\n",
       "</tbody>\n",
       "</table>\n"
      ],
      "text/latex": [
       "\\begin{tabular}{r|llllllllllllllllllllllllllllllllllllllllllllllllllllllllllllllllllllll}\n",
       "  & Citizen\\_id & party\\_voted\\_past & Donations\\_Centaur & Donations\\_Ebony & Donations\\_Tokuyawa & Donations\\_Odyssey & Donations\\_Cosmos & Centaur\\_rallies\\_indi & Ebony\\_rallies\\_indi & Tokuyawa\\_rallies\\_indi & ... & Var2\\_part3 & Var3\\_part1 & Var3\\_part2 & Var3\\_part3 & Var4\\_part1 & Var4\\_part2 & Var4\\_part3 & Var5\\_part1 & Var5\\_part2 & Var5\\_part3\\\\\n",
       "\\hline\n",
       "\t1 & C1       & Tokugawa & 0        & 0        & 18       & 0        & 0        & 0        & 0        & 9        & ...      & 0        & 1        & 0        & 0        & 0        & 0        & 1        & 1        & 0        & 0       \\\\\n",
       "\t2 & C2    & Ebony & 2     & 6     & 0     & 2     & 0     & 2     & 5     & 0     & ...   & 0     & 0     & 1     & 0     & 1     & 0     & 0     & 1     & 0     & 0    \\\\\n",
       "\t3 & C3     & Cosmos & 0      & 0      & 0      & 0      & 6      & 0      & 0      & 0      & ...    & 0      & 1      & 0      & 0      & 1      & 0      & 0      & 0      & 1      & 0     \\\\\n",
       "\t4 & C4      & Centaur & 2       & 0       & 0       & 0       & 0       & 2       & 0       & 0       & ...     & 0       & 1       & 0       & 0       & 1       & 0       & 0       & 1       & 0       & 0      \\\\\n",
       "\t5 & C5      & Centaur & 9       & 2       & 3       & 0       & 2       & 1       & 0       & 1       & ...     & 0       & 1       & 0       & 0       & 0       & 1       & 0       & 0       & 1       & 0      \\\\\n",
       "\t6 & C6       & Tokugawa & 0        & 3        & 8        & 0        & 0        & 0        & 1        & 1        & ...      & 0        & 1        & 0        & 0        & 0        & 1        & 0        & 1        & 0        & 0       \\\\\n",
       "\\end{tabular}\n"
      ],
      "text/plain": [
       "  Citizen_id party_voted_past Donations_Centaur Donations_Ebony\n",
       "1         C1         Tokugawa                 0               0\n",
       "2         C2            Ebony                 2               6\n",
       "3         C3           Cosmos                 0               0\n",
       "4         C4          Centaur                 2               0\n",
       "5         C5          Centaur                 9               2\n",
       "6         C6         Tokugawa                 0               3\n",
       "  Donations_Tokuyawa Donations_Odyssey Donations_Cosmos Centaur_rallies_indi\n",
       "1                 18                 0                0                    0\n",
       "2                  0                 2                0                    2\n",
       "3                  0                 0                6                    0\n",
       "4                  0                 0                0                    2\n",
       "5                  3                 0                2                    1\n",
       "6                  8                 0                0                    0\n",
       "  Ebony_rallies_indi Tokuyawa_rallies_indi ... Var2_part3 Var3_part1 Var3_part2\n",
       "1                  0                     9 ...          0          1          0\n",
       "2                  5                     0 ...          0          0          1\n",
       "3                  0                     0 ...          0          1          0\n",
       "4                  0                     0 ...          0          1          0\n",
       "5                  0                     1 ...          0          1          0\n",
       "6                  1                     1 ...          0          1          0\n",
       "  Var3_part3 Var4_part1 Var4_part2 Var4_part3 Var5_part1 Var5_part2 Var5_part3\n",
       "1          0          0          0          1          1          0          0\n",
       "2          0          1          0          0          1          0          0\n",
       "3          0          1          0          0          0          1          0\n",
       "4          0          1          0          0          1          0          0\n",
       "5          0          0          1          0          0          1          0\n",
       "6          0          0          1          0          1          0          0"
      ]
     },
     "metadata": {},
     "output_type": "display_data"
    }
   ],
   "source": [
    "head(data_combined)"
   ]
  },
  {
   "cell_type": "code",
   "execution_count": 51,
   "metadata": {
    "collapsed": true
   },
   "outputs": [],
   "source": [
    "#"
   ]
  },
  {
   "cell_type": "code",
   "execution_count": null,
   "metadata": {
    "collapsed": true
   },
   "outputs": [],
   "source": []
  },
  {
   "cell_type": "code",
   "execution_count": null,
   "metadata": {
    "collapsed": true
   },
   "outputs": [],
   "source": []
  },
  {
   "cell_type": "code",
   "execution_count": null,
   "metadata": {
    "collapsed": true
   },
   "outputs": [],
   "source": []
  },
  {
   "cell_type": "code",
   "execution_count": 52,
   "metadata": {
    "collapsed": false
   },
   "outputs": [],
   "source": [
    "# library(h2o)\n",
    "# localH2O <- h2o.init(nthreads = -1)\n",
    "# h2o.init()"
   ]
  },
  {
   "cell_type": "code",
   "execution_count": 53,
   "metadata": {
    "collapsed": false
   },
   "outputs": [],
   "source": [
    "train=data_combined[0:nrow(train),]\n",
    "test=data_combined[(nrow(train)+1):(nrow(data_combined)),]\n",
    "test$actual_vote=NULL"
   ]
  },
  {
   "cell_type": "code",
   "execution_count": 54,
   "metadata": {
    "collapsed": false
   },
   "outputs": [
    {
     "data": {
      "text/html": [
       "60129"
      ],
      "text/latex": [
       "60129"
      ],
      "text/markdown": [
       "60129"
      ],
      "text/plain": [
       "[1] 60129"
      ]
     },
     "metadata": {},
     "output_type": "display_data"
    }
   ],
   "source": [
    "nrow(train)"
   ]
  },
  {
   "cell_type": "code",
   "execution_count": 55,
   "metadata": {
    "collapsed": false
   },
   "outputs": [
    {
     "name": "stdout",
     "output_type": "stream",
     "text": [
      "  |======================================================================| 100%\n",
      "  |======================================================================| 100%\n"
     ]
    }
   ],
   "source": [
    "#data to h2o cluster\n",
    "maintrain.h2o = as.h2o(train)\n",
    "maintest.h2o = as.h2o(test)"
   ]
  },
  {
   "cell_type": "code",
   "execution_count": 56,
   "metadata": {
    "collapsed": false
   },
   "outputs": [],
   "source": [
    "# fit1=h2o.randomForest(y='actual_vote',x=c( \"party_voted_past\", \"Donations_Centaur\", \"Donations_Ebony\", \"Donations_Tokuyawa\",\n",
    "#                                           \"Donations_Odyssey\" ,\"Donations_Cosmos\",\n",
    "#                                           \"Centaur_rallies_indi\" ,\"Ebony_rallies_indi\", \"Tokuyawa_rallies_indi\" ,\n",
    "#                                           \"Odyssey_rallies_indi\", \"Cosmos_rallies_indi\",\n",
    "#                                           \"Centaur_rallies_gr\" ,\"Ebony_rallies_gr\" ,\"Tokuyawa_rallies_gr\",\n",
    "#                                           \"Odyssey_rallies_gr\", \"Cosmos_rallies_gr\" ,\n",
    "#                                           \"fund_raisers_Centaur\" ,\"fund_raisers_Ebony\", \"fund_raisers_Tokuyawa\" ,\n",
    "#                                           \"fund_raisers_Odyssey\" ,\"fund_raisers_Cosmos\",\n",
    "#                                           \"volunteered_Centaur\" ,\"volunteered_Ebony\" ,\"volunteered_Tokuyawa\" ,\n",
    "#                                           \"volunteered_Odyssey\", \"volunteered_Cosmos\",\n",
    "#                                           \"Household_size\" ,\"Age\" ,\"Married\", \"Home\" ,\"education\", \"newspapers\",\n",
    "#                                           \"Previous_Region_1\" ,\"Previous_Region_2\" ,\"Current_Region_1\" ,\"Current_Region_2\"\n",
    "# #                                           \"Total_Donations\",\"Total_volunteered\",\"Total_Rallies_Indi\",\"Total_Rallies_gr\"\n",
    "#                                          ),\n",
    "#                                           training_frame=maintrain.h2o, ntree=100)"
   ]
  },
  {
   "cell_type": "code",
   "execution_count": 57,
   "metadata": {
    "collapsed": false
   },
   "outputs": [],
   "source": [
    "# fit1=h2o.gbm(y='actual_vote',x=c( \"Donations_Centaur\", \"Donations_Ebony\", \"Donations_Tokuyawa\",\n",
    "#                                           \"Donations_Odyssey\" ,\"Donations_Cosmos\",\n",
    "#                                           \"Centaur_rallies_indi\" ,\"Ebony_rallies_indi\", \"Tokuyawa_rallies_indi\" ,\n",
    "#                                           \"Odyssey_rallies_indi\", \"Cosmos_rallies_indi\",\n",
    "#                                           \"Centaur_rallies_gr\" ,\"Ebony_rallies_gr\" ,\"Tokuyawa_rallies_gr\",\n",
    "#                                           \"Odyssey_rallies_gr\", \"Cosmos_rallies_gr\" ,\n",
    "#                                           \"fund_raisers_Centaur\" ,\"fund_raisers_Ebony\", \"fund_raisers_Tokuyawa\" ,\n",
    "#                                           \"fund_raisers_Odyssey\" ,\"fund_raisers_Cosmos\",\n",
    "#                                           \"volunteered_Centaur_1\" ,\"volunteered_Ebony_1\" ,\"volunteered_Tokuyawa_1\" ,\n",
    "#                                           \"volunteered_Odyssey_1\", \"volunteered_Cosmos_1\",\n",
    "#                                           \"Household_size\" ,\"Age\" ,\"Married\", \"Home\" ,\"education\", \"newspapers\",\n",
    "#                                           \"Current_Region_1\" , \"Previous_Region_1\" , \"Previous_Region_2\" , \n",
    "#                                           \"Current_Region_2\" \n",
    "#                                          ),\n",
    "#                                           training_frame=maintrain.h2o, ntree=100)"
   ]
  },
  {
   "cell_type": "code",
   "execution_count": 58,
   "metadata": {
    "collapsed": false
   },
   "outputs": [
    {
     "data": {
      "text/html": [
       "<ol class=list-inline>\n",
       "\t<li>\"Citizen_id\"</li>\n",
       "\t<li>\"party_voted_past\"</li>\n",
       "\t<li>\"Donations_Centaur\"</li>\n",
       "\t<li>\"Donations_Ebony\"</li>\n",
       "\t<li>\"Donations_Tokuyawa\"</li>\n",
       "\t<li>\"Donations_Odyssey\"</li>\n",
       "\t<li>\"Donations_Cosmos\"</li>\n",
       "\t<li>\"Centaur_rallies_indi\"</li>\n",
       "\t<li>\"Ebony_rallies_indi\"</li>\n",
       "\t<li>\"Tokuyawa_rallies_indi\"</li>\n",
       "\t<li>\"Odyssey_rallies_indi\"</li>\n",
       "\t<li>\"Cosmos_rallies_indi\"</li>\n",
       "\t<li>\"Centaur_rallies_gr\"</li>\n",
       "\t<li>\"Ebony_rallies_gr\"</li>\n",
       "\t<li>\"Tokuyawa_rallies_gr\"</li>\n",
       "\t<li>\"Odyssey_rallies_gr\"</li>\n",
       "\t<li>\"Cosmos_rallies_gr\"</li>\n",
       "\t<li>\"fund_raisers_Centaur\"</li>\n",
       "\t<li>\"fund_raisers_Ebony\"</li>\n",
       "\t<li>\"fund_raisers_Tokuyawa\"</li>\n",
       "\t<li>\"fund_raisers_Odyssey\"</li>\n",
       "\t<li>\"fund_raisers_Cosmos\"</li>\n",
       "\t<li>\"volunteered_Centaur\"</li>\n",
       "\t<li>\"volunteered_Ebony\"</li>\n",
       "\t<li>\"volunteered_Tokuyawa\"</li>\n",
       "\t<li>\"volunteered_Odyssey\"</li>\n",
       "\t<li>\"volunteered_Cosmos\"</li>\n",
       "\t<li>\"Household_size\"</li>\n",
       "\t<li>\"Age\"</li>\n",
       "\t<li>\"Married\"</li>\n",
       "\t<li>\"Home\"</li>\n",
       "\t<li>\"education\"</li>\n",
       "\t<li>\"newspapers\"</li>\n",
       "\t<li>\"previous_region\"</li>\n",
       "\t<li>\"current_region\"</li>\n",
       "\t<li>\"actual_vote\"</li>\n",
       "\t<li>\"Region_Change_Current\"</li>\n",
       "\t<li>\"Region_Change_Previous\"</li>\n",
       "\t<li>\"Region_Change_Current2\"</li>\n",
       "\t<li>\"Region_Change_Previous2\"</li>\n",
       "\t<li>\"MaxDonation\"</li>\n",
       "\t<li>\"Max_Don\"</li>\n",
       "\t<li>\"MaxIndividual\"</li>\n",
       "\t<li>\"MaxIndi\"</li>\n",
       "\t<li>\"MaxGroup\"</li>\n",
       "\t<li>\"MaxGr\"</li>\n",
       "\t<li>\"MaxFundRaisers\"</li>\n",
       "\t<li>\"MaxFR\"</li>\n",
       "\t<li>\"MaxVolunteer\"</li>\n",
       "\t<li>\"MaxVol\"</li>\n",
       "\t<li>\"Var1_part\"</li>\n",
       "\t<li>\"Var2_part\"</li>\n",
       "\t<li>\"Var3_part\"</li>\n",
       "\t<li>\"Var4_part\"</li>\n",
       "\t<li>\"Var5_part\"</li>\n",
       "\t<li>\"Var1_part1\"</li>\n",
       "\t<li>\"Var1_part2\"</li>\n",
       "\t<li>\"Var1_part3\"</li>\n",
       "\t<li>\"Var2_part1\"</li>\n",
       "\t<li>\"Var2_part2\"</li>\n",
       "\t<li>\"Var2_part3\"</li>\n",
       "\t<li>\"Var3_part1\"</li>\n",
       "\t<li>\"Var3_part2\"</li>\n",
       "\t<li>\"Var3_part3\"</li>\n",
       "\t<li>\"Var4_part1\"</li>\n",
       "\t<li>\"Var4_part2\"</li>\n",
       "\t<li>\"Var4_part3\"</li>\n",
       "\t<li>\"Var5_part1\"</li>\n",
       "\t<li>\"Var5_part2\"</li>\n",
       "\t<li>\"Var5_part3\"</li>\n",
       "</ol>\n"
      ],
      "text/latex": [
       "\\begin{enumerate*}\n",
       "\\item \"Citizen\\_id\"\n",
       "\\item \"party\\_voted\\_past\"\n",
       "\\item \"Donations\\_Centaur\"\n",
       "\\item \"Donations\\_Ebony\"\n",
       "\\item \"Donations\\_Tokuyawa\"\n",
       "\\item \"Donations\\_Odyssey\"\n",
       "\\item \"Donations\\_Cosmos\"\n",
       "\\item \"Centaur\\_rallies\\_indi\"\n",
       "\\item \"Ebony\\_rallies\\_indi\"\n",
       "\\item \"Tokuyawa\\_rallies\\_indi\"\n",
       "\\item \"Odyssey\\_rallies\\_indi\"\n",
       "\\item \"Cosmos\\_rallies\\_indi\"\n",
       "\\item \"Centaur\\_rallies\\_gr\"\n",
       "\\item \"Ebony\\_rallies\\_gr\"\n",
       "\\item \"Tokuyawa\\_rallies\\_gr\"\n",
       "\\item \"Odyssey\\_rallies\\_gr\"\n",
       "\\item \"Cosmos\\_rallies\\_gr\"\n",
       "\\item \"fund\\_raisers\\_Centaur\"\n",
       "\\item \"fund\\_raisers\\_Ebony\"\n",
       "\\item \"fund\\_raisers\\_Tokuyawa\"\n",
       "\\item \"fund\\_raisers\\_Odyssey\"\n",
       "\\item \"fund\\_raisers\\_Cosmos\"\n",
       "\\item \"volunteered\\_Centaur\"\n",
       "\\item \"volunteered\\_Ebony\"\n",
       "\\item \"volunteered\\_Tokuyawa\"\n",
       "\\item \"volunteered\\_Odyssey\"\n",
       "\\item \"volunteered\\_Cosmos\"\n",
       "\\item \"Household\\_size\"\n",
       "\\item \"Age\"\n",
       "\\item \"Married\"\n",
       "\\item \"Home\"\n",
       "\\item \"education\"\n",
       "\\item \"newspapers\"\n",
       "\\item \"previous\\_region\"\n",
       "\\item \"current\\_region\"\n",
       "\\item \"actual\\_vote\"\n",
       "\\item \"Region\\_Change\\_Current\"\n",
       "\\item \"Region\\_Change\\_Previous\"\n",
       "\\item \"Region\\_Change\\_Current2\"\n",
       "\\item \"Region\\_Change\\_Previous2\"\n",
       "\\item \"MaxDonation\"\n",
       "\\item \"Max\\_Don\"\n",
       "\\item \"MaxIndividual\"\n",
       "\\item \"MaxIndi\"\n",
       "\\item \"MaxGroup\"\n",
       "\\item \"MaxGr\"\n",
       "\\item \"MaxFundRaisers\"\n",
       "\\item \"MaxFR\"\n",
       "\\item \"MaxVolunteer\"\n",
       "\\item \"MaxVol\"\n",
       "\\item \"Var1\\_part\"\n",
       "\\item \"Var2\\_part\"\n",
       "\\item \"Var3\\_part\"\n",
       "\\item \"Var4\\_part\"\n",
       "\\item \"Var5\\_part\"\n",
       "\\item \"Var1\\_part1\"\n",
       "\\item \"Var1\\_part2\"\n",
       "\\item \"Var1\\_part3\"\n",
       "\\item \"Var2\\_part1\"\n",
       "\\item \"Var2\\_part2\"\n",
       "\\item \"Var2\\_part3\"\n",
       "\\item \"Var3\\_part1\"\n",
       "\\item \"Var3\\_part2\"\n",
       "\\item \"Var3\\_part3\"\n",
       "\\item \"Var4\\_part1\"\n",
       "\\item \"Var4\\_part2\"\n",
       "\\item \"Var4\\_part3\"\n",
       "\\item \"Var5\\_part1\"\n",
       "\\item \"Var5\\_part2\"\n",
       "\\item \"Var5\\_part3\"\n",
       "\\end{enumerate*}\n"
      ],
      "text/markdown": [
       "1. \"Citizen_id\"\n",
       "2. \"party_voted_past\"\n",
       "3. \"Donations_Centaur\"\n",
       "4. \"Donations_Ebony\"\n",
       "5. \"Donations_Tokuyawa\"\n",
       "6. \"Donations_Odyssey\"\n",
       "7. \"Donations_Cosmos\"\n",
       "8. \"Centaur_rallies_indi\"\n",
       "9. \"Ebony_rallies_indi\"\n",
       "10. \"Tokuyawa_rallies_indi\"\n",
       "11. \"Odyssey_rallies_indi\"\n",
       "12. \"Cosmos_rallies_indi\"\n",
       "13. \"Centaur_rallies_gr\"\n",
       "14. \"Ebony_rallies_gr\"\n",
       "15. \"Tokuyawa_rallies_gr\"\n",
       "16. \"Odyssey_rallies_gr\"\n",
       "17. \"Cosmos_rallies_gr\"\n",
       "18. \"fund_raisers_Centaur\"\n",
       "19. \"fund_raisers_Ebony\"\n",
       "20. \"fund_raisers_Tokuyawa\"\n",
       "21. \"fund_raisers_Odyssey\"\n",
       "22. \"fund_raisers_Cosmos\"\n",
       "23. \"volunteered_Centaur\"\n",
       "24. \"volunteered_Ebony\"\n",
       "25. \"volunteered_Tokuyawa\"\n",
       "26. \"volunteered_Odyssey\"\n",
       "27. \"volunteered_Cosmos\"\n",
       "28. \"Household_size\"\n",
       "29. \"Age\"\n",
       "30. \"Married\"\n",
       "31. \"Home\"\n",
       "32. \"education\"\n",
       "33. \"newspapers\"\n",
       "34. \"previous_region\"\n",
       "35. \"current_region\"\n",
       "36. \"actual_vote\"\n",
       "37. \"Region_Change_Current\"\n",
       "38. \"Region_Change_Previous\"\n",
       "39. \"Region_Change_Current2\"\n",
       "40. \"Region_Change_Previous2\"\n",
       "41. \"MaxDonation\"\n",
       "42. \"Max_Don\"\n",
       "43. \"MaxIndividual\"\n",
       "44. \"MaxIndi\"\n",
       "45. \"MaxGroup\"\n",
       "46. \"MaxGr\"\n",
       "47. \"MaxFundRaisers\"\n",
       "48. \"MaxFR\"\n",
       "49. \"MaxVolunteer\"\n",
       "50. \"MaxVol\"\n",
       "51. \"Var1_part\"\n",
       "52. \"Var2_part\"\n",
       "53. \"Var3_part\"\n",
       "54. \"Var4_part\"\n",
       "55. \"Var5_part\"\n",
       "56. \"Var1_part1\"\n",
       "57. \"Var1_part2\"\n",
       "58. \"Var1_part3\"\n",
       "59. \"Var2_part1\"\n",
       "60. \"Var2_part2\"\n",
       "61. \"Var2_part3\"\n",
       "62. \"Var3_part1\"\n",
       "63. \"Var3_part2\"\n",
       "64. \"Var3_part3\"\n",
       "65. \"Var4_part1\"\n",
       "66. \"Var4_part2\"\n",
       "67. \"Var4_part3\"\n",
       "68. \"Var5_part1\"\n",
       "69. \"Var5_part2\"\n",
       "70. \"Var5_part3\"\n",
       "\n",
       "\n"
      ],
      "text/plain": [
       " [1] \"Citizen_id\"              \"party_voted_past\"       \n",
       " [3] \"Donations_Centaur\"       \"Donations_Ebony\"        \n",
       " [5] \"Donations_Tokuyawa\"      \"Donations_Odyssey\"      \n",
       " [7] \"Donations_Cosmos\"        \"Centaur_rallies_indi\"   \n",
       " [9] \"Ebony_rallies_indi\"      \"Tokuyawa_rallies_indi\"  \n",
       "[11] \"Odyssey_rallies_indi\"    \"Cosmos_rallies_indi\"    \n",
       "[13] \"Centaur_rallies_gr\"      \"Ebony_rallies_gr\"       \n",
       "[15] \"Tokuyawa_rallies_gr\"     \"Odyssey_rallies_gr\"     \n",
       "[17] \"Cosmos_rallies_gr\"       \"fund_raisers_Centaur\"   \n",
       "[19] \"fund_raisers_Ebony\"      \"fund_raisers_Tokuyawa\"  \n",
       "[21] \"fund_raisers_Odyssey\"    \"fund_raisers_Cosmos\"    \n",
       "[23] \"volunteered_Centaur\"     \"volunteered_Ebony\"      \n",
       "[25] \"volunteered_Tokuyawa\"    \"volunteered_Odyssey\"    \n",
       "[27] \"volunteered_Cosmos\"      \"Household_size\"         \n",
       "[29] \"Age\"                     \"Married\"                \n",
       "[31] \"Home\"                    \"education\"              \n",
       "[33] \"newspapers\"              \"previous_region\"        \n",
       "[35] \"current_region\"          \"actual_vote\"            \n",
       "[37] \"Region_Change_Current\"   \"Region_Change_Previous\" \n",
       "[39] \"Region_Change_Current2\"  \"Region_Change_Previous2\"\n",
       "[41] \"MaxDonation\"             \"Max_Don\"                \n",
       "[43] \"MaxIndividual\"           \"MaxIndi\"                \n",
       "[45] \"MaxGroup\"                \"MaxGr\"                  \n",
       "[47] \"MaxFundRaisers\"          \"MaxFR\"                  \n",
       "[49] \"MaxVolunteer\"            \"MaxVol\"                 \n",
       "[51] \"Var1_part\"               \"Var2_part\"              \n",
       "[53] \"Var3_part\"               \"Var4_part\"              \n",
       "[55] \"Var5_part\"               \"Var1_part1\"             \n",
       "[57] \"Var1_part2\"              \"Var1_part3\"             \n",
       "[59] \"Var2_part1\"              \"Var2_part2\"             \n",
       "[61] \"Var2_part3\"              \"Var3_part1\"             \n",
       "[63] \"Var3_part2\"              \"Var3_part3\"             \n",
       "[65] \"Var4_part1\"              \"Var4_part2\"             \n",
       "[67] \"Var4_part3\"              \"Var5_part1\"             \n",
       "[69] \"Var5_part2\"              \"Var5_part3\"             "
      ]
     },
     "metadata": {},
     "output_type": "display_data"
    }
   ],
   "source": [
    "colnames(maintrain.h2o)"
   ]
  },
  {
   "cell_type": "code",
   "execution_count": 39,
   "metadata": {
    "collapsed": false
   },
   "outputs": [
    {
     "name": "stdout",
     "output_type": "stream",
     "text": [
      "\r",
      "  |                                                                            \r",
      "  |                                                                      |   0%\r",
      "  |                                                                            \r",
      "  |=                                                                     |   1%\r",
      "  |                                                                            \r",
      "  |=                                                                     |   2%\r",
      "  |                                                                            \r",
      "  |==                                                                    |   3%\r",
      "  |                                                                            \r",
      "  |==                                                                    |   4%\r",
      "  |                                                                            \r",
      "  |===                                                                   |   4%\r",
      "  |                                                                            \r",
      "  |====                                                                  |   5%\r",
      "  |                                                                            \r",
      "  |====                                                                  |   6%\r",
      "  |                                                                            \r",
      "  |=====                                                                 |   7%\r",
      "  |                                                                            \r",
      "  |======                                                                |   8%\r",
      "  |                                                                            \r",
      "  |======                                                                |   9%\r",
      "  |                                                                            \r",
      "  |=======                                                               |  10%\r",
      "  |                                                                            \r",
      "  |========                                                              |  12%\r",
      "  |                                                                            \r",
      "  |=========                                                             |  12%\r",
      "  |                                                                            \r",
      "  |=========                                                             |  14%\r",
      "  |                                                                            \r",
      "  |==========                                                            |  14%\r",
      "  |                                                                            \r",
      "  |==========                                                            |  15%\r",
      "  |                                                                            \r",
      "  |===========                                                           |  16%\r",
      "  |                                                                            \r",
      "  |============                                                          |  16%\r",
      "  |                                                                            \r",
      "  |============                                                          |  17%\r",
      "  |                                                                            \r",
      "  |=============                                                         |  18%\r",
      "  |                                                                            \r",
      "  |==============                                                        |  20%\r",
      "  |                                                                            \r",
      "  |===============                                                       |  21%\r",
      "  |                                                                            \r",
      "  |===============                                                       |  22%\r",
      "  |                                                                            \r",
      "  |================                                                      |  22%\r",
      "  |                                                                            \r",
      "  |================                                                      |  23%\r",
      "  |                                                                            \r",
      "  |=================                                                     |  24%\r",
      "  |                                                                            \r",
      "  |==================                                                    |  25%\r",
      "  |                                                                            \r",
      "  |==================                                                    |  26%\r",
      "  |                                                                            \r",
      "  |===================                                                   |  26%\r",
      "  |                                                                            \r",
      "  |===================                                                   |  27%\r",
      "  |                                                                            \r",
      "  |===================                                                   |  28%\r",
      "  |                                                                            \r",
      "  |====================                                                  |  28%\r",
      "  |                                                                            \r",
      "  |====================                                                  |  29%\r",
      "  |                                                                            \r",
      "  |=====================                                                 |  30%\r",
      "  |                                                                            \r",
      "  |======================                                                |  31%\r",
      "  |                                                                            \r",
      "  |======================                                                |  32%\r",
      "  |                                                                            \r",
      "  |=======================                                               |  32%\r",
      "  |                                                                            \r",
      "  |=======================                                               |  33%\r",
      "  |                                                                            \r",
      "  |=======================                                               |  34%\r",
      "  |                                                                            \r",
      "  |========================                                              |  34%\r",
      "  |                                                                            \r",
      "  |========================                                              |  35%\r",
      "  |                                                                            \r",
      "  |=========================                                             |  36%\r",
      "  |                                                                            \r",
      "  |==========================                                            |  36%\r",
      "  |                                                                            \r",
      "  |==========================                                            |  37%\r",
      "  |                                                                            \r",
      "  |==========================                                            |  38%\r",
      "  |                                                                            \r",
      "  |===========================                                           |  38%\r",
      "  |                                                                            \r",
      "  |===========================                                           |  39%\r",
      "  |                                                                            \r",
      "  |============================                                          |  40%\r",
      "  |                                                                            \r",
      "  |=============================                                         |  41%\r",
      "  |                                                                            \r",
      "  |=============================                                         |  42%\r",
      "  |                                                                            \r",
      "  |==============================                                        |  42%\r",
      "  |                                                                            \r",
      "  |==============================                                        |  43%\r",
      "  |                                                                            \r",
      "  |===============================                                       |  44%\r",
      "  |                                                                            \r",
      "  |================================                                      |  45%\r",
      "  |                                                                            \r",
      "  |================================                                      |  46%\r",
      "  |                                                                            \r",
      "  |=================================                                     |  46%\r",
      "  |                                                                            \r",
      "  |=================================                                     |  47%\r",
      "  |                                                                            \r",
      "  |=================================                                     |  48%\r",
      "  |                                                                            \r",
      "  |==================================                                    |  48%\r",
      "  |                                                                            \r",
      "  |==================================                                    |  49%\r",
      "  |                                                                            \r",
      "  |===================================                                   |  50%\r",
      "  |                                                                            \r",
      "  |====================================                                  |  51%\r",
      "  |                                                                            \r",
      "  |====================================                                  |  52%\r",
      "  |                                                                            \r",
      "  |=====================================                                 |  52%\r",
      "  |                                                                            \r",
      "  |=====================================                                 |  53%\r",
      "  |                                                                            \r",
      "  |=====================================                                 |  54%\r",
      "  |                                                                            \r",
      "  |======================================                                |  54%\r",
      "  |                                                                            \r",
      "  |======================================                                |  55%\r",
      "  |                                                                            \r",
      "  |=======================================                               |  56%\r",
      "  |                                                                            \r",
      "  |========================================                              |  57%\r",
      "  |                                                                            \r",
      "  |=========================================                             |  58%\r",
      "  |                                                                            \r",
      "  |=========================================                             |  59%\r",
      "  |                                                                            \r",
      "  |==========================================                            |  60%\r",
      "  |                                                                            \r",
      "  |===========================================                           |  61%\r",
      "  |                                                                            \r",
      "  |===========================================                           |  62%\r",
      "  |                                                                            \r",
      "  |============================================                          |  63%\r",
      "  |                                                                            \r",
      "  |============================================                          |  64%\r",
      "  |                                                                            \r",
      "  |=============================================                         |  64%\r",
      "  |                                                                            \r",
      "  |==============================================                        |  65%\r",
      "  |                                                                            \r",
      "  |==============================================                        |  66%\r",
      "  |                                                                            \r",
      "  |===============================================                       |  67%\r",
      "  |                                                                            \r",
      "  |===============================================                       |  68%\r",
      "  |                                                                            \r",
      "  |================================================                      |  68%\r",
      "  |                                                                            \r",
      "  |================================================                      |  69%\r",
      "  |                                                                            \r",
      "  |=================================================                     |  70%\r",
      "  |                                                                            \r",
      "  |==================================================                    |  71%\r",
      "  |                                                                            \r",
      "  |==================================================                    |  72%\r",
      "  |                                                                            \r",
      "  |===================================================                   |  72%\r",
      "  |                                                                            \r",
      "  |===================================================                   |  74%\r",
      "  |                                                                            \r",
      "  |====================================================                  |  74%\r",
      "  |                                                                            \r",
      "  |=====================================================                 |  76%\r",
      "  |                                                                            \r",
      "  |======================================================                |  76%\r",
      "  |                                                                            \r",
      "  |======================================================                |  77%\r",
      "  |                                                                            \r",
      "  |=======================================================               |  78%\r",
      "  |                                                                            \r",
      "  |========================================================              |  80%\r",
      "  |                                                                            \r",
      "  |=========================================================             |  82%\r",
      "  |                                                                            \r",
      "  |==========================================================            |  82%\r",
      "  |                                                                            \r",
      "  |==========================================================            |  84%\r",
      "  |                                                                            \r",
      "  |============================================================          |  85%\r",
      "  |                                                                            \r",
      "  |============================================================          |  86%\r",
      "  |                                                                            \r",
      "  |=============================================================         |  86%\r",
      "  |                                                                            \r",
      "  |=============================================================         |  88%\r",
      "  |                                                                            \r",
      "  |==============================================================        |  89%\r",
      "  |                                                                            \r",
      "  |================================================================      |  91%\r",
      "  |                                                                            \r",
      "  |==================================================================    |  94%\r",
      "  |                                                                            \r",
      "  |====================================================================  |  96%\r",
      "  |                                                                            \r",
      "  |===================================================================== |  99%\r",
      "  |                                                                            \r",
      "  |======================================================================| 100%\n"
     ]
    }
   ],
   "source": [
    "fit1=h2o.gbm(y='actual_vote',x=c(         \n",
    "#                                           \"Donations_Centaur\", \"Donations_Ebony\", \"Donations_Tokuyawa\",\n",
    "#                                           \"Donations_Odyssey\" ,\"Donations_Cosmos\",\n",
    "                                          \"Centaur_rallies_indi\" ,\"Ebony_rallies_indi\", \"Tokuyawa_rallies_indi\" ,\n",
    "                                          \"Odyssey_rallies_indi\", \"Cosmos_rallies_indi\",\n",
    "                                          \"Centaur_rallies_gr\" ,\"Ebony_rallies_gr\" ,\"Tokuyawa_rallies_gr\",\n",
    "                                          \"Odyssey_rallies_gr\", \"Cosmos_rallies_gr\" ,\n",
    "                                          \"fund_raisers_Centaur\" ,\"fund_raisers_Ebony\", \"fund_raisers_Tokuyawa\" ,\n",
    "                                          \"fund_raisers_Odyssey\" ,\"fund_raisers_Cosmos\",\n",
    "                                          \"volunteered_Centaur\" ,\"volunteered_Ebony\" ,\"volunteered_Tokuyawa\" ,\n",
    "                                          \"volunteered_Odyssey\", \"volunteered_Cosmos\",\n",
    "                                          \"Household_size\" ,\"Age\" ,\"Married\", \"Home\" ,\"education\", \"newspapers\",\n",
    "                                          \"Region_Change_Current\",\"Region_Change_Previous\",\n",
    "                                          \"Region_Change_Current2\",\"Region_Change_Previous2\",\n",
    "#                                             \"Max_Don\",\"MaxIndi\" ,\n",
    "#                                             \"MaxGr\" , \"MaxFR\" ,\"MaxVol\",\n",
    "#                                           \"Var1_part\",\"Var2_part\",\"Var3_part\",\"Var4_part\",\"Var5_part\",\n",
    "                                         \"Var1_part2\",\"Var1_part3\",\"Var1_part3\",\n",
    "                                          \"Var2_part2\",\"Var2_part3\",\"Var2_part3\",\n",
    "                                          \"Var3_part2\",\"Var3_part3\",\"Var3_part3\",\n",
    "                                          \"Var4_part2\",\"Var4_part3\",\"Var4_part3\",\n",
    "                                          \"Var5_part2\",\"Var5_part3\",\"Var5_part3\"\n",
    " \n",
    "                                        \n",
    "                                         ),\n",
    "                                          training_frame=maintrain.h2o, ntree=100)"
   ]
  },
  {
   "cell_type": "code",
   "execution_count": null,
   "metadata": {
    "collapsed": true
   },
   "outputs": [],
   "source": []
  },
  {
   "cell_type": "code",
   "execution_count": 40,
   "metadata": {
    "collapsed": false
   },
   "outputs": [
    {
     "data": {
      "image/png": "[encoded data removed]",
      "text/plain": [
       "Plot with title \"Variable Importance: GBM\""
      ]
     },
     "metadata": {
      "image/svg+xml": {
       "isolated": true
      }
     },
     "output_type": "display_data"
    }
   ],
   "source": [
    "h2o.varimp_plot(fit1)"
   ]
  },
  {
   "cell_type": "code",
   "execution_count": 41,
   "metadata": {
    "collapsed": false
   },
   "outputs": [],
   "source": [
    "# h2o.varimp_plot(fit2)"
   ]
  },
  {
   "cell_type": "code",
   "execution_count": 42,
   "metadata": {
    "collapsed": false
   },
   "outputs": [
    {
     "name": "stdout",
     "output_type": "stream",
     "text": [
      "\r",
      "  |                                                                            \r",
      "  |                                                                      |   0%\r",
      "  |                                                                            \r",
      "  |===================================                                   |  50%\r",
      "  |                                                                            \r",
      "  |======================================================================| 100%\n"
     ]
    }
   ],
   "source": [
    "pred=h2o.predict(fit1,newdata=maintest.h2o)\n",
    "pred=as.data.frame(pred)\n",
    "Submit1 = data.frame(Citizen_id=test$Citizen_id,actual_vote=pred)\n",
    "colnames(Submit1) = NULL\n",
    "Submit=Submit1[,1:2]\n",
    "write.csv(Submit,file=\"submit.csv\",row.names=FALSE)"
   ]
  },
  {
   "cell_type": "code",
   "execution_count": 43,
   "metadata": {
    "collapsed": false
   },
   "outputs": [
    {
     "data": {
      "text/plain": [
       "\n",
       "  Centaur    Cosmos     Ebony   Odyssey  Tokugawa \n",
       "0.2209648 0.2079031 0.1962560 0.2361484 0.1387278 "
      ]
     },
     "metadata": {},
     "output_type": "display_data"
    }
   ],
   "source": [
    "table(Submit[,2:2])/nrow(Submit)"
   ]
  },
  {
   "cell_type": "code",
   "execution_count": 44,
   "metadata": {
    "collapsed": false
   },
   "outputs": [
    {
     "data": {
      "text/plain": [
       "\n",
       "  Centaur    Cosmos     Ebony      NULL   Odyssey  Tokugawa \n",
       "0.2156031 0.2155200 0.2151541 0.0000000 0.2199105 0.1338123 "
      ]
     },
     "metadata": {},
     "output_type": "display_data"
    }
   ],
   "source": [
    "table(train$actual_vote)/nrow(train)"
   ]
  },
  {
   "cell_type": "code",
   "execution_count": 35,
   "metadata": {
    "collapsed": false
   },
   "outputs": [
    {
     "data": {
      "text/plain": [
       "\n",
       "  Centaur    Cosmos     Ebony   Odyssey  Tokugawa \n",
       "0.2230205 0.2217399 0.2391858 0.2122104 0.1038434 "
      ]
     },
     "metadata": {},
     "output_type": "display_data"
    }
   ],
   "source": [
    "table(train$party_voted_past)/nrow(train)"
   ]
  },
  {
   "cell_type": "code",
   "execution_count": 36,
   "metadata": {
    "collapsed": true
   },
   "outputs": [],
   "source": [
    "library(rpart)\n",
    "library(rpart.plot)\n",
    "library(RColorBrewer)"
   ]
  },
  {
   "cell_type": "code",
   "execution_count": 37,
   "metadata": {
    "collapsed": true
   },
   "outputs": [],
   "source": [
    "#Household_size + Age + Married + Home + education + newspapers"
   ]
  },
  {
   "cell_type": "code",
   "execution_count": 38,
   "metadata": {
    "collapsed": true
   },
   "outputs": [],
   "source": [
    "#bag.fraction=.7"
   ]
  },
  {
   "cell_type": "code",
   "execution_count": null,
   "metadata": {
    "collapsed": false
   },
   "outputs": [],
   "source": []
  }
 ],
 "metadata": {
  "anaconda-cloud": {},
  "kernelspec": {
   "display_name": "Python [conda env:tensorflow]",
   "language": "python",
   "name": "conda-env-tensorflow-py"
  },
  "language_info": {
   "codemirror_mode": {
    "name": "ipython",
    "version": 3
   },
   "file_extension": ".py",
   "mimetype": "text/x-python",
   "name": "python",
   "nbconvert_exporter": "python",
   "pygments_lexer": "ipython3",
   "version": "3.6.0"
  }
 },
 "nbformat": 4,
 "nbformat_minor": 1
}
