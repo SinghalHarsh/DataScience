{
 "cells": [
  {
   "cell_type": "code",
   "execution_count": 1,
   "metadata": {
    "collapsed": false
   },
   "outputs": [],
   "source": [
    "data_combined=read.csv(\"data.combined.csv\")\n",
    "train=read.csv(\"train.csv\")"
   ]
  },
  {
   "cell_type": "code",
   "execution_count": 5,
   "metadata": {
    "collapsed": false
   },
   "outputs": [],
   "source": [
    "#Diya and geeta"
   ]
  },
  {
   "cell_type": "code",
   "execution_count": 3,
   "metadata": {
    "collapsed": false
   },
   "outputs": [
    {
     "data": {
      "text/plain": [
       "   citizen_id    party_voted_past     mvar1            mvar2       \n",
       " C1     :    1   Centaur :13410   Min.   : 0.000   Min.   : 0.000  \n",
       " C10    :    1   Cosmos  :13333   1st Qu.: 0.000   1st Qu.: 0.000  \n",
       " C100   :    1   Ebony   :14382   Median : 0.000   Median : 0.000  \n",
       " C1000  :    1   Odyssey :12760   Mean   : 2.112   Mean   : 2.215  \n",
       " C10000 :    1   Tokugawa: 6244   3rd Qu.: 3.000   3rd Qu.: 3.000  \n",
       " C10001 :    1                    Max.   :21.000   Max.   :21.000  \n",
       " (Other):60123                                                     \n",
       "     mvar3            mvar4            mvar5            mvar6       \n",
       " Min.   : 0.000   Min.   : 0.000   Min.   : 0.000   Min.   : 0.000  \n",
       " 1st Qu.: 0.000   1st Qu.: 0.000   1st Qu.: 0.000   1st Qu.: 0.000  \n",
       " Median : 0.000   Median : 0.000   Median : 0.000   Median : 0.000  \n",
       " Mean   : 1.254   Mean   : 2.419   Mean   : 1.949   Mean   : 1.136  \n",
       " 3rd Qu.: 0.000   3rd Qu.: 3.000   3rd Qu.: 2.000   3rd Qu.: 1.000  \n",
       " Max.   :21.000   Max.   :21.000   Max.   :21.000   Max.   :21.000  \n",
       "                                                                    \n",
       "     mvar7             mvar8             mvar9            mvar10      \n",
       " Min.   : 0.0000   Min.   : 0.0000   Min.   : 0.000   Min.   : 0.000  \n",
       " 1st Qu.: 0.0000   1st Qu.: 0.0000   1st Qu.: 0.000   1st Qu.: 0.000  \n",
       " Median : 0.0000   Median : 0.0000   Median : 0.000   Median : 0.000  \n",
       " Mean   : 0.9258   Mean   : 0.4717   Mean   : 1.461   Mean   : 1.039  \n",
       " 3rd Qu.: 1.0000   3rd Qu.: 0.0000   3rd Qu.: 2.000   3rd Qu.: 1.000  \n",
       " Max.   :21.0000   Max.   :17.0000   Max.   :21.000   Max.   :21.000  \n",
       "                                                                      \n",
       "     mvar11            mvar12           mvar13           mvar14      \n",
       " Min.   : 0.0000   Min.   :0.0000   Min.   :0.0000   Min.   :0.0000  \n",
       " 1st Qu.: 0.0000   1st Qu.:0.0000   1st Qu.:0.0000   1st Qu.:0.0000  \n",
       " Median : 0.0000   Median :0.0000   Median :0.0000   Median :0.0000  \n",
       " Mean   : 0.2631   Mean   :0.1708   Mean   :0.1712   Mean   :0.3184  \n",
       " 3rd Qu.: 0.0000   3rd Qu.:0.0000   3rd Qu.:0.0000   3rd Qu.:0.0000  \n",
       " Max.   :10.0000   Max.   :7.0000   Max.   :9.0000   Max.   :9.0000  \n",
       "                                                                     \n",
       "     mvar15           mvar16            mvar17            mvar18       \n",
       " Min.   :0.0000   Min.   : 0.0000   Min.   : 0.0000   Min.   : 0.0000  \n",
       " 1st Qu.:0.0000   1st Qu.: 0.0000   1st Qu.: 0.0000   1st Qu.: 0.0000  \n",
       " Median :0.0000   Median : 0.0000   Median : 0.0000   Median : 0.0000  \n",
       " Mean   :0.3335   Mean   : 0.2861   Mean   : 0.6871   Mean   : 0.2664  \n",
       " 3rd Qu.:0.0000   3rd Qu.: 0.0000   3rd Qu.: 1.0000   3rd Qu.: 0.0000  \n",
       " Max.   :9.0000   Max.   :18.0000   Max.   :18.0000   Max.   :15.0000  \n",
       "                                                                       \n",
       "     mvar19            mvar20             mvar21           mvar22     \n",
       " Min.   : 0.0000   Min.   : 0.00000   Min.   : 0.000   Min.   : 0.00  \n",
       " 1st Qu.: 0.0000   1st Qu.: 0.00000   1st Qu.: 0.000   1st Qu.: 0.00  \n",
       " Median : 0.0000   Median : 0.00000   Median : 0.000   Median : 0.00  \n",
       " Mean   : 0.1775   Mean   : 0.07161   Mean   : 5.591   Mean   : 6.21  \n",
       " 3rd Qu.: 0.0000   3rd Qu.: 0.00000   3rd Qu.:15.000   3rd Qu.:15.00  \n",
       " Max.   :10.0000   Max.   :18.00000   Max.   :15.000   Max.   :15.00  \n",
       "                                                                      \n",
       "     mvar23           mvar24           mvar25           mvar26     \n",
       " Min.   : 0.000   Min.   : 0.000   Min.   : 0.000   Min.   :1.000  \n",
       " 1st Qu.: 0.000   1st Qu.: 0.000   1st Qu.: 0.000   1st Qu.:1.000  \n",
       " Median : 0.000   Median : 0.000   Median : 0.000   Median :3.000  \n",
       " Mean   : 3.115   Mean   : 6.219   Mean   : 5.305   Mean   :2.678  \n",
       " 3rd Qu.: 0.000   3rd Qu.:15.000   3rd Qu.:15.000   3rd Qu.:4.000  \n",
       " Max.   :15.000   Max.   :15.000   Max.   :15.000   Max.   :8.000  \n",
       "                                                                   \n",
       "   mvar27          mvar28           mvar29           mvar30     \n",
       " 18-24:11803   Min.   :0.0000   Min.   :0.0000          :   30  \n",
       " 25-35:18347   1st Qu.:0.0000   1st Qu.:0.0000   Degree :18561  \n",
       " 36-45: 9030   Median :1.0000   Median :0.0000   Diploma:11077  \n",
       " 46-55:11244   Mean   :0.7033   Mean   :0.3008   Masters:23913  \n",
       " 55+  : 9705   3rd Qu.:1.0000   3rd Qu.:1.0000   Primary: 6548  \n",
       "               Max.   :1.0000   Max.   :1.0000                  \n",
       "               NA's   :30       NA's   :30                      \n",
       "     mvar31           mvar32          mvar33        actual_vote   \n",
       " Min.   : 0.000   ACL    : 5240   ACL    : 3869   Centaur :12964  \n",
       " 1st Qu.: 6.000   AEC    : 3307   AEC    : 3356   Cosmos  :12959  \n",
       " Median : 7.000   ATI    : 2463   ATI    : 2586   Ebony   :12937  \n",
       " Mean   : 6.599   ANQ    : 2430   ANQ    : 2549   Odyssey :13223  \n",
       " 3rd Qu.: 8.000   AOV    : 2338   AJI    : 2482   Tokugawa: 8046  \n",
       " Max.   :11.000   AJI    : 2322   ABX    : 2370                   \n",
       "                  (Other):42029   (Other):42917                   "
      ]
     },
     "metadata": {},
     "output_type": "display_data"
    }
   ],
   "source": [
    "summary(train)"
   ]
  },
  {
   "cell_type": "code",
   "execution_count": 2,
   "metadata": {
    "collapsed": true
   },
   "outputs": [],
   "source": [
    "data_combined$newspapers=as.factor(data_combined$newspapers)\n",
    "data_combined$Home=as.factor(data_combined$Home)\n",
    "data_combined$Married=as.factor(data_combined$Married)\n",
    "data_combined$Household_size=as.factor(data_combined$Household_size)"
   ]
  },
  {
   "cell_type": "code",
   "execution_count": 3,
   "metadata": {
    "collapsed": false
   },
   "outputs": [],
   "source": [
    "train1=data_combined[0:nrow(train),]"
   ]
  },
  {
   "cell_type": "code",
   "execution_count": 4,
   "metadata": {
    "collapsed": false
   },
   "outputs": [
    {
     "name": "stdout",
     "output_type": "stream",
     "text": [
      "'data.frame':\t60129 obs. of  36 variables:\n",
      " $ citizen_id      : Factor w/ 60129 levels \"C1\",\"C10\",\"C100\",..: 1 11112 22223 33334 44445 55556 56797 57908 59019 2 ...\n",
      " $ party_voted_past: Factor w/ 5 levels \"Centaur\",\"Cosmos\",..: 5 3 2 1 1 5 2 2 1 3 ...\n",
      " $ mvar1           : int  0 2 0 2 9 0 0 0 13 8 ...\n",
      " $ mvar2           : int  0 6 0 0 2 3 3 0 0 0 ...\n",
      " $ mvar3           : int  18 0 0 0 3 8 1 2 0 0 ...\n",
      " $ mvar4           : int  0 2 0 0 0 0 0 0 3 0 ...\n",
      " $ mvar5           : int  0 0 6 0 2 0 4 3 0 0 ...\n",
      " $ mvar6           : int  0 2 0 2 1 0 0 0 5 2 ...\n",
      " $ mvar7           : int  0 5 0 0 0 1 1 0 0 0 ...\n",
      " $ mvar8           : int  9 0 0 0 1 1 0 1 0 0 ...\n",
      " $ mvar9           : int  0 2 0 0 0 0 0 0 1 0 ...\n",
      " $ mvar10          : int  0 0 6 0 0 0 0 0 0 0 ...\n",
      " $ mvar11          : int  0 0 0 0 2 0 0 0 4 3 ...\n",
      " $ mvar12          : int  0 0 0 0 0 0 1 0 0 0 ...\n",
      " $ mvar13          : int  3 0 0 0 0 1 0 0 0 0 ...\n",
      " $ mvar14          : int  0 0 0 0 0 0 0 0 1 0 ...\n",
      " $ mvar15          : int  0 0 0 0 0 0 1 1 0 0 ...\n",
      " $ mvar16          : int  0 0 0 0 2 0 0 0 0 0 ...\n",
      " $ mvar17          : int  0 1 0 0 1 1 0 0 0 0 ...\n",
      " $ mvar18          : int  2 0 0 0 2 2 1 1 0 0 ...\n",
      " $ mvar19          : int  0 0 0 0 0 0 0 0 0 0 ...\n",
      " $ mvar20          : int  0 0 0 0 1 0 0 0 0 0 ...\n",
      " $ mvar21          : int  0 5 0 15 10 0 0 0 15 15 ...\n",
      " $ mvar22          : int  0 10 0 15 15 15 5 0 0 15 ...\n",
      " $ mvar23          : int  15 0 0 0 15 15 0 15 0 0 ...\n",
      " $ mvar24          : int  0 15 0 0 0 0 0 0 15 0 ...\n",
      " $ mvar25          : int  0 0 15 0 7 0 3 15 0 0 ...\n",
      " $ mvar26          : int  3 3 1 1 4 3 2 1 1 4 ...\n",
      " $ mvar27          : Factor w/ 5 levels \"18-24\",\"25-35\",..: 2 1 4 3 2 4 2 2 1 4 ...\n",
      " $ mvar28          : int  1 1 1 1 1 1 1 1 0 0 ...\n",
      " $ mvar29          : int  0 0 1 0 0 1 0 0 0 1 ...\n",
      " $ mvar30          : Factor w/ 5 levels \"\",\"Degree\",\"Diploma\",..: 2 4 4 2 5 4 3 3 2 5 ...\n",
      " $ mvar31          : int  6 5 6 6 7 8 7 6 5 6 ...\n",
      " $ mvar32          : Factor w/ 456 levels \"AAB\",\"AAC\",\"AAE\",..: 63 63 209 37 287 227 351 149 63 37 ...\n",
      " $ mvar33          : Factor w/ 465 levels \"AAB\",\"AAC\",\"AAE\",..: 63 63 219 235 295 235 363 235 128 382 ...\n",
      " $ actual_vote     : Factor w/ 5 levels \"Centaur\",\"Cosmos\",..: 5 3 2 1 1 5 2 5 1 1 ...\n"
     ]
    }
   ],
   "source": [
    "str(train)"
   ]
  },
  {
   "cell_type": "code",
   "execution_count": null,
   "metadata": {
    "collapsed": true
   },
   "outputs": [],
   "source": []
  },
  {
   "cell_type": "code",
   "execution_count": 5,
   "metadata": {
    "collapsed": false
   },
   "outputs": [
    {
     "data": {
      "text/plain": [
       "\n",
       " Centaur   Cosmos    Ebony  Odyssey Tokugawa \n",
       "   13410    13333    14382    12760     6244 "
      ]
     },
     "metadata": {},
     "output_type": "display_data"
    }
   ],
   "source": [
    "table(train$party_voted_past)"
   ]
  },
  {
   "cell_type": "code",
   "execution_count": 6,
   "metadata": {
    "collapsed": false
   },
   "outputs": [
    {
     "data": {
      "text/plain": [
       "\n",
       " Centaur   Cosmos    Ebony  Odyssey Tokugawa \n",
       "   12964    12959    12937    13223     8046 "
      ]
     },
     "metadata": {},
     "output_type": "display_data"
    }
   ],
   "source": [
    "table(train$actual_vote)"
   ]
  },
  {
   "cell_type": "code",
   "execution_count": 7,
   "metadata": {
    "collapsed": false
   },
   "outputs": [
    {
     "data": {
      "text/plain": [
       "          \n",
       "           Centaur Cosmos Ebony Odyssey Tokugawa\n",
       "  Centaur     9970    919   889     848      784\n",
       "  Cosmos       892   9967   934     855      685\n",
       "  Ebony       1114   1089  9996    1095     1088\n",
       "  Odyssey      670    698   702   10192      498\n",
       "  Tokugawa     318    286   416     233     4991"
      ]
     },
     "metadata": {},
     "output_type": "display_data"
    }
   ],
   "source": [
    "table(train$party_voted_past,train$actual_vote)"
   ]
  },
  {
   "cell_type": "code",
   "execution_count": null,
   "metadata": {
    "collapsed": true
   },
   "outputs": [],
   "source": []
  },
  {
   "cell_type": "code",
   "execution_count": 3,
   "metadata": {
    "collapsed": false
   },
   "outputs": [
    {
     "data": {
      "text/plain": [
       "\n",
       "    0     1     2     3     4     5     6     7     8     9    10    11    12 \n",
       "33888  6232  4707  2906  2470  1778  1474  1130   967   752   672   557   494 \n",
       "   13    14    15    16    17    18    19    20    21 \n",
       "  391   316   291   250   237   177   165   160   115 "
      ]
     },
     "metadata": {},
     "output_type": "display_data"
    },
    {
     "data": {
      "text/plain": [
       "\n",
       "    0     1     2     3     4     5     6     7     8     9    10    11    12 \n",
       "33812  6027  4397  2763  2415  1821  1575  1211  1038   918   764   597   531 \n",
       "   13    14    15    16    17    18    19    20    21 \n",
       "  414   355   346   259   254   208   145   137   142 "
      ]
     },
     "metadata": {},
     "output_type": "display_data"
    },
    {
     "data": {
      "text/plain": [
       "\n",
       "    0     1     2     3     4     5     6     7     8     9    10    11    12 \n",
       "46378  2777  2301  1304  1291   912   860   654   611   508   432   318   326 \n",
       "   13    14    15    16    17    18    19    20    21 \n",
       "  261   244   198   200   113   134    99   106   102 "
      ]
     },
     "metadata": {},
     "output_type": "display_data"
    },
    {
     "data": {
      "text/plain": [
       "\n",
       "    0     1     2     3     4     5     6     7     8     9    10    11    12 \n",
       "35104  4606  3464  2490  2268  1930  1581  1395  1223  1030   878   733   625 \n",
       "   13    14    15    16    17    18    19    20    21 \n",
       "  518   460   376   325   297   218   221   223   164 "
      ]
     },
     "metadata": {},
     "output_type": "display_data"
    },
    {
     "data": {
      "text/plain": [
       "\n",
       "    0     1     2     3     4     5     6     7     8     9    10    11    12 \n",
       "36166  5961  4217  2516  2225  1556  1303   994   896   669   601   480   474 \n",
       "   13    14    15    16    17    18    19    20    21 \n",
       "  332   342   261   252   232   181   181   138   152 "
      ]
     },
     "metadata": {},
     "output_type": "display_data"
    }
   ],
   "source": [
    "table(train$mvar1)\n",
    "table(train$mvar2)\n",
    "table(train$mvar3)\n",
    "table(train$mvar4)\n",
    "table(train$mvar5)"
   ]
  },
  {
   "cell_type": "code",
   "execution_count": 8,
   "metadata": {
    "collapsed": false
   },
   "outputs": [],
   "source": [
    "library(ggplot2)"
   ]
  },
  {
   "cell_type": "code",
   "execution_count": 9,
   "metadata": {
    "collapsed": false
   },
   "outputs": [
    {
     "data": {
      "image/png": "[encoded data removed]",
      "text/plain": [
       "plot without title"
      ]
     },
     "metadata": {
      "image/svg+xml": {
       "isolated": true
      }
     },
     "output_type": "display_data"
    },
    {
     "data": {
      "image/png": "[encoded data removed]",
      "text/plain": [
       "plot without title"
      ]
     },
     "metadata": {
      "image/svg+xml": {
       "isolated": true
      }
     },
     "output_type": "display_data"
    },
    {
     "data": {
      "image/png": "[encoded data removed]",
      "text/plain": [
       "plot without title"
      ]
     },
     "metadata": {
      "image/svg+xml": {
       "isolated": true
      }
     },
     "output_type": "display_data"
    },
    {
     "data": {
      "image/png": "[encoded data removed]",
      "text/plain": [
       "plot without title"
      ]
     },
     "metadata": {
      "image/svg+xml": {
       "isolated": true
      }
     },
     "output_type": "display_data"
    },
    {
     "data": {
      "image/png": "[encoded data removed]",
      "text/plain": [
       "plot without title"
      ]
     },
     "metadata": {
      "image/svg+xml": {
       "isolated": true
      }
     },
     "output_type": "display_data"
    }
   ],
   "source": [
    "#Household size\n",
    "options(repr.plot.width=5,repr.plot.height=2)\n",
    "#gplot(train,aes(x=Donations_Centaur)) + geom_bar()\n",
    "ggplot(train,aes(x=mvar1,fill=factor(actual_vote)),)+geom_bar(position = \"fill\")\n",
    "ggplot(train,aes(x=mvar2,fill=factor(actual_vote)),)+geom_bar(position = \"fill\")\n",
    "ggplot(train,aes(x=mvar3,fill=factor(actual_vote)),)+geom_bar(position = \"fill\")\n",
    "ggplot(train,aes(x=mvar4,fill=factor(actual_vote)),)+geom_bar(position = \"fill\")\n",
    "ggplot(train,aes(x=mvar5,fill=factor(actual_vote)),)+geom_bar(position = \"fill\")"
   ]
  },
  {
   "cell_type": "code",
   "execution_count": 4,
   "metadata": {
    "collapsed": false
   },
   "outputs": [
    {
     "data": {
      "text/plain": [
       "\n",
       "    0     1     2     3     4     5     6     7     8     9    10    11    12 \n",
       "37723  8797  4763  2681  1721  1122   858   627   435   330   275   202   151 \n",
       "   13    14    15    16    17    18    19    20    21 \n",
       "  124    95    78    53    41    15    19    13     6 "
      ]
     },
     "metadata": {},
     "output_type": "display_data"
    },
    {
     "data": {
      "text/plain": [
       "\n",
       "    0     1     2     3     4     5     6     7     8     9    10    11    12 \n",
       "40169  8761  4020  2220  1490   976   671   476   388   265   183   140   107 \n",
       "   13    14    15    16    17    18    19    20    21 \n",
       "   86    59    56    22    13    15     6     4     2 "
      ]
     },
     "metadata": {},
     "output_type": "display_data"
    },
    {
     "data": {
      "text/plain": [
       "\n",
       "    0     1     2     3     4     5     6     7     8     9    10    11    12 \n",
       "49448  4457  2304  1367   863   563   366   243   195   116    62    55    29 \n",
       "   13    14    15    16    17 \n",
       "   26    17    13     3     2 "
      ]
     },
     "metadata": {},
     "output_type": "display_data"
    },
    {
     "data": {
      "text/plain": [
       "\n",
       "    0     1     2     3     4     5     6     7     8     9    10    11    12 \n",
       "37359  6701  4137  2838  2230  1647  1174   966   777   526   436   330   264 \n",
       "   13    14    15    16    17    18    19    20    21 \n",
       "  188   181   101    88    79    50    20    20    17 "
      ]
     },
     "metadata": {},
     "output_type": "display_data"
    },
    {
     "data": {
      "text/plain": [
       "\n",
       "    0     1     2     3     4     5     6     7     8     9    10    11    12 \n",
       "39526  8515  4124  2306  1541  1047   733   566   455   335   258   185   135 \n",
       "   13    14    15    16    17    18    19    20    21 \n",
       "  112    86    70    33    35    19    24    11    13 "
      ]
     },
     "metadata": {},
     "output_type": "display_data"
    }
   ],
   "source": [
    "table(train$mvar6)\n",
    "table(train$mvar7)\n",
    "table(train$mvar8)\n",
    "table(train$mvar9)\n",
    "table(train$mvar10)"
   ]
  },
  {
   "cell_type": "code",
   "execution_count": 10,
   "metadata": {
    "collapsed": false
   },
   "outputs": [
    {
     "data": {
      "image/png": "[encoded data removed]",
      "text/plain": [
       "plot without title"
      ]
     },
     "metadata": {
      "image/svg+xml": {
       "isolated": true
      }
     },
     "output_type": "display_data"
    },
    {
     "data": {
      "image/png": "[encoded data removed]",
      "text/plain": [
       "plot without title"
      ]
     },
     "metadata": {
      "image/svg+xml": {
       "isolated": true
      }
     },
     "output_type": "display_data"
    },
    {
     "data": {
      "image/png": "[encoded data removed]",
      "text/plain": [
       "plot without title"
      ]
     },
     "metadata": {
      "image/svg+xml": {
       "isolated": true
      }
     },
     "output_type": "display_data"
    },
    {
     "data": {
      "image/png": "[encoded data removed]",
      "text/plain": [
       "plot without title"
      ]
     },
     "metadata": {
      "image/svg+xml": {
       "isolated": true
      }
     },
     "output_type": "display_data"
    },
    {
     "data": {
      "image/png": "[encoded data removed]",
      "text/plain": [
       "plot without title"
      ]
     },
     "metadata": {
      "image/svg+xml": {
       "isolated": true
      }
     },
     "output_type": "display_data"
    }
   ],
   "source": [
    "ggplot(train,aes(x=mvar6,fill=factor(actual_vote)),)+geom_bar(position = \"fill\")\n",
    "ggplot(train,aes(x=mvar7,fill=factor(actual_vote)),)+geom_bar(position = \"fill\")\n",
    "ggplot(train,aes(x=mvar8,fill=factor(actual_vote)),)+geom_bar(position = \"fill\")\n",
    "ggplot(train,aes(x=mvar9,fill=factor(actual_vote)),)+geom_bar(position = \"fill\")\n",
    "ggplot(train,aes(x=mvar10,fill=factor(actual_vote)),)+geom_bar(position = \"fill\")"
   ]
  },
  {
   "cell_type": "code",
   "execution_count": 11,
   "metadata": {
    "collapsed": false
   },
   "outputs": [
    {
     "data": {
      "image/png": "[encoded data removed]",
      "text/plain": [
       "plot without title"
      ]
     },
     "metadata": {
      "image/svg+xml": {
       "isolated": true
      }
     },
     "output_type": "display_data"
    },
    {
     "data": {
      "image/png": "[encoded data removed]",
      "text/plain": [
       "plot without title"
      ]
     },
     "metadata": {
      "image/svg+xml": {
       "isolated": true
      }
     },
     "output_type": "display_data"
    },
    {
     "data": {
      "image/png": "[encoded data removed]",
      "text/plain": [
       "plot without title"
      ]
     },
     "metadata": {
      "image/svg+xml": {
       "isolated": true
      }
     },
     "output_type": "display_data"
    },
    {
     "data": {
      "image/png": "[encoded data removed]",
      "text/plain": [
       "plot without title"
      ]
     },
     "metadata": {
      "image/svg+xml": {
       "isolated": true
      }
     },
     "output_type": "display_data"
    },
    {
     "data": {
      "image/png": "[encoded data removed]",
      "text/plain": [
       "plot without title"
      ]
     },
     "metadata": {
      "image/svg+xml": {
       "isolated": true
      }
     },
     "output_type": "display_data"
    }
   ],
   "source": [
    "ggplot(train,aes(x=mvar11,fill=factor(actual_vote)),)+geom_bar(position = \"fill\")\n",
    "ggplot(train,aes(x=mvar12,fill=factor(actual_vote)),)+geom_bar(position = \"fill\")\n",
    "ggplot(train,aes(x=mvar13,fill=factor(actual_vote)),)+geom_bar(position = \"fill\")\n",
    "ggplot(train,aes(x=mvar14,fill=factor(actual_vote)),)+geom_bar(position = \"fill\")\n",
    "ggplot(train,aes(x=mvar15,fill=factor(actual_vote)),)+geom_bar(position = \"fill\")"
   ]
  },
  {
   "cell_type": "code",
   "execution_count": 12,
   "metadata": {
    "collapsed": false
   },
   "outputs": [
    {
     "data": {
      "image/png": "[encoded data removed]",
      "text/plain": [
       "plot without title"
      ]
     },
     "metadata": {
      "image/svg+xml": {
       "isolated": true
      }
     },
     "output_type": "display_data"
    },
    {
     "data": {
      "image/png": "[encoded data removed]",
      "text/plain": [
       "plot without title"
      ]
     },
     "metadata": {
      "image/svg+xml": {
       "isolated": true
      }
     },
     "output_type": "display_data"
    },
    {
     "data": {
      "image/png": "[encoded data removed]",
      "text/plain": [
       "plot without title"
      ]
     },
     "metadata": {
      "image/svg+xml": {
       "isolated": true
      }
     },
     "output_type": "display_data"
    },
    {
     "data": {
      "image/png": "[encoded data removed]",
      "text/plain": [
       "plot without title"
      ]
     },
     "metadata": {
      "image/svg+xml": {
       "isolated": true
      }
     },
     "output_type": "display_data"
    },
    {
     "data": {
      "image/png": "[encoded data removed]",
      "text/plain": [
       "plot without title"
      ]
     },
     "metadata": {
      "image/svg+xml": {
       "isolated": true
      }
     },
     "output_type": "display_data"
    }
   ],
   "source": [
    "ggplot(train,aes(x=mvar16,fill=factor(actual_vote)),)+geom_bar(position = \"fill\")\n",
    "ggplot(train,aes(x=mvar17,fill=factor(actual_vote)),)+geom_bar(position = \"fill\")\n",
    "ggplot(train,aes(x=mvar18,fill=factor(actual_vote)),)+geom_bar(position = \"fill\")\n",
    "ggplot(train,aes(x=mvar19,fill=factor(actual_vote)),)+geom_bar(position = \"fill\")\n",
    "ggplot(train,aes(x=mvar20,fill=factor(actual_vote)),)+geom_bar(position = \"fill\")"
   ]
  },
  {
   "cell_type": "code",
   "execution_count": 13,
   "metadata": {
    "collapsed": false
   },
   "outputs": [
    {
     "data": {
      "image/png": "[encoded data removed]",
      "text/plain": [
       "plot without title"
      ]
     },
     "metadata": {
      "image/svg+xml": {
       "isolated": true
      }
     },
     "output_type": "display_data"
    },
    {
     "data": {
      "image/png": "[encoded data removed]",
      "text/plain": [
       "plot without title"
      ]
     },
     "metadata": {
      "image/svg+xml": {
       "isolated": true
      }
     },
     "output_type": "display_data"
    },
    {
     "data": {
      "image/png": "[encoded data removed]",
      "text/plain": [
       "plot without title"
      ]
     },
     "metadata": {
      "image/svg+xml": {
       "isolated": true
      }
     },
     "output_type": "display_data"
    },
    {
     "data": {
      "image/png": "[encoded data removed]",
      "text/plain": [
       "plot without title"
      ]
     },
     "metadata": {
      "image/svg+xml": {
       "isolated": true
      }
     },
     "output_type": "display_data"
    },
    {
     "data": {
      "image/png": "[encoded data removed]",
      "text/plain": [
       "plot without title"
      ]
     },
     "metadata": {
      "image/svg+xml": {
       "isolated": true
      }
     },
     "output_type": "display_data"
    }
   ],
   "source": [
    "ggplot(train,aes(x=mvar21,fill=factor(actual_vote)),)+geom_bar(position = \"fill\")\n",
    "ggplot(train,aes(x=mvar22,fill=factor(actual_vote)),)+geom_bar(position = \"fill\")\n",
    "ggplot(train,aes(x=mvar23,fill=factor(actual_vote)),)+geom_bar(position = \"fill\")\n",
    "ggplot(train,aes(x=mvar24,fill=factor(actual_vote)),)+geom_bar(position = \"fill\")\n",
    "ggplot(train,aes(x=mvar25,fill=factor(actual_vote)),)+geom_bar(position = \"fill\")"
   ]
  }
 ],
 "metadata": {
  "anaconda-cloud": {},
  "kernelspec": {
   "display_name": "Python [conda env:tensorflow]",
   "language": "python",
   "name": "conda-env-tensorflow-py"
  },
  "language_info": {
   "codemirror_mode": {
    "name": "ipython",
    "version": 3
   },
   "file_extension": ".py",
   "mimetype": "text/x-python",
   "name": "python",
   "nbconvert_exporter": "python",
   "pygments_lexer": "ipython3",
   "version": "3.6.0"
  }
 },
 "nbformat": 4,
 "nbformat_minor": 1
}
