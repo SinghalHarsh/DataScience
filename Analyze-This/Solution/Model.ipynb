{
 "cells": [
  {
   "cell_type": "code",
   "execution_count": 3,
   "metadata": {
    "collapsed": true
   },
   "outputs": [],
   "source": [
    "train=read.csv(\"Train.csv\")"
   ]
  },
  {
   "cell_type": "code",
   "execution_count": 4,
   "metadata": {
    "collapsed": false
   },
   "outputs": [
    {
     "data": {
      "text/plain": [
       "\n",
       "  FALSE    TRUE \n",
       "2164584      60 "
      ]
     },
     "metadata": {},
     "output_type": "display_data"
    }
   ],
   "source": [
    "table(is.na(train))"
   ]
  },
  {
   "cell_type": "code",
   "execution_count": 5,
   "metadata": {
    "collapsed": true
   },
   "outputs": [],
   "source": [
    "train[is.na(train)]=-1"
   ]
  },
  {
   "cell_type": "code",
   "execution_count": null,
   "metadata": {
    "collapsed": true
   },
   "outputs": [],
   "source": []
  },
  {
   "cell_type": "code",
   "execution_count": null,
   "metadata": {
    "collapsed": true
   },
   "outputs": [],
   "source": [
    "mvar31=as.factor(train$mvar31)"
   ]
  },
  {
   "cell_type": "code",
   "execution_count": 12,
   "metadata": {
    "collapsed": false
   },
   "outputs": [
    {
     "name": "stdout",
     "output_type": "stream",
     "text": [
      "'data.frame':\t60129 obs. of  36 variables:\n",
      " $ citizen_id      : Factor w/ 60129 levels \"C1\",\"C10\",\"C100\",..: 1 11112 22223 33334 44445 55556 56797 57908 59019 2 ...\n",
      " $ party_voted_past: Factor w/ 5 levels \"Centaur\",\"Cosmos\",..: 5 3 2 1 1 5 2 2 1 3 ...\n",
      " $ mvar1           : int  0 2 0 2 9 0 0 0 13 8 ...\n",
      " $ mvar2           : int  0 6 0 0 2 3 3 0 0 0 ...\n",
      " $ mvar3           : int  18 0 0 0 3 8 1 2 0 0 ...\n",
      " $ mvar4           : int  0 2 0 0 0 0 0 0 3 0 ...\n",
      " $ mvar5           : int  0 0 6 0 2 0 4 3 0 0 ...\n",
      " $ mvar6           : int  0 2 0 2 1 0 0 0 5 2 ...\n",
      " $ mvar7           : int  0 5 0 0 0 1 1 0 0 0 ...\n",
      " $ mvar8           : int  9 0 0 0 1 1 0 1 0 0 ...\n",
      " $ mvar9           : int  0 2 0 0 0 0 0 0 1 0 ...\n",
      " $ mvar10          : int  0 0 6 0 0 0 0 0 0 0 ...\n",
      " $ mvar11          : int  0 0 0 0 2 0 0 0 4 3 ...\n",
      " $ mvar12          : int  0 0 0 0 0 0 1 0 0 0 ...\n",
      " $ mvar13          : int  3 0 0 0 0 1 0 0 0 0 ...\n",
      " $ mvar14          : int  0 0 0 0 0 0 0 0 1 0 ...\n",
      " $ mvar15          : int  0 0 0 0 0 0 1 1 0 0 ...\n",
      " $ mvar16          : int  0 0 0 0 2 0 0 0 0 0 ...\n",
      " $ mvar17          : int  0 1 0 0 1 1 0 0 0 0 ...\n",
      " $ mvar18          : int  2 0 0 0 2 2 1 1 0 0 ...\n",
      " $ mvar19          : int  0 0 0 0 0 0 0 0 0 0 ...\n",
      " $ mvar20          : int  0 0 0 0 1 0 0 0 0 0 ...\n",
      " $ mvar21          : int  0 5 0 15 10 0 0 0 15 15 ...\n",
      " $ mvar22          : int  0 10 0 15 15 15 5 0 0 15 ...\n",
      " $ mvar23          : int  15 0 0 0 15 15 0 15 0 0 ...\n",
      " $ mvar24          : int  0 15 0 0 0 0 0 0 15 0 ...\n",
      " $ mvar25          : int  0 0 15 0 7 0 3 15 0 0 ...\n",
      " $ mvar26          : int  3 3 1 1 4 3 2 1 1 4 ...\n",
      " $ mvar27          : Factor w/ 5 levels \"18-24\",\"25-35\",..: 2 1 4 3 2 4 2 2 1 4 ...\n",
      " $ mvar28          : num  1 1 1 1 1 1 1 1 0 0 ...\n",
      " $ mvar29          : num  0 0 1 0 0 1 0 0 0 1 ...\n",
      " $ mvar30          : Factor w/ 5 levels \"\",\"Degree\",\"Diploma\",..: 2 4 4 2 5 4 3 3 2 5 ...\n",
      " $ mvar31          : int  6 5 6 6 7 8 7 6 5 6 ...\n",
      " $ mvar32          : Factor w/ 456 levels \"AAB\",\"AAC\",\"AAE\",..: 63 63 209 37 287 227 351 149 63 37 ...\n",
      " $ mvar33          : Factor w/ 465 levels \"AAB\",\"AAC\",\"AAE\",..: 63 63 219 235 295 235 363 235 128 382 ...\n",
      " $ actual_vote     : Factor w/ 5 levels \"Centaur\",\"Cosmos\",..: 5 3 2 1 1 5 2 5 1 1 ...\n"
     ]
    }
   ],
   "source": [
    "str(train)"
   ]
  },
  {
   "cell_type": "code",
   "execution_count": 6,
   "metadata": {
    "collapsed": false
   },
   "outputs": [
    {
     "data": {
      "text/html": [
       "<ol class=list-inline>\n",
       "\t<li>\"citizen_id\"</li>\n",
       "\t<li>\"party_voted_past\"</li>\n",
       "\t<li>\"mvar1\"</li>\n",
       "\t<li>\"mvar2\"</li>\n",
       "\t<li>\"mvar3\"</li>\n",
       "\t<li>\"mvar4\"</li>\n",
       "\t<li>\"mvar5\"</li>\n",
       "\t<li>\"mvar6\"</li>\n",
       "\t<li>\"mvar7\"</li>\n",
       "\t<li>\"mvar8\"</li>\n",
       "\t<li>\"mvar9\"</li>\n",
       "\t<li>\"mvar10\"</li>\n",
       "\t<li>\"mvar11\"</li>\n",
       "\t<li>\"mvar12\"</li>\n",
       "\t<li>\"mvar13\"</li>\n",
       "\t<li>\"mvar14\"</li>\n",
       "\t<li>\"mvar15\"</li>\n",
       "\t<li>\"mvar16\"</li>\n",
       "\t<li>\"mvar17\"</li>\n",
       "\t<li>\"mvar18\"</li>\n",
       "\t<li>\"mvar19\"</li>\n",
       "\t<li>\"mvar20\"</li>\n",
       "\t<li>\"mvar21\"</li>\n",
       "\t<li>\"mvar22\"</li>\n",
       "\t<li>\"mvar23\"</li>\n",
       "\t<li>\"mvar24\"</li>\n",
       "\t<li>\"mvar25\"</li>\n",
       "\t<li>\"mvar26\"</li>\n",
       "\t<li>\"mvar27\"</li>\n",
       "\t<li>\"mvar28\"</li>\n",
       "\t<li>\"mvar29\"</li>\n",
       "\t<li>\"mvar30\"</li>\n",
       "\t<li>\"mvar31\"</li>\n",
       "\t<li>\"mvar32\"</li>\n",
       "\t<li>\"mvar33\"</li>\n",
       "\t<li>\"actual_vote\"</li>\n",
       "</ol>\n"
      ],
      "text/latex": [
       "\\begin{enumerate*}\n",
       "\\item \"citizen\\_id\"\n",
       "\\item \"party\\_voted\\_past\"\n",
       "\\item \"mvar1\"\n",
       "\\item \"mvar2\"\n",
       "\\item \"mvar3\"\n",
       "\\item \"mvar4\"\n",
       "\\item \"mvar5\"\n",
       "\\item \"mvar6\"\n",
       "\\item \"mvar7\"\n",
       "\\item \"mvar8\"\n",
       "\\item \"mvar9\"\n",
       "\\item \"mvar10\"\n",
       "\\item \"mvar11\"\n",
       "\\item \"mvar12\"\n",
       "\\item \"mvar13\"\n",
       "\\item \"mvar14\"\n",
       "\\item \"mvar15\"\n",
       "\\item \"mvar16\"\n",
       "\\item \"mvar17\"\n",
       "\\item \"mvar18\"\n",
       "\\item \"mvar19\"\n",
       "\\item \"mvar20\"\n",
       "\\item \"mvar21\"\n",
       "\\item \"mvar22\"\n",
       "\\item \"mvar23\"\n",
       "\\item \"mvar24\"\n",
       "\\item \"mvar25\"\n",
       "\\item \"mvar26\"\n",
       "\\item \"mvar27\"\n",
       "\\item \"mvar28\"\n",
       "\\item \"mvar29\"\n",
       "\\item \"mvar30\"\n",
       "\\item \"mvar31\"\n",
       "\\item \"mvar32\"\n",
       "\\item \"mvar33\"\n",
       "\\item \"actual\\_vote\"\n",
       "\\end{enumerate*}\n"
      ],
      "text/markdown": [
       "1. \"citizen_id\"\n",
       "2. \"party_voted_past\"\n",
       "3. \"mvar1\"\n",
       "4. \"mvar2\"\n",
       "5. \"mvar3\"\n",
       "6. \"mvar4\"\n",
       "7. \"mvar5\"\n",
       "8. \"mvar6\"\n",
       "9. \"mvar7\"\n",
       "10. \"mvar8\"\n",
       "11. \"mvar9\"\n",
       "12. \"mvar10\"\n",
       "13. \"mvar11\"\n",
       "14. \"mvar12\"\n",
       "15. \"mvar13\"\n",
       "16. \"mvar14\"\n",
       "17. \"mvar15\"\n",
       "18. \"mvar16\"\n",
       "19. \"mvar17\"\n",
       "20. \"mvar18\"\n",
       "21. \"mvar19\"\n",
       "22. \"mvar20\"\n",
       "23. \"mvar21\"\n",
       "24. \"mvar22\"\n",
       "25. \"mvar23\"\n",
       "26. \"mvar24\"\n",
       "27. \"mvar25\"\n",
       "28. \"mvar26\"\n",
       "29. \"mvar27\"\n",
       "30. \"mvar28\"\n",
       "31. \"mvar29\"\n",
       "32. \"mvar30\"\n",
       "33. \"mvar31\"\n",
       "34. \"mvar32\"\n",
       "35. \"mvar33\"\n",
       "36. \"actual_vote\"\n",
       "\n",
       "\n"
      ],
      "text/plain": [
       " [1] \"citizen_id\"       \"party_voted_past\" \"mvar1\"            \"mvar2\"           \n",
       " [5] \"mvar3\"            \"mvar4\"            \"mvar5\"            \"mvar6\"           \n",
       " [9] \"mvar7\"            \"mvar8\"            \"mvar9\"            \"mvar10\"          \n",
       "[13] \"mvar11\"           \"mvar12\"           \"mvar13\"           \"mvar14\"          \n",
       "[17] \"mvar15\"           \"mvar16\"           \"mvar17\"           \"mvar18\"          \n",
       "[21] \"mvar19\"           \"mvar20\"           \"mvar21\"           \"mvar22\"          \n",
       "[25] \"mvar23\"           \"mvar24\"           \"mvar25\"           \"mvar26\"          \n",
       "[29] \"mvar27\"           \"mvar28\"           \"mvar29\"           \"mvar30\"          \n",
       "[33] \"mvar31\"           \"mvar32\"           \"mvar33\"           \"actual_vote\"     "
      ]
     },
     "metadata": {},
     "output_type": "display_data"
    }
   ],
   "source": [
    "colnames(train)"
   ]
  },
  {
   "cell_type": "code",
   "execution_count": null,
   "metadata": {
    "collapsed": true
   },
   "outputs": [],
   "source": []
  },
  {
   "cell_type": "code",
   "execution_count": 13,
   "metadata": {
    "collapsed": false
   },
   "outputs": [],
   "source": [
    "library(randomForest)"
   ]
  },
  {
   "cell_type": "code",
   "execution_count": 14,
   "metadata": {
    "collapsed": true
   },
   "outputs": [],
   "source": [
    "train$actual_vote=as.factor(train$actual_vote)"
   ]
  },
  {
   "cell_type": "code",
   "execution_count": null,
   "metadata": {
    "collapsed": true
   },
   "outputs": [],
   "source": [
    "independent=c('party_voted_past',\"mvar1\", \"mvar2\", \"mvar3\" ,\"mvar4\", \"mvar5\", \"mvar6\", \"mvar7\", \"mvar8\", \"mvar9\" ,\"mvar10\" ,\"mvar11\" ,\"mvar12\" ,\"mvar13\" ,\"mvar14\", \"mvar15\", \"mvar16\", \"mvar17\" ,\"mvar18\" ,\"mvar19\", \"mvar20\", \"mvar21\", \"mvar22\" ,\"mvar23\" ,\"mvar24\", \"mvar25\" ,\"mvar26\", \"mvar27\" ,\"mvar28\", \"mvar29\", \"mvar30\", \"mvar31\", \"mvar32\" ,\"mvar33\")    "
   ]
  },
  {
   "cell_type": "code",
   "execution_count": 17,
   "metadata": {
    "collapsed": false
   },
   "outputs": [],
   "source": [
    "fit1=randomForest(actual_vote ~ party_voted_past + mvar1 + mvar2 + mvar3 + mvar4 + mvar5 + mvar6 + \n",
    "                                mvar7 + mvar8 + mvar9 + mvar10 + mvar11 + mvar12 + mvar13 + mvar14 + \n",
    "                                mvar15 + mvar16 + mvar17 + mvar18 + mvar19 + mvar20 + mvar21 + mvar22 +\n",
    "                                mvar23 + mvar24 + mvar25 + mvar26 + mvar27 + mvar28 + mvar29 + mvar30 + mvar31 ,\n",
    "                                train, ntree=500)"
   ]
  }
 ],
 "metadata": {
  "kernelspec": {
   "display_name": "Python [conda env:tensorflow]",
   "language": "python",
   "name": "conda-env-tensorflow-py"
  },
  "language_info": {
   "codemirror_mode": {
    "name": "ipython",
    "version": 3
   },
   "file_extension": ".py",
   "mimetype": "text/x-python",
   "name": "python",
   "nbconvert_exporter": "python",
   "pygments_lexer": "ipython3",
   "version": "3.6.0"
  }
 },
 "nbformat": 4,
 "nbformat_minor": 1
}
