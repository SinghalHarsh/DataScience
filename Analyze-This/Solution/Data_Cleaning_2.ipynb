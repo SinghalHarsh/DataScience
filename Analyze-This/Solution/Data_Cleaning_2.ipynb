{
 "cells": [
  {
   "cell_type": "code",
   "execution_count": 1,
   "metadata": {
    "collapsed": false
   },
   "outputs": [],
   "source": [
    "data_combined=read.csv(\"data.combined1.csv\")"
   ]
  },
  {
   "cell_type": "code",
   "execution_count": 2,
   "metadata": {
    "collapsed": false
   },
   "outputs": [],
   "source": [
    "data_combined$newspapers=as.factor(data_combined$newspapers)\n",
    "data_combined$Home=as.factor(data_combined$Home)\n",
    "data_combined$Married=as.factor(data_combined$Married)\n",
    "data_combined$Household_size=as.factor(data_combined$Household_size)"
   ]
  },
  {
   "cell_type": "code",
   "execution_count": 3,
   "metadata": {
    "collapsed": false
   },
   "outputs": [],
   "source": [
    "#Creating Parts of Current_Region_1\n",
    "\n",
    "data_combined$CR1_part[data_combined$Current_Region_1==\"AB\"  |  data_combined$Current_Region_1==\"AL\"  |  \n",
    "                       data_combined$Current_Region_1==\"AI\"  |  data_combined$Current_Region_1==\"AS\"     ]=1\n",
    "\n",
    "data_combined$CR1_part[data_combined$Current_Region_1==\"AF\"  |  data_combined$Current_Region_1==\"AJ\"  |  \n",
    "                       data_combined$Current_Region_1==\"AM\"  |  data_combined$Current_Region_1==\"AW\"  |\n",
    "                       data_combined$Current_Region_1==\"AT\"  |  data_combined$Current_Region_1==\"BB\"     ]=2\n",
    "\n",
    "data_combined$CR1_part[data_combined$Current_Region_1==\"AA\"  |  data_combined$Current_Region_1==\"AK\"  |  \n",
    "                       data_combined$Current_Region_1==\"AC\"  |  data_combined$Current_Region_1==\"AO\"  |\n",
    "                       data_combined$Current_Region_1==\"AD\"  |  data_combined$Current_Region_1==\"AQ\"  |\n",
    "                       data_combined$Current_Region_1==\"AG\"  |  data_combined$Current_Region_1==\"AR\"  |\n",
    "                       data_combined$Current_Region_1==\"AH\"  |  data_combined$Current_Region_1==\"AU\"  | \n",
    "                       data_combined$Current_Region_1==\"AV\"  |  data_combined$Current_Region_1==\"AY\"  |\n",
    "                       data_combined$Current_Region_1==\"AX\"  |  data_combined$Current_Region_1==\"AZ\"  | \n",
    "                       data_combined$Current_Region_1==\"BA\"  ]=3\n",
    "\n",
    "data_combined$CR1_part[data_combined$Current_Region_1==\"AH\"  |  data_combined$Current_Region_1==\"BA\"  |  \n",
    "                       data_combined$Current_Region_1==\"AR\"   ]=4\n",
    "\n",
    "data_combined$CR1_part[data_combined$Current_Region_1==\"AE\"  |  data_combined$Current_Region_1==\"AP\"  |  \n",
    "                       data_combined$Current_Region_1==\"AN\"   ]=5\n",
    "\n",
    "\n",
    "#Creating Parts of  Currennt_Region_2\n",
    "\n",
    "data_combined$CR2_part[data_combined$Current_Region_2==\"A\"   |   data_combined$Current_Region_2==\"D\"   |\n",
    "                       data_combined$Current_Region_2==\"B\"   |   data_combined$Current_Region_2==\"E\"   |\n",
    "                       data_combined$Current_Region_2==\"F\"   |   data_combined$Current_Region_2==\"G\"   |\n",
    "                       data_combined$Current_Region_2==\"H\"   |   data_combined$Current_Region_2==\"I\"   |\n",
    "                       data_combined$Current_Region_2==\"J\"   |   data_combined$Current_Region_2==\"L\"   |\n",
    "                       data_combined$Current_Region_2==\"K\"   |   data_combined$Current_Region_2==\"M\"   |\n",
    "                       data_combined$Current_Region_2==\"O\"   |   data_combined$Current_Region_2==\"N\"   |\n",
    "                       data_combined$Current_Region_2==\"P\"   |   data_combined$Current_Region_2==\"S\"   |\n",
    "                       data_combined$Current_Region_2==\"R\"   |   data_combined$Current_Region_2==\"T\"   |\n",
    "                       data_combined$Current_Region_2==\"W\"   |   data_combined$Current_Region_2==\"V\"   |\n",
    "                       data_combined$Current_Region_2==\"U\"   |   data_combined$Current_Region_2==\"Y\"   |\n",
    "                       data_combined$Current_Region_2==\"X\"   |   data_combined$Current_Region_2==\"Z\"       ]=1\n",
    "\n",
    "data_combined$CR2_part[data_combined$Current_Region_2==\"I\"   |   data_combined$Current_Region_2==\"R\"   |\n",
    "                       data_combined$Current_Region_2==\"K\"   |   data_combined$Current_Region_2==\"S\"       ]=2\n",
    "\n",
    "data_combined$CR2_part[data_combined$Current_Region_2==\"K\"   |   data_combined$Current_Region_2==\"S\"      ]=3\n",
    "\n",
    "data_combined$CR2_part[data_combined$Current_Region_2==\"P\"   |   data_combined$Current_Region_2==\"D\"   |\n",
    "                       data_combined$Current_Region_2==\"B\"   |   data_combined$Current_Region_2==\"E\"   |\n",
    "                       data_combined$Current_Region_2==\"F\"   |   data_combined$Current_Region_2==\"M\"   |\n",
    "                       data_combined$Current_Region_2==\"H\"   |   data_combined$Current_Region_2==\"L\"   |\n",
    "                       data_combined$Current_Region_2==\"O\"   |   data_combined$Current_Region_2==\"N\"   |\n",
    "                       data_combined$Current_Region_2==\"W\"   |   data_combined$Current_Region_2==\"V\"   |\n",
    "                       data_combined$Current_Region_2==\"U\"   |   data_combined$Current_Region_2==\"Y\"   |\n",
    "                       data_combined$Current_Region_2==\"X\"   |   data_combined$Current_Region_2==\"Z\"       ]=4\n",
    "\n",
    "data_combined$CR2_part[data_combined$Current_Region_2==\"C\"   |   data_combined$Current_Region_2==\"Q\"      ]=5"
   ]
  },
  {
   "cell_type": "code",
   "execution_count": 4,
   "metadata": {
    "collapsed": false
   },
   "outputs": [],
   "source": [
    "data_combined$CR1_part=as.factor(data_combined$CR1_part)\n",
    "data_combined$CR2_part=as.factor(data_combined$CR2_part)"
   ]
  },
  {
   "cell_type": "code",
   "execution_count": 5,
   "metadata": {
    "collapsed": false
   },
   "outputs": [],
   "source": [
    "#Creating Dummies\n",
    "data_combined=cbind(data_combined,model.matrix( ~ Household_size - 1, data=data_combined ))\n",
    "data_combined=cbind(data_combined,model.matrix( ~ Age - 1, data=data_combined ))\n",
    "data_combined=cbind(data_combined,model.matrix( ~ newspapers - 1, data=data_combined ))\n",
    "data_combined=cbind(data_combined,model.matrix( ~ CR2_part - 1, data=data_combined ))\n",
    "data_combined=cbind(data_combined,model.matrix( ~ CR1_part - 1, data=data_combined ))"
   ]
  },
  {
   "cell_type": "code",
   "execution_count": null,
   "metadata": {
    "collapsed": true
   },
   "outputs": [],
   "source": [
    "#Creating Dummies\n",
    "data_combined=cbind(data_combined,model.matrix( ~ Var1_part - 1, data=data_combined ))\n",
    "data_combined=cbind(data_combined,model.matrix( ~ Var2_part - 1, data=data_combined ))\n",
    "data_combined=cbind(data_combined,model.matrix( ~ Var3_part - 1, data=data_combined ))\n",
    "data_combined=cbind(data_combined,model.matrix( ~ Var4_part - 1, data=data_combined ))\n",
    "data_combined=cbind(data_combined,model.matrix( ~ Var5_part - 1, data=data_combined ))"
   ]
  },
  {
   "cell_type": "code",
   "execution_count": 6,
   "metadata": {
    "collapsed": false
   },
   "outputs": [
    {
     "name": "stdout",
     "output_type": "stream",
     "text": [
      "'data.frame':\t81336 obs. of  85 variables:\n",
      " $ Citizen_id            : Factor w/ 81336 levels \"C1\",\"C10\",\"C100\",..: 1 11112 22223 33334 44445 55556 56797 67907 79018 2 ...\n",
      " $ party_voted_past      : Factor w/ 5 levels \"Centaur\",\"Cosmos\",..: 5 3 2 1 1 5 2 2 1 3 ...\n",
      " $ Donations_Centaur     : num  0 0.438 0 0.8 1.721 ...\n",
      " $ Donations_Ebony       : num  0 1.315 0 0 0.382 ...\n",
      " $ Donations_Tokuyawa    : num  7.2 0 0 0 0.574 ...\n",
      " $ Donations_Odyssey     : num  0 0.438 0 0 0 ...\n",
      " $ Donations_Cosmos      : num  0 0 2.4 0 0.382 ...\n",
      " $ Centaur_rallies_indi  : num  0 0 0 0 0.462 ...\n",
      " $ Ebony_rallies_indi    : num  0 0 0 0 0 ...\n",
      " $ Tokuyawa_rallies_indi : num  1.095 0 0 0 0.462 ...\n",
      " $ Odyssey_rallies_indi  : num  0 0 0 0 0 ...\n",
      " $ Cosmos_rallies_indi   : num  0 0 0 0 0 0 0 0 0 0 ...\n",
      " $ Centaur_rallies_gr    : num  0 0 0 0 0.748 ...\n",
      " $ Ebony_rallies_gr      : num  0 0 0 0 0 0 0.2 0 0 0 ...\n",
      " $ Tokuyawa_rallies_gr   : num  0.8 0 0 0 0 0.8 0 0 0 0 ...\n",
      " $ Odyssey_rallies_gr    : num  0 0 0 0 0 0 0 0 0 0 ...\n",
      " $ Cosmos_rallies_gr     : num  0 0 0 0 0 0 0.2 0.4 0 0 ...\n",
      " $ fund_raisers_Centaur  : num  0 0 0 0 1.87 ...\n",
      " $ fund_raisers_Ebony    : num  0 5.831 0 0 0.935 ...\n",
      " $ fund_raisers_Tokuyawa : num  6 0 0 0 1.87 ...\n",
      " $ fund_raisers_Odyssey  : num  0 0 0 0 0 0 0 0 0 0 ...\n",
      " $ fund_raisers_Cosmos   : num  0 0 0 0 0.935 ...\n",
      " $ volunteered_Centaur   : int  0 5 0 15 10 0 0 0 15 15 ...\n",
      " $ volunteered_Ebony     : int  0 10 0 15 15 15 5 0 0 15 ...\n",
      " $ volunteered_Tokuyawa  : int  15 0 0 0 15 15 0 15 0 0 ...\n",
      " $ volunteered_Odyssey   : int  0 15 0 0 0 0 0 0 15 0 ...\n",
      " $ volunteered_Cosmos    : int  0 0 15 0 7 0 3 15 0 0 ...\n",
      " $ Household_size        : Factor w/ 4 levels \"1\",\"2\",\"3\",\"4\": 3 3 1 1 4 3 2 1 1 4 ...\n",
      " $ Age                   : Factor w/ 5 levels \"18-24\",\"25-35\",..: 2 1 4 3 2 4 2 2 1 4 ...\n",
      " $ Married               : Factor w/ 2 levels \"0\",\"1\": 2 2 2 2 2 2 2 2 1 1 ...\n",
      " $ Home                  : Factor w/ 2 levels \"0\",\"1\": 1 1 2 1 1 2 1 1 1 2 ...\n",
      " $ education             : Factor w/ 4 levels \"Degree\",\"Diploma\",..: 1 3 3 1 4 3 2 2 1 4 ...\n",
      " $ newspapers            : Factor w/ 9 levels \"0\",\"1\",\"4\",\"5\",..: 5 4 5 5 6 7 6 5 4 5 ...\n",
      " $ previous_region       : Factor w/ 488 levels \"AAB\",\"AAC\",\"AAE\",..: 66 66 222 39 306 240 376 156 66 39 ...\n",
      " $ current_region        : Factor w/ 486 levels \"AAB\",\"AAC\",\"AAE\",..: 68 68 231 248 310 248 378 248 134 397 ...\n",
      " $ actual_vote           : Factor w/ 6 levels \"Centaur\",\"Cosmos\",..: 6 3 2 1 1 6 2 6 1 1 ...\n",
      " $ Previous_Region_1     : Factor w/ 28 levels \"AA\",\"AB\",\"AC\",..: 5 5 13 3 18 14 22 10 5 3 ...\n",
      " $ Previous_Region_2     : Factor w/ 26 levels \"A\",\"B\",\"C\",\"D\",..: 3 3 19 12 11 17 7 9 3 12 ...\n",
      " $ Current_Region_1      : Factor w/ 28 levels \"AA\",\"AB\",\"AC\",..: 5 5 13 14 18 14 22 14 8 23 ...\n",
      " $ Current_Region_2      : Factor w/ 26 levels \"A\",\"B\",\"C\",\"D\",..: 3 3 19 17 11 17 7 17 19 4 ...\n",
      " $ volunteered_Centaur_1 : int  4 2 4 1 3 4 4 4 1 1 ...\n",
      " $ volunteered_Ebony_1   : int  4 3 4 1 1 1 2 4 4 1 ...\n",
      " $ volunteered_Tokuyawa_1: int  1 4 4 4 1 1 4 1 4 4 ...\n",
      " $ volunteered_Odyssey_1 : int  4 1 4 4 4 4 4 4 1 4 ...\n",
      " $ volunteered_Cosmos_1  : int  4 4 1 4 3 4 2 1 4 4 ...\n",
      " $ Previous_Centaur      : int  0 0 0 1 1 0 0 0 1 0 ...\n",
      " $ Previous_Ebony        : int  0 1 0 0 0 0 0 0 0 1 ...\n",
      " $ Previous_Tokuyawa     : int  1 0 0 0 0 1 0 0 0 0 ...\n",
      " $ Previous_Odyssey      : int  0 0 0 0 0 0 0 0 0 0 ...\n",
      " $ Previous_Cosmos       : int  0 0 1 0 0 0 1 1 0 0 ...\n",
      " $ sd_Donations          : num  7.2 2.19 2.4 0.8 3.06 ...\n",
      " $ sd_Volunteered        : num  3.6 1.83 2.4 0.8 0.49 ...\n",
      " $ sd_Rallies_Indi       : num  1.095 0 0 0 0.924 ...\n",
      " $ sd_Rallies_Gr         : num  0.8 0.4 0 0 0.748 ...\n",
      " $ sd_Fund_Raisers       : num  6 5.83 6 7.35 5.61 ...\n",
      " $ CR1_part              : Factor w/ 5 levels \"1\",\"2\",\"3\",\"4\",..: 5 5 2 5 4 5 3 5 4 2 ...\n",
      " $ CR2_part              : Factor w/ 5 levels \"1\",\"2\",\"3\",\"4\",..: 5 5 3 5 3 5 1 5 3 4 ...\n",
      " $ Household_size1       : num  0 0 1 1 0 0 0 1 1 0 ...\n",
      " $ Household_size2       : num  0 0 0 0 0 0 1 0 0 0 ...\n",
      " $ Household_size3       : num  1 1 0 0 0 1 0 0 0 0 ...\n",
      " $ Household_size4       : num  0 0 0 0 1 0 0 0 0 1 ...\n",
      " $ Age18-24              : num  0 1 0 0 0 0 0 0 1 0 ...\n",
      " $ Age25-35              : num  1 0 0 0 1 0 1 1 0 0 ...\n",
      " $ Age36-45              : num  0 0 0 1 0 0 0 0 0 0 ...\n",
      " $ Age46-55              : num  0 0 1 0 0 1 0 0 0 1 ...\n",
      " $ Age55+                : num  0 0 0 0 0 0 0 0 0 0 ...\n",
      " $ newspapers0           : num  0 0 0 0 0 0 0 0 0 0 ...\n",
      " $ newspapers1           : num  0 0 0 0 0 0 0 0 0 0 ...\n",
      " $ newspapers4           : num  0 0 0 0 0 0 0 0 0 0 ...\n",
      " $ newspapers5           : num  0 1 0 0 0 0 0 0 1 0 ...\n",
      " $ newspapers6           : num  1 0 1 1 0 0 0 1 0 1 ...\n",
      " $ newspapers7           : num  0 0 0 0 1 0 1 0 0 0 ...\n",
      " $ newspapers8           : num  0 0 0 0 0 1 0 0 0 0 ...\n",
      " $ newspapers9           : num  0 0 0 0 0 0 0 0 0 0 ...\n",
      " $ newspapers10          : num  0 0 0 0 0 0 0 0 0 0 ...\n",
      " $ CR2_part1             : num  0 0 0 0 0 0 1 0 0 0 ...\n",
      " $ CR2_part2             : num  0 0 0 0 0 0 0 0 0 0 ...\n",
      " $ CR2_part3             : num  0 0 1 0 1 0 0 0 1 0 ...\n",
      " $ CR2_part4             : num  0 0 0 0 0 0 0 0 0 1 ...\n",
      " $ CR2_part5             : num  1 1 0 1 0 1 0 1 0 0 ...\n",
      " $ CR1_part1             : num  0 0 0 0 0 0 0 0 0 0 ...\n",
      " $ CR1_part2             : num  0 0 1 0 0 0 0 0 0 1 ...\n",
      " $ CR1_part3             : num  0 0 0 0 0 0 1 0 0 0 ...\n",
      " $ CR1_part4             : num  0 0 0 0 1 0 0 0 1 0 ...\n",
      " $ CR1_part5             : num  1 1 0 1 0 1 0 1 0 0 ...\n"
     ]
    }
   ],
   "source": [
    "str(data_combined)"
   ]
  },
  {
   "cell_type": "code",
   "execution_count": 7,
   "metadata": {
    "collapsed": true
   },
   "outputs": [],
   "source": [
    "#"
   ]
  },
  {
   "cell_type": "code",
   "execution_count": 8,
   "metadata": {
    "collapsed": false
   },
   "outputs": [],
   "source": [
    "write.csv(data_combined,file=\"data.combined2.csv\",row.names = FALSE)"
   ]
  },
  {
   "cell_type": "code",
   "execution_count": 9,
   "metadata": {
    "collapsed": false
   },
   "outputs": [],
   "source": [
    "#write.csv(data_combined[0:nrow(train),],file=\"train2.csv\",row.names = FALSE)"
   ]
  }
 ],
 "metadata": {
  "kernelspec": {
   "display_name": "Python [conda env:tensorflow]",
   "language": "python",
   "name": "conda-env-tensorflow-py"
  },
  "language_info": {
   "codemirror_mode": {
    "name": "ipython",
    "version": 3
   },
   "file_extension": ".py",
   "mimetype": "text/x-python",
   "name": "python",
   "nbconvert_exporter": "python",
   "pygments_lexer": "ipython3",
   "version": "3.6.0"
  }
 },
 "nbformat": 4,
 "nbformat_minor": 1
}
