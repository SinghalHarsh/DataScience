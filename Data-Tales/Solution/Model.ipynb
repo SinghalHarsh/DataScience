{
 "cells": [
  {
   "cell_type": "code",
   "execution_count": 1,
   "metadata": {
    "collapsed": true
   },
   "outputs": [],
   "source": [
    "import pandas as pd\n",
    "import matplotlib.pyplot as plt\n",
    "%matplotlib inline\n",
    "import seaborn as sns\n",
    "import numpy as np"
   ]
  },
  {
   "cell_type": "code",
   "execution_count": 2,
   "metadata": {
    "collapsed": false
   },
   "outputs": [
    {
     "name": "stderr",
     "output_type": "stream",
     "text": [
      "C:\\Users\\HARSH\\Anaconda3\\lib\\site-packages\\matplotlib\\__init__.py:878: UserWarning: axes.color_cycle is deprecated and replaced with axes.prop_cycle; please use the latter.\n",
      "  warnings.warn(self.msg_depr % (key, alt_key))\n"
     ]
    }
   ],
   "source": [
    "from matplotlib import rcParams\n",
    "#colorbrewer2 Dark2 qualitative color table\n",
    "dark2_colors = [(0.10588235294117647, 0.6196078431372549, 0.4666666666666667),\n",
    "                (0.8509803921568627, 0.37254901960784315, 0.00784313725490196),\n",
    "                (0.4588235294117647, 0.4392156862745098, 0.7019607843137254),\n",
    "                (0.9058823529411765, 0.1607843137254902, 0.5411764705882353),\n",
    "                (0.4, 0.6509803921568628, 0.11764705882352941),\n",
    "                (0.9019607843137255, 0.6705882352941176, 0.00784313725490196),\n",
    "                (0.6509803921568628, 0.4627450980392157, 0.11372549019607843)]\n",
    "\n",
    "rcParams['figure.figsize'] = (8, 3)\n",
    "rcParams['figure.dpi'] = 150\n",
    "rcParams['axes.color_cycle'] = dark2_colors\n",
    "rcParams['lines.linewidth'] = 2\n",
    "rcParams['font.size'] = 14\n",
    "rcParams['patch.edgecolor'] = 'white'\n",
    "rcParams['patch.facecolor'] = dark2_colors[0]\n",
    "rcParams['font.family'] = 'StixGeneral'\n",
    "rcParams['axes.grid'] = True\n",
    "rcParams['axes.facecolor'] = '#eeeeee'"
   ]
  },
  {
   "cell_type": "code",
   "execution_count": 43,
   "metadata": {
    "collapsed": true
   },
   "outputs": [],
   "source": [
    "train = pd.read_csv('modified_train.csv', parse_dates=['Day.Index'], dayfirst=True)\n",
    "test = pd.read_csv('modified_test.csv', parse_dates=['Day.Index'], dayfirst=True)\n",
    "data = pd.read_csv('modified_data.csv', parse_dates=['Day.Index'], dayfirst=True)\n",
    "ss = pd.read_csv('samplesubmission.csv')"
   ]
  },
  {
   "cell_type": "code",
   "execution_count": 5,
   "metadata": {
    "collapsed": false
   },
   "outputs": [
    {
     "data": {
      "text/html": [
       "<div>\n",
       "<table border=\"1\" class=\"dataframe\">\n",
       "  <thead>\n",
       "    <tr style=\"text-align: right;\">\n",
       "      <th></th>\n",
       "      <th>Day.Index</th>\n",
       "      <th>Campaign</th>\n",
       "      <th>Impressions</th>\n",
       "      <th>Target.Clicks</th>\n",
       "      <th>Obt.Click</th>\n",
       "      <th>Min.CPC</th>\n",
       "      <th>Max.CPC</th>\n",
       "      <th>CTR</th>\n",
       "      <th>Amount.Spend</th>\n",
       "      <th>Returning.Users</th>\n",
       "      <th>...</th>\n",
       "      <th>Avg.Time.Page</th>\n",
       "      <th>Avg.Position</th>\n",
       "      <th>Total.Revenue</th>\n",
       "      <th>Obtained.Leads</th>\n",
       "      <th>Year</th>\n",
       "      <th>Month</th>\n",
       "      <th>Week</th>\n",
       "      <th>Day_Of_Week</th>\n",
       "      <th>Day</th>\n",
       "      <th>Day_Of_Year</th>\n",
       "    </tr>\n",
       "  </thead>\n",
       "  <tbody>\n",
       "    <tr>\n",
       "      <th>0</th>\n",
       "      <td>2013-01-01</td>\n",
       "      <td>1</td>\n",
       "      <td>13930</td>\n",
       "      <td>225</td>\n",
       "      <td>200</td>\n",
       "      <td>28</td>\n",
       "      <td>31</td>\n",
       "      <td>1.44</td>\n",
       "      <td>6200</td>\n",
       "      <td>36</td>\n",
       "      <td>...</td>\n",
       "      <td>571</td>\n",
       "      <td>5</td>\n",
       "      <td>2401</td>\n",
       "      <td>20</td>\n",
       "      <td>2013</td>\n",
       "      <td>1</td>\n",
       "      <td>1</td>\n",
       "      <td>1</td>\n",
       "      <td>1</td>\n",
       "      <td>1</td>\n",
       "    </tr>\n",
       "    <tr>\n",
       "      <th>1</th>\n",
       "      <td>2013-01-02</td>\n",
       "      <td>1</td>\n",
       "      <td>11177</td>\n",
       "      <td>225</td>\n",
       "      <td>288</td>\n",
       "      <td>28</td>\n",
       "      <td>31</td>\n",
       "      <td>2.58</td>\n",
       "      <td>8352</td>\n",
       "      <td>27</td>\n",
       "      <td>...</td>\n",
       "      <td>447</td>\n",
       "      <td>3</td>\n",
       "      <td>4033</td>\n",
       "      <td>18</td>\n",
       "      <td>2013</td>\n",
       "      <td>1</td>\n",
       "      <td>1</td>\n",
       "      <td>2</td>\n",
       "      <td>2</td>\n",
       "      <td>2</td>\n",
       "    </tr>\n",
       "    <tr>\n",
       "      <th>2</th>\n",
       "      <td>2013-01-03</td>\n",
       "      <td>1</td>\n",
       "      <td>12968</td>\n",
       "      <td>225</td>\n",
       "      <td>211</td>\n",
       "      <td>28</td>\n",
       "      <td>31</td>\n",
       "      <td>1.63</td>\n",
       "      <td>5908</td>\n",
       "      <td>31</td>\n",
       "      <td>...</td>\n",
       "      <td>322</td>\n",
       "      <td>1</td>\n",
       "      <td>4637</td>\n",
       "      <td>13</td>\n",
       "      <td>2013</td>\n",
       "      <td>1</td>\n",
       "      <td>1</td>\n",
       "      <td>3</td>\n",
       "      <td>3</td>\n",
       "      <td>3</td>\n",
       "    </tr>\n",
       "    <tr>\n",
       "      <th>3</th>\n",
       "      <td>2013-01-04</td>\n",
       "      <td>1</td>\n",
       "      <td>13850</td>\n",
       "      <td>225</td>\n",
       "      <td>238</td>\n",
       "      <td>28</td>\n",
       "      <td>31</td>\n",
       "      <td>1.72</td>\n",
       "      <td>6664</td>\n",
       "      <td>38</td>\n",
       "      <td>...</td>\n",
       "      <td>534</td>\n",
       "      <td>2</td>\n",
       "      <td>3597</td>\n",
       "      <td>26</td>\n",
       "      <td>2013</td>\n",
       "      <td>1</td>\n",
       "      <td>1</td>\n",
       "      <td>4</td>\n",
       "      <td>4</td>\n",
       "      <td>4</td>\n",
       "    </tr>\n",
       "    <tr>\n",
       "      <th>4</th>\n",
       "      <td>2013-01-05</td>\n",
       "      <td>1</td>\n",
       "      <td>12346</td>\n",
       "      <td>225</td>\n",
       "      <td>259</td>\n",
       "      <td>28</td>\n",
       "      <td>31</td>\n",
       "      <td>2.10</td>\n",
       "      <td>7511</td>\n",
       "      <td>41</td>\n",
       "      <td>...</td>\n",
       "      <td>481</td>\n",
       "      <td>8</td>\n",
       "      <td>1923</td>\n",
       "      <td>18</td>\n",
       "      <td>2013</td>\n",
       "      <td>1</td>\n",
       "      <td>1</td>\n",
       "      <td>5</td>\n",
       "      <td>5</td>\n",
       "      <td>5</td>\n",
       "    </tr>\n",
       "  </tbody>\n",
       "</table>\n",
       "<p>5 rows × 23 columns</p>\n",
       "</div>"
      ],
      "text/plain": [
       "   Day.Index  Campaign  Impressions  Target.Clicks  Obt.Click  Min.CPC  \\\n",
       "0 2013-01-01         1        13930            225        200       28   \n",
       "1 2013-01-02         1        11177            225        288       28   \n",
       "2 2013-01-03         1        12968            225        211       28   \n",
       "3 2013-01-04         1        13850            225        238       28   \n",
       "4 2013-01-05         1        12346            225        259       28   \n",
       "\n",
       "   Max.CPC   CTR  Amount.Spend  Returning.Users     ...       Avg.Time.Page  \\\n",
       "0       31  1.44          6200               36     ...                 571   \n",
       "1       31  2.58          8352               27     ...                 447   \n",
       "2       31  1.63          5908               31     ...                 322   \n",
       "3       31  1.72          6664               38     ...                 534   \n",
       "4       31  2.10          7511               41     ...                 481   \n",
       "\n",
       "   Avg.Position  Total.Revenue  Obtained.Leads  Year  Month  Week  \\\n",
       "0             5           2401              20  2013      1     1   \n",
       "1             3           4033              18  2013      1     1   \n",
       "2             1           4637              13  2013      1     1   \n",
       "3             2           3597              26  2013      1     1   \n",
       "4             8           1923              18  2013      1     1   \n",
       "\n",
       "   Day_Of_Week  Day  Day_Of_Year  \n",
       "0            1    1            1  \n",
       "1            2    2            2  \n",
       "2            3    3            3  \n",
       "3            4    4            4  \n",
       "4            5    5            5  \n",
       "\n",
       "[5 rows x 23 columns]"
      ]
     },
     "execution_count": 5,
     "metadata": {},
     "output_type": "execute_result"
    }
   ],
   "source": [
    "train.head()"
   ]
  },
  {
   "cell_type": "code",
   "execution_count": 6,
   "metadata": {
    "collapsed": false
   },
   "outputs": [
    {
     "data": {
      "text/plain": [
       "Index(['Day.Index', 'Campaign', 'Impressions', 'Target.Clicks', 'Obt.Click',\n",
       "       'Min.CPC', 'Max.CPC', 'CTR', 'Amount.Spend', 'Returning.Users',\n",
       "       'Targeted.Leads', 'SpecialDay', 'Avg. Bounce.Rate', 'Avg.Time.Page',\n",
       "       'Avg.Position', 'Total.Revenue', 'Obtained.Leads', 'Year', 'Month',\n",
       "       'Week', 'Day_Of_Week', 'Day', 'Day_Of_Year'],\n",
       "      dtype='object')"
      ]
     },
     "execution_count": 6,
     "metadata": {},
     "output_type": "execute_result"
    }
   ],
   "source": [
    "train.columns"
   ]
  },
  {
   "cell_type": "code",
   "execution_count": null,
   "metadata": {
    "collapsed": true
   },
   "outputs": [],
   "source": []
  },
  {
   "cell_type": "code",
   "execution_count": 7,
   "metadata": {
    "collapsed": true
   },
   "outputs": [],
   "source": [
    "def prepare_data(df, is_train):\n",
    "    df_month = pd.get_dummies(df['Month'], prefix='month')\n",
    "    df = pd.concat([df, df_month], axis=1)\n",
    "\n",
    "    if is_train:\n",
    "        return df.drop(['Obtained.Leads','Day.Index'], axis=1), df['Obtained.Leads']\n",
    "    return df.drop(['Day.Index'], axis=1)"
   ]
  },
  {
   "cell_type": "code",
   "execution_count": 9,
   "metadata": {
    "collapsed": false
   },
   "outputs": [],
   "source": [
    "train_features, train_target = prepare_data(train, 1)"
   ]
  },
  {
   "cell_type": "code",
   "execution_count": 10,
   "metadata": {
    "collapsed": true
   },
   "outputs": [],
   "source": [
    "test_features = prepare_data(test, 0)"
   ]
  },
  {
   "cell_type": "code",
   "execution_count": 13,
   "metadata": {
    "collapsed": false
   },
   "outputs": [
    {
     "data": {
      "text/plain": [
       "Index(['Campaign', 'Impressions', 'Target.Clicks', 'Obt.Click', 'Min.CPC',\n",
       "       'Max.CPC', 'CTR', 'Amount.Spend', 'Returning.Users', 'Targeted.Leads',\n",
       "       'SpecialDay', 'Avg. Bounce.Rate', 'Avg.Time.Page', 'Avg.Position',\n",
       "       'Total.Revenue', 'Year', 'Month', 'Week', 'Day_Of_Week', 'Day',\n",
       "       'Day_Of_Year', 'month_1', 'month_2', 'month_3', 'month_4', 'month_5',\n",
       "       'month_6', 'month_7', 'month_8', 'month_9', 'month_10', 'month_11',\n",
       "       'month_12'],\n",
       "      dtype='object')"
      ]
     },
     "execution_count": 13,
     "metadata": {},
     "output_type": "execute_result"
    }
   ],
   "source": [
    "train_features.columns"
   ]
  },
  {
   "cell_type": "code",
   "execution_count": 17,
   "metadata": {
    "collapsed": false
   },
   "outputs": [
    {
     "data": {
      "text/html": [
       "<div>\n",
       "<table border=\"1\" class=\"dataframe\">\n",
       "  <thead>\n",
       "    <tr style=\"text-align: right;\">\n",
       "      <th></th>\n",
       "      <th>Campaign</th>\n",
       "      <th>Impressions</th>\n",
       "      <th>Target.Clicks</th>\n",
       "      <th>Obt.Click</th>\n",
       "      <th>Min.CPC</th>\n",
       "      <th>Max.CPC</th>\n",
       "      <th>CTR</th>\n",
       "      <th>Amount.Spend</th>\n",
       "      <th>Returning.Users</th>\n",
       "      <th>Targeted.Leads</th>\n",
       "      <th>...</th>\n",
       "      <th>month_3</th>\n",
       "      <th>month_4</th>\n",
       "      <th>month_5</th>\n",
       "      <th>month_6</th>\n",
       "      <th>month_7</th>\n",
       "      <th>month_8</th>\n",
       "      <th>month_9</th>\n",
       "      <th>month_10</th>\n",
       "      <th>month_11</th>\n",
       "      <th>month_12</th>\n",
       "    </tr>\n",
       "  </thead>\n",
       "  <tbody>\n",
       "    <tr>\n",
       "      <th>0</th>\n",
       "      <td>1</td>\n",
       "      <td>13930</td>\n",
       "      <td>225</td>\n",
       "      <td>200</td>\n",
       "      <td>28</td>\n",
       "      <td>31</td>\n",
       "      <td>1.44</td>\n",
       "      <td>6200</td>\n",
       "      <td>36</td>\n",
       "      <td>15</td>\n",
       "      <td>...</td>\n",
       "      <td>0.0</td>\n",
       "      <td>0.0</td>\n",
       "      <td>0.0</td>\n",
       "      <td>0.0</td>\n",
       "      <td>0.0</td>\n",
       "      <td>0.0</td>\n",
       "      <td>0.0</td>\n",
       "      <td>0.0</td>\n",
       "      <td>0.0</td>\n",
       "      <td>0.0</td>\n",
       "    </tr>\n",
       "    <tr>\n",
       "      <th>1</th>\n",
       "      <td>1</td>\n",
       "      <td>11177</td>\n",
       "      <td>225</td>\n",
       "      <td>288</td>\n",
       "      <td>28</td>\n",
       "      <td>31</td>\n",
       "      <td>2.58</td>\n",
       "      <td>8352</td>\n",
       "      <td>27</td>\n",
       "      <td>20</td>\n",
       "      <td>...</td>\n",
       "      <td>0.0</td>\n",
       "      <td>0.0</td>\n",
       "      <td>0.0</td>\n",
       "      <td>0.0</td>\n",
       "      <td>0.0</td>\n",
       "      <td>0.0</td>\n",
       "      <td>0.0</td>\n",
       "      <td>0.0</td>\n",
       "      <td>0.0</td>\n",
       "      <td>0.0</td>\n",
       "    </tr>\n",
       "    <tr>\n",
       "      <th>2</th>\n",
       "      <td>1</td>\n",
       "      <td>12968</td>\n",
       "      <td>225</td>\n",
       "      <td>211</td>\n",
       "      <td>28</td>\n",
       "      <td>31</td>\n",
       "      <td>1.63</td>\n",
       "      <td>5908</td>\n",
       "      <td>31</td>\n",
       "      <td>14</td>\n",
       "      <td>...</td>\n",
       "      <td>0.0</td>\n",
       "      <td>0.0</td>\n",
       "      <td>0.0</td>\n",
       "      <td>0.0</td>\n",
       "      <td>0.0</td>\n",
       "      <td>0.0</td>\n",
       "      <td>0.0</td>\n",
       "      <td>0.0</td>\n",
       "      <td>0.0</td>\n",
       "      <td>0.0</td>\n",
       "    </tr>\n",
       "    <tr>\n",
       "      <th>3</th>\n",
       "      <td>1</td>\n",
       "      <td>13850</td>\n",
       "      <td>225</td>\n",
       "      <td>238</td>\n",
       "      <td>28</td>\n",
       "      <td>31</td>\n",
       "      <td>1.72</td>\n",
       "      <td>6664</td>\n",
       "      <td>38</td>\n",
       "      <td>16</td>\n",
       "      <td>...</td>\n",
       "      <td>0.0</td>\n",
       "      <td>0.0</td>\n",
       "      <td>0.0</td>\n",
       "      <td>0.0</td>\n",
       "      <td>0.0</td>\n",
       "      <td>0.0</td>\n",
       "      <td>0.0</td>\n",
       "      <td>0.0</td>\n",
       "      <td>0.0</td>\n",
       "      <td>0.0</td>\n",
       "    </tr>\n",
       "    <tr>\n",
       "      <th>4</th>\n",
       "      <td>1</td>\n",
       "      <td>12346</td>\n",
       "      <td>225</td>\n",
       "      <td>259</td>\n",
       "      <td>28</td>\n",
       "      <td>31</td>\n",
       "      <td>2.10</td>\n",
       "      <td>7511</td>\n",
       "      <td>41</td>\n",
       "      <td>18</td>\n",
       "      <td>...</td>\n",
       "      <td>0.0</td>\n",
       "      <td>0.0</td>\n",
       "      <td>0.0</td>\n",
       "      <td>0.0</td>\n",
       "      <td>0.0</td>\n",
       "      <td>0.0</td>\n",
       "      <td>0.0</td>\n",
       "      <td>0.0</td>\n",
       "      <td>0.0</td>\n",
       "      <td>0.0</td>\n",
       "    </tr>\n",
       "  </tbody>\n",
       "</table>\n",
       "<p>5 rows × 33 columns</p>\n",
       "</div>"
      ],
      "text/plain": [
       "   Campaign  Impressions  Target.Clicks  Obt.Click  Min.CPC  Max.CPC   CTR  \\\n",
       "0         1        13930            225        200       28       31  1.44   \n",
       "1         1        11177            225        288       28       31  2.58   \n",
       "2         1        12968            225        211       28       31  1.63   \n",
       "3         1        13850            225        238       28       31  1.72   \n",
       "4         1        12346            225        259       28       31  2.10   \n",
       "\n",
       "   Amount.Spend  Returning.Users  Targeted.Leads    ...     month_3  month_4  \\\n",
       "0          6200               36              15    ...         0.0      0.0   \n",
       "1          8352               27              20    ...         0.0      0.0   \n",
       "2          5908               31              14    ...         0.0      0.0   \n",
       "3          6664               38              16    ...         0.0      0.0   \n",
       "4          7511               41              18    ...         0.0      0.0   \n",
       "\n",
       "   month_5  month_6  month_7  month_8  month_9  month_10  month_11  month_12  \n",
       "0      0.0      0.0      0.0      0.0      0.0       0.0       0.0       0.0  \n",
       "1      0.0      0.0      0.0      0.0      0.0       0.0       0.0       0.0  \n",
       "2      0.0      0.0      0.0      0.0      0.0       0.0       0.0       0.0  \n",
       "3      0.0      0.0      0.0      0.0      0.0       0.0       0.0       0.0  \n",
       "4      0.0      0.0      0.0      0.0      0.0       0.0       0.0       0.0  \n",
       "\n",
       "[5 rows x 33 columns]"
      ]
     },
     "execution_count": 17,
     "metadata": {},
     "output_type": "execute_result"
    }
   ],
   "source": [
    "train_features.head()"
   ]
  },
  {
   "cell_type": "code",
   "execution_count": 18,
   "metadata": {
    "collapsed": false
   },
   "outputs": [
    {
     "data": {
      "text/plain": [
       "0    20\n",
       "1    18\n",
       "2    13\n",
       "3    26\n",
       "4    18\n",
       "Name: Obtained.Leads, dtype: int64"
      ]
     },
     "execution_count": 18,
     "metadata": {},
     "output_type": "execute_result"
    }
   ],
   "source": [
    "train_target.head()"
   ]
  },
  {
   "cell_type": "code",
   "execution_count": null,
   "metadata": {
    "collapsed": true
   },
   "outputs": [],
   "source": []
  },
  {
   "cell_type": "code",
   "execution_count": 19,
   "metadata": {
    "collapsed": true
   },
   "outputs": [],
   "source": [
    "from sklearn.ensemble import RandomForestRegressor\n",
    "from sklearn.grid_search import GridSearchCV"
   ]
  },
  {
   "cell_type": "code",
   "execution_count": 27,
   "metadata": {
    "collapsed": false
   },
   "outputs": [
    {
     "data": {
      "text/plain": [
       "GridSearchCV(cv=5, error_score='raise',\n",
       "       estimator=RandomForestRegressor(bootstrap=True, criterion='mse', max_depth=None,\n",
       "           max_features='auto', max_leaf_nodes=None, min_samples_leaf=1,\n",
       "           min_samples_split=2, min_weight_fraction_leaf=0.0,\n",
       "           n_estimators=10, n_jobs=1, oob_score=False, random_state=None,\n",
       "           verbose=0, warm_start=False),\n",
       "       fit_params={}, iid=True, n_jobs=1,\n",
       "       param_grid={'n_estimators': [100, 150]}, pre_dispatch='2*n_jobs',\n",
       "       refit=True, scoring='mean_squared_error', verbose=0)"
      ]
     },
     "execution_count": 27,
     "metadata": {},
     "output_type": "execute_result"
    }
   ],
   "source": [
    "\n",
    "# Tuning hyper-parameters for RMSE\n",
    "\n",
    "# Set the parameters by cross-validation\n",
    "#n_range = range(100, 150, 50)\n",
    "tuned_parameters = {'n_estimators': [100,150]}\n",
    "\n",
    "rf = GridSearchCV(RandomForestRegressor(), tuned_parameters, cv=5, scoring='mean_squared_error')\n",
    "rf.fit(train_features, train_target)"
   ]
  },
  {
   "cell_type": "code",
   "execution_count": 30,
   "metadata": {
    "collapsed": false
   },
   "outputs": [
    {
     "name": "stdout",
     "output_type": "stream",
     "text": [
      "[mean: -6.83631, std: 1.94767, params: {'n_estimators': 100}, mean: -6.79975, std: 1.89336, params: {'n_estimators': 150}]\n",
      "Average Error = 2.61463470377\n",
      "Min Error = 2.60763328095\n",
      "Best parameters = \n",
      "RandomForestRegressor(bootstrap=True, criterion='mse', max_depth=None,\n",
      "           max_features='auto', max_leaf_nodes=None, min_samples_leaf=1,\n",
      "           min_samples_split=2, min_weight_fraction_leaf=0.0,\n",
      "           n_estimators=150, n_jobs=1, oob_score=False, random_state=None,\n",
      "           verbose=0, warm_start=False)\n"
     ]
    }
   ],
   "source": [
    "print (rf.grid_scores_)\n",
    "print ('Average Error = ' + str(np.sqrt(np.abs(rf.grid_scores_[0][1]))))\n",
    "print ('Min Error = ' + str(np.sqrt(np.abs(rf.best_score_))))\n",
    "print ('Best parameters = ')\n",
    "#print (str(np.sqrt(np.abs(abrf.best_params_))))\n",
    "print (rf.best_estimator_)"
   ]
  },
  {
   "cell_type": "code",
   "execution_count": 31,
   "metadata": {
    "collapsed": true
   },
   "outputs": [],
   "source": [
    "predicted = rf.predict(test_features)"
   ]
  },
  {
   "cell_type": "code",
   "execution_count": 34,
   "metadata": {
    "collapsed": false
   },
   "outputs": [
    {
     "data": {
      "text/plain": [
       "array([ 16.38      ,  12.62      ,   8.35333333,   7.92      ,   7.74      ])"
      ]
     },
     "execution_count": 34,
     "metadata": {},
     "output_type": "execute_result"
    }
   ],
   "source": [
    "predicted[0:5]"
   ]
  },
  {
   "cell_type": "code",
   "execution_count": 42,
   "metadata": {
    "collapsed": false
   },
   "outputs": [
    {
     "data": {
      "text/plain": [
       "array([16, 13,  8,  8,  8])"
      ]
     },
     "execution_count": 42,
     "metadata": {},
     "output_type": "execute_result"
    }
   ],
   "source": [
    "predicted = np.round(predicted, decimals=0).astype(int)\n",
    "predicted[0:5]"
   ]
  },
  {
   "cell_type": "code",
   "execution_count": null,
   "metadata": {
    "collapsed": true
   },
   "outputs": [],
   "source": []
  },
  {
   "cell_type": "code",
   "execution_count": 45,
   "metadata": {
    "collapsed": false
   },
   "outputs": [],
   "source": [
    "solution = pd.DataFrame(ss['Day.Index'])"
   ]
  },
  {
   "cell_type": "code",
   "execution_count": 46,
   "metadata": {
    "collapsed": true
   },
   "outputs": [],
   "source": [
    "solution = pd.concat([solution, pd.DataFrame(predicted, columns=['Obtained.Leads'])], axis=1)"
   ]
  },
  {
   "cell_type": "code",
   "execution_count": 47,
   "metadata": {
    "collapsed": false
   },
   "outputs": [
    {
     "data": {
      "text/html": [
       "<div>\n",
       "<table border=\"1\" class=\"dataframe\">\n",
       "  <thead>\n",
       "    <tr style=\"text-align: right;\">\n",
       "      <th></th>\n",
       "      <th>Day.Index</th>\n",
       "      <th>Obtained.Leads</th>\n",
       "    </tr>\n",
       "  </thead>\n",
       "  <tbody>\n",
       "    <tr>\n",
       "      <th>0</th>\n",
       "      <td>01-04-2015</td>\n",
       "      <td>16</td>\n",
       "    </tr>\n",
       "    <tr>\n",
       "      <th>1</th>\n",
       "      <td>02-04-2015</td>\n",
       "      <td>13</td>\n",
       "    </tr>\n",
       "    <tr>\n",
       "      <th>2</th>\n",
       "      <td>03-04-2015</td>\n",
       "      <td>8</td>\n",
       "    </tr>\n",
       "    <tr>\n",
       "      <th>3</th>\n",
       "      <td>04-04-2015</td>\n",
       "      <td>8</td>\n",
       "    </tr>\n",
       "    <tr>\n",
       "      <th>4</th>\n",
       "      <td>05-04-2015</td>\n",
       "      <td>8</td>\n",
       "    </tr>\n",
       "    <tr>\n",
       "      <th>5</th>\n",
       "      <td>06-04-2015</td>\n",
       "      <td>15</td>\n",
       "    </tr>\n",
       "    <tr>\n",
       "      <th>6</th>\n",
       "      <td>07-04-2015</td>\n",
       "      <td>15</td>\n",
       "    </tr>\n",
       "    <tr>\n",
       "      <th>7</th>\n",
       "      <td>08-04-2015</td>\n",
       "      <td>9</td>\n",
       "    </tr>\n",
       "    <tr>\n",
       "      <th>8</th>\n",
       "      <td>09-04-2015</td>\n",
       "      <td>6</td>\n",
       "    </tr>\n",
       "    <tr>\n",
       "      <th>9</th>\n",
       "      <td>10-04-2015</td>\n",
       "      <td>6</td>\n",
       "    </tr>\n",
       "    <tr>\n",
       "      <th>10</th>\n",
       "      <td>11-04-2015</td>\n",
       "      <td>13</td>\n",
       "    </tr>\n",
       "    <tr>\n",
       "      <th>11</th>\n",
       "      <td>12-04-2015</td>\n",
       "      <td>9</td>\n",
       "    </tr>\n",
       "    <tr>\n",
       "      <th>12</th>\n",
       "      <td>13-04-2015</td>\n",
       "      <td>13</td>\n",
       "    </tr>\n",
       "    <tr>\n",
       "      <th>13</th>\n",
       "      <td>14-04-2015</td>\n",
       "      <td>16</td>\n",
       "    </tr>\n",
       "    <tr>\n",
       "      <th>14</th>\n",
       "      <td>15-04-2015</td>\n",
       "      <td>18</td>\n",
       "    </tr>\n",
       "    <tr>\n",
       "      <th>15</th>\n",
       "      <td>16-04-2015</td>\n",
       "      <td>13</td>\n",
       "    </tr>\n",
       "    <tr>\n",
       "      <th>16</th>\n",
       "      <td>17-04-2015</td>\n",
       "      <td>7</td>\n",
       "    </tr>\n",
       "    <tr>\n",
       "      <th>17</th>\n",
       "      <td>18-04-2015</td>\n",
       "      <td>8</td>\n",
       "    </tr>\n",
       "    <tr>\n",
       "      <th>18</th>\n",
       "      <td>19-04-2015</td>\n",
       "      <td>15</td>\n",
       "    </tr>\n",
       "    <tr>\n",
       "      <th>19</th>\n",
       "      <td>20-04-2015</td>\n",
       "      <td>17</td>\n",
       "    </tr>\n",
       "    <tr>\n",
       "      <th>20</th>\n",
       "      <td>21-04-2015</td>\n",
       "      <td>11</td>\n",
       "    </tr>\n",
       "    <tr>\n",
       "      <th>21</th>\n",
       "      <td>22-04-2015</td>\n",
       "      <td>6</td>\n",
       "    </tr>\n",
       "    <tr>\n",
       "      <th>22</th>\n",
       "      <td>23-04-2015</td>\n",
       "      <td>18</td>\n",
       "    </tr>\n",
       "    <tr>\n",
       "      <th>23</th>\n",
       "      <td>24-04-2015</td>\n",
       "      <td>7</td>\n",
       "    </tr>\n",
       "    <tr>\n",
       "      <th>24</th>\n",
       "      <td>25-04-2015</td>\n",
       "      <td>9</td>\n",
       "    </tr>\n",
       "    <tr>\n",
       "      <th>25</th>\n",
       "      <td>26-04-2015</td>\n",
       "      <td>15</td>\n",
       "    </tr>\n",
       "    <tr>\n",
       "      <th>26</th>\n",
       "      <td>27-04-2015</td>\n",
       "      <td>17</td>\n",
       "    </tr>\n",
       "    <tr>\n",
       "      <th>27</th>\n",
       "      <td>28-04-2015</td>\n",
       "      <td>11</td>\n",
       "    </tr>\n",
       "    <tr>\n",
       "      <th>28</th>\n",
       "      <td>29-04-2015</td>\n",
       "      <td>11</td>\n",
       "    </tr>\n",
       "    <tr>\n",
       "      <th>29</th>\n",
       "      <td>30-04-2015</td>\n",
       "      <td>13</td>\n",
       "    </tr>\n",
       "    <tr>\n",
       "      <th>...</th>\n",
       "      <td>...</td>\n",
       "      <td>...</td>\n",
       "    </tr>\n",
       "    <tr>\n",
       "      <th>397</th>\n",
       "      <td>02-05-2016</td>\n",
       "      <td>8</td>\n",
       "    </tr>\n",
       "    <tr>\n",
       "      <th>398</th>\n",
       "      <td>03-05-2016</td>\n",
       "      <td>9</td>\n",
       "    </tr>\n",
       "    <tr>\n",
       "      <th>399</th>\n",
       "      <td>04-05-2016</td>\n",
       "      <td>9</td>\n",
       "    </tr>\n",
       "    <tr>\n",
       "      <th>400</th>\n",
       "      <td>05-05-2016</td>\n",
       "      <td>6</td>\n",
       "    </tr>\n",
       "    <tr>\n",
       "      <th>401</th>\n",
       "      <td>06-05-2016</td>\n",
       "      <td>11</td>\n",
       "    </tr>\n",
       "    <tr>\n",
       "      <th>402</th>\n",
       "      <td>07-05-2016</td>\n",
       "      <td>9</td>\n",
       "    </tr>\n",
       "    <tr>\n",
       "      <th>403</th>\n",
       "      <td>08-05-2016</td>\n",
       "      <td>10</td>\n",
       "    </tr>\n",
       "    <tr>\n",
       "      <th>404</th>\n",
       "      <td>09-05-2016</td>\n",
       "      <td>13</td>\n",
       "    </tr>\n",
       "    <tr>\n",
       "      <th>405</th>\n",
       "      <td>10-05-2016</td>\n",
       "      <td>13</td>\n",
       "    </tr>\n",
       "    <tr>\n",
       "      <th>406</th>\n",
       "      <td>11-05-2016</td>\n",
       "      <td>12</td>\n",
       "    </tr>\n",
       "    <tr>\n",
       "      <th>407</th>\n",
       "      <td>12-05-2016</td>\n",
       "      <td>13</td>\n",
       "    </tr>\n",
       "    <tr>\n",
       "      <th>408</th>\n",
       "      <td>13-05-2016</td>\n",
       "      <td>7</td>\n",
       "    </tr>\n",
       "    <tr>\n",
       "      <th>409</th>\n",
       "      <td>14-05-2016</td>\n",
       "      <td>11</td>\n",
       "    </tr>\n",
       "    <tr>\n",
       "      <th>410</th>\n",
       "      <td>15-05-2016</td>\n",
       "      <td>8</td>\n",
       "    </tr>\n",
       "    <tr>\n",
       "      <th>411</th>\n",
       "      <td>16-05-2016</td>\n",
       "      <td>9</td>\n",
       "    </tr>\n",
       "    <tr>\n",
       "      <th>412</th>\n",
       "      <td>17-05-2016</td>\n",
       "      <td>12</td>\n",
       "    </tr>\n",
       "    <tr>\n",
       "      <th>413</th>\n",
       "      <td>18-05-2016</td>\n",
       "      <td>13</td>\n",
       "    </tr>\n",
       "    <tr>\n",
       "      <th>414</th>\n",
       "      <td>19-05-2016</td>\n",
       "      <td>8</td>\n",
       "    </tr>\n",
       "    <tr>\n",
       "      <th>415</th>\n",
       "      <td>20-05-2016</td>\n",
       "      <td>13</td>\n",
       "    </tr>\n",
       "    <tr>\n",
       "      <th>416</th>\n",
       "      <td>21-05-2016</td>\n",
       "      <td>13</td>\n",
       "    </tr>\n",
       "    <tr>\n",
       "      <th>417</th>\n",
       "      <td>22-05-2016</td>\n",
       "      <td>14</td>\n",
       "    </tr>\n",
       "    <tr>\n",
       "      <th>418</th>\n",
       "      <td>23-05-2016</td>\n",
       "      <td>12</td>\n",
       "    </tr>\n",
       "    <tr>\n",
       "      <th>419</th>\n",
       "      <td>24-05-2016</td>\n",
       "      <td>14</td>\n",
       "    </tr>\n",
       "    <tr>\n",
       "      <th>420</th>\n",
       "      <td>25-05-2016</td>\n",
       "      <td>12</td>\n",
       "    </tr>\n",
       "    <tr>\n",
       "      <th>421</th>\n",
       "      <td>26-05-2016</td>\n",
       "      <td>11</td>\n",
       "    </tr>\n",
       "    <tr>\n",
       "      <th>422</th>\n",
       "      <td>27-05-2016</td>\n",
       "      <td>10</td>\n",
       "    </tr>\n",
       "    <tr>\n",
       "      <th>423</th>\n",
       "      <td>28-05-2016</td>\n",
       "      <td>8</td>\n",
       "    </tr>\n",
       "    <tr>\n",
       "      <th>424</th>\n",
       "      <td>29-05-2016</td>\n",
       "      <td>12</td>\n",
       "    </tr>\n",
       "    <tr>\n",
       "      <th>425</th>\n",
       "      <td>30-05-2016</td>\n",
       "      <td>18</td>\n",
       "    </tr>\n",
       "    <tr>\n",
       "      <th>426</th>\n",
       "      <td>31-05-2016</td>\n",
       "      <td>20</td>\n",
       "    </tr>\n",
       "  </tbody>\n",
       "</table>\n",
       "<p>427 rows × 2 columns</p>\n",
       "</div>"
      ],
      "text/plain": [
       "      Day.Index  Obtained.Leads\n",
       "0    01-04-2015              16\n",
       "1    02-04-2015              13\n",
       "2    03-04-2015               8\n",
       "3    04-04-2015               8\n",
       "4    05-04-2015               8\n",
       "5    06-04-2015              15\n",
       "6    07-04-2015              15\n",
       "7    08-04-2015               9\n",
       "8    09-04-2015               6\n",
       "9    10-04-2015               6\n",
       "10   11-04-2015              13\n",
       "11   12-04-2015               9\n",
       "12   13-04-2015              13\n",
       "13   14-04-2015              16\n",
       "14   15-04-2015              18\n",
       "15   16-04-2015              13\n",
       "16   17-04-2015               7\n",
       "17   18-04-2015               8\n",
       "18   19-04-2015              15\n",
       "19   20-04-2015              17\n",
       "20   21-04-2015              11\n",
       "21   22-04-2015               6\n",
       "22   23-04-2015              18\n",
       "23   24-04-2015               7\n",
       "24   25-04-2015               9\n",
       "25   26-04-2015              15\n",
       "26   27-04-2015              17\n",
       "27   28-04-2015              11\n",
       "28   29-04-2015              11\n",
       "29   30-04-2015              13\n",
       "..          ...             ...\n",
       "397  02-05-2016               8\n",
       "398  03-05-2016               9\n",
       "399  04-05-2016               9\n",
       "400  05-05-2016               6\n",
       "401  06-05-2016              11\n",
       "402  07-05-2016               9\n",
       "403  08-05-2016              10\n",
       "404  09-05-2016              13\n",
       "405  10-05-2016              13\n",
       "406  11-05-2016              12\n",
       "407  12-05-2016              13\n",
       "408  13-05-2016               7\n",
       "409  14-05-2016              11\n",
       "410  15-05-2016               8\n",
       "411  16-05-2016               9\n",
       "412  17-05-2016              12\n",
       "413  18-05-2016              13\n",
       "414  19-05-2016               8\n",
       "415  20-05-2016              13\n",
       "416  21-05-2016              13\n",
       "417  22-05-2016              14\n",
       "418  23-05-2016              12\n",
       "419  24-05-2016              14\n",
       "420  25-05-2016              12\n",
       "421  26-05-2016              11\n",
       "422  27-05-2016              10\n",
       "423  28-05-2016               8\n",
       "424  29-05-2016              12\n",
       "425  30-05-2016              18\n",
       "426  31-05-2016              20\n",
       "\n",
       "[427 rows x 2 columns]"
      ]
     },
     "execution_count": 47,
     "metadata": {},
     "output_type": "execute_result"
    }
   ],
   "source": [
    "solution"
   ]
  },
  {
   "cell_type": "code",
   "execution_count": 48,
   "metadata": {
    "collapsed": true
   },
   "outputs": [],
   "source": [
    "solution.to_csv('solution.csv', index=False)"
   ]
  },
  {
   "cell_type": "code",
   "execution_count": null,
   "metadata": {
    "collapsed": true
   },
   "outputs": [],
   "source": []
  },
  {
   "cell_type": "code",
   "execution_count": null,
   "metadata": {
    "collapsed": true
   },
   "outputs": [],
   "source": []
  },
  {
   "cell_type": "code",
   "execution_count": null,
   "metadata": {
    "collapsed": true
   },
   "outputs": [],
   "source": []
  },
  {
   "cell_type": "code",
   "execution_count": null,
   "metadata": {
    "collapsed": true
   },
   "outputs": [],
   "source": [
    "#no"
   ]
  }
 ],
 "metadata": {
  "kernelspec": {
   "display_name": "Python [default]",
   "language": "python",
   "name": "python3"
  },
  "language_info": {
   "codemirror_mode": {
    "name": "ipython",
    "version": 3
   },
   "file_extension": ".py",
   "mimetype": "text/x-python",
   "name": "python",
   "nbconvert_exporter": "python",
   "pygments_lexer": "ipython3",
   "version": "3.5.2"
  }
 },
 "nbformat": 4,
 "nbformat_minor": 1
}
