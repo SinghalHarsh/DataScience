{
 "cells": [
  {
   "cell_type": "code",
   "execution_count": 2,
   "metadata": {
    "collapsed": false
   },
   "outputs": [],
   "source": [
    "import pandas as pd\n",
    "import matplotlib.pyplot as plt\n",
    "%matplotlib inline\n",
    "import seaborn as sns\n",
    "import numpy as np"
   ]
  },
  {
   "cell_type": "code",
   "execution_count": 3,
   "metadata": {
    "collapsed": false
   },
   "outputs": [
    {
     "name": "stderr",
     "output_type": "stream",
     "text": [
      "C:\\Users\\HARSH\\Anaconda3\\lib\\site-packages\\matplotlib\\__init__.py:878: UserWarning: axes.color_cycle is deprecated and replaced with axes.prop_cycle; please use the latter.\n",
      "  warnings.warn(self.msg_depr % (key, alt_key))\n"
     ]
    }
   ],
   "source": [
    "from matplotlib import rcParams\n",
    "#colorbrewer2 Dark2 qualitative color table\n" ,
    "dark2_colors = [(0.10588235294117647, 0.6196078431372549, 0.4666666666666667),\n",
    "                (0.8509803921568627, 0.37254901960784315, 0.00784313725490196),\n",
    "                (0.4588235294117647, 0.4392156862745098, 0.7019607843137254),\n",
    "                (0.9058823529411765, 0.1607843137254902, 0.5411764705882353),\n",
    "                (0.4, 0.6509803921568628, 0.11764705882352941),\n",
    "                (0.9019607843137255, 0.6705882352941176, 0.00784313725490196),\n",
    "                (0.6509803921568628, 0.4627450980392157, 0.11372549019607843)]\n",
    "\n",
    "rcParams['figure.figsize'] = (8, 3)\n",
    "rcParams['figure.dpi'] = 150\n",
    "rcParams['axes.color_cycle'] = dark2_colors\n",
    "rcParams['lines.linewidth'] = 2\n",
    "rcParams['font.size'] = 14\n",
    "rcParams['patch.edgecolor'] = 'white'\n",
    "rcParams['patch.facecolor'] = dark2_colors[0]\n",
    "rcParams['font.family'] = 'StixGeneral'\n",
    "rcParams['axes.grid'] = True\n",
    "rcParams['axes.facecolor'] = '#eeeeee'"
   ]
  },
  {
   "cell_type": "code",
   "execution_count": 4,
   "metadata": {
    "collapsed": true
   },
   "outputs": [],
   "source": [
    "# - - - - - - - - - - - - - - - - - - - - - - - - - - - - - - - - - - - - - - - - - - #\n",
    "# train = train_data\n",
    "# test  = test_data\n",
    "# Xtrain = train of training data\n",
    "# Ytrain = target value of training data\n",
    "# Xtest = test of training data\n",
    "# Ytest = target value of test data\n",
    "# - - - - - - - - - - - - - - - - - - - - - - - - - - - - - - - - - - - - - - - - - - #"
   ]
  },
  {
   "cell_type": "code",
   "execution_count": null,
   "metadata": {
    "collapsed": true
   },
   "outputs": [],
   "source": []
  },
  {
   "cell_type": "code",
   "execution_count": 5,
   "metadata": {
    "collapsed": false
   },
   "outputs": [],
   "source": [
    "train = pd.read_csv('modified_train.csv', parse_dates=['Day.Index'], dayfirst=True)\n",
    "test = pd.read_csv('modified_test.csv', parse_dates=['Day.Index'], dayfirst=True)\n",
    "data = pd.read_csv('modified_data.csv', parse_dates=['Day.Index'], dayfirst=True)\n",
    "ss = pd.read_csv('samplesubmission.csv')"
   ]
  },
  {
   "cell_type": "code",
   "execution_count": 6,
   "metadata": {
    "collapsed": true
   },
   "outputs": [],
   "source": [
    "# #Month Binning\n",
    "# lead_per_month=train.groupby('Day_Of_Year',as_index=False)[\"Obtained.Leads\"].mean()\n",
    "\n",
    "# train[\"NewFinal\"]=train[\"Day_Of_Year\"].apply(lambda X: lead_per_month[\"Obtained.Leads\"][X-1])\n",
    "# test[\"NewFinal\"]=test[\"Day_Of_Year\"].apply(lambda X: lead_per_month[\"Obtained.Leads\"][X-1])"
   ]
  },
  {
   "cell_type": "code",
   "execution_count": 7,
   "metadata": {
    "collapsed": false
   },
   "outputs": [],
   "source": [
    "# train=train[train.SpecialDay==0]\n",
    "# test=test[test.SpecialDay==0]"
   ]
  },
  {
   "cell_type": "code",
   "execution_count": 8,
   "metadata": {
    "collapsed": false
   },
   "outputs": [],
   "source": [
    "# train[0:48]"
   ]
  },
  {
   "cell_type": "code",
   "execution_count": 9,
   "metadata": {
    "collapsed": true
   },
   "outputs": [],
   "source": [
    "# train=pd.concat([train,train], axis=0)"
   ]
  },
  {
   "cell_type": "code",
   "execution_count": 10,
   "metadata": {
    "collapsed": true
   },
   "outputs": [],
   "source": [
    "def remove(k):\n",
    "    x=train[\"Obtained.Leads\"][train.Month==k]\n",
    "    IQR =np.percentile(x,q=75)-np.percentile(x,q=25)\n",
    "    d=np.percentile(x,q=75)+1.3*IQR\n",
    "    #print(train[\"Obtained.Leads\"][(train.Month==k) & (train[\"Obtained.Leads\"]>d)])\n",
    "    train[\"Obtained.Leads\"][(train.Month==k) & (train[\"Obtained.Leads\"]>d)]=d\n",
    "    #print(train[\"Obtained.Leads\"][(train.Month==k) & (train[\"Obtained.Leads\"]>d)])"
   ]
  },
  {
   "cell_type": "code",
   "execution_count": 11,
   "metadata": {
    "collapsed": false
   },
   "outputs": [
    {
     "name": "stderr",
     "output_type": "stream",
     "text": [
      "C:\\Users\\HARSH\\Anaconda3\\lib\\site-packages\\ipykernel\\__main__.py:6: SettingWithCopyWarning: \n",
      "A value is trying to be set on a copy of a slice from a DataFrame\n",
      "\n",
      "See the caveats in the documentation: http://pandas.pydata.org/pandas-docs/stable/indexing.html#indexing-view-versus-copy\n"
     ]
    }
   ],
   "source": [
    "for i in range(1,13):\n",
    "    remove(i)"
   ]
  },
  {
   "cell_type": "code",
   "execution_count": 12,
   "metadata": {
    "collapsed": true
   },
   "outputs": [],
   "source": [
    "def remove(k):\n",
    "    x=train[\"Obtained.Leads\"][train.Month==k]\n",
    "    IQR =np.percentile(x,q=75)-np.percentile(x,q=25)\n",
    "    d=np.percentile(x,q=25)-1.3*IQR\n",
    "    #print(train[\"Obtained.Leads\"][(train.Month==k) & (train[\"Obtained.Leads\"]<d)])\n",
    "    train[\"Obtained.Leads\"][(train.Month==k) & (train[\"Obtained.Leads\"]<d)]=d\n",
    "    #print(train[\"Obtained.Leads\"][(train.Month==k) & (train[\"Obtained.Leads\"]<d)])"
   ]
  },
  {
   "cell_type": "code",
   "execution_count": 13,
   "metadata": {
    "collapsed": false
   },
   "outputs": [],
   "source": [
    "for i in range(1,13):\n",
    "    remove(i)"
   ]
  },
  {
   "cell_type": "code",
   "execution_count": 14,
   "metadata": {
    "collapsed": false
   },
   "outputs": [],
   "source": [
    "# train[\"Obtained.Leads\"][train[\"Obtained.Leads\"]>40]=40"
   ]
  },
  {
   "cell_type": "code",
   "execution_count": 15,
   "metadata": {
    "collapsed": false
   },
   "outputs": [
    {
     "data": {
      "text/html": [
       "<div>\n",
       "<table border=\"1\" class=\"dataframe\">\n",
       "  <thead>\n",
       "    <tr style=\"text-align: right;\">\n",
       "      <th></th>\n",
       "      <th>Campaign</th>\n",
       "      <th>Impressions</th>\n",
       "      <th>Target.Clicks</th>\n",
       "      <th>Obt.Click</th>\n",
       "      <th>Min.CPC</th>\n",
       "      <th>Max.CPC</th>\n",
       "      <th>CTR</th>\n",
       "      <th>Amount.Spend</th>\n",
       "      <th>Returning.Users</th>\n",
       "      <th>Targeted.Leads</th>\n",
       "      <th>...</th>\n",
       "      <th>Avg.Time.Page</th>\n",
       "      <th>Avg.Position</th>\n",
       "      <th>Total.Revenue</th>\n",
       "      <th>Obtained.Leads</th>\n",
       "      <th>Year</th>\n",
       "      <th>Month</th>\n",
       "      <th>Week</th>\n",
       "      <th>Day_Of_Week</th>\n",
       "      <th>Day</th>\n",
       "      <th>Day_Of_Year</th>\n",
       "    </tr>\n",
       "  </thead>\n",
       "  <tbody>\n",
       "    <tr>\n",
       "      <th>Campaign</th>\n",
       "      <td>1.000000</td>\n",
       "      <td>0.619461</td>\n",
       "      <td>0.659964</td>\n",
       "      <td>0.619853</td>\n",
       "      <td>0.347908</td>\n",
       "      <td>0.755494</td>\n",
       "      <td>0.404778</td>\n",
       "      <td>0.638948</td>\n",
       "      <td>0.549974</td>\n",
       "      <td>0.541548</td>\n",
       "      <td>...</td>\n",
       "      <td>0.060295</td>\n",
       "      <td>0.093474</td>\n",
       "      <td>0.533740</td>\n",
       "      <td>0.520943</td>\n",
       "      <td>-0.259169</td>\n",
       "      <td>0.978991</td>\n",
       "      <td>0.944557</td>\n",
       "      <td>-0.004306</td>\n",
       "      <td>0.013530</td>\n",
       "      <td>0.975731</td>\n",
       "    </tr>\n",
       "    <tr>\n",
       "      <th>Impressions</th>\n",
       "      <td>0.619461</td>\n",
       "      <td>1.000000</td>\n",
       "      <td>0.703225</td>\n",
       "      <td>0.681323</td>\n",
       "      <td>0.529688</td>\n",
       "      <td>0.740755</td>\n",
       "      <td>0.295069</td>\n",
       "      <td>0.688450</td>\n",
       "      <td>0.659779</td>\n",
       "      <td>0.617074</td>\n",
       "      <td>...</td>\n",
       "      <td>0.314713</td>\n",
       "      <td>0.249366</td>\n",
       "      <td>0.532553</td>\n",
       "      <td>0.784055</td>\n",
       "      <td>-0.105356</td>\n",
       "      <td>0.572569</td>\n",
       "      <td>0.524901</td>\n",
       "      <td>0.010489</td>\n",
       "      <td>0.019452</td>\n",
       "      <td>0.572650</td>\n",
       "    </tr>\n",
       "    <tr>\n",
       "      <th>Target.Clicks</th>\n",
       "      <td>0.659964</td>\n",
       "      <td>0.703225</td>\n",
       "      <td>1.000000</td>\n",
       "      <td>0.827817</td>\n",
       "      <td>0.920729</td>\n",
       "      <td>0.969441</td>\n",
       "      <td>0.662810</td>\n",
       "      <td>0.852588</td>\n",
       "      <td>0.872781</td>\n",
       "      <td>0.844468</td>\n",
       "      <td>...</td>\n",
       "      <td>0.517932</td>\n",
       "      <td>0.438497</td>\n",
       "      <td>0.609786</td>\n",
       "      <td>0.759419</td>\n",
       "      <td>-0.065392</td>\n",
       "      <td>0.620561</td>\n",
       "      <td>0.586907</td>\n",
       "      <td>-0.008451</td>\n",
       "      <td>-0.004022</td>\n",
       "      <td>0.621311</td>\n",
       "    </tr>\n",
       "    <tr>\n",
       "      <th>Obt.Click</th>\n",
       "      <td>0.619853</td>\n",
       "      <td>0.681323</td>\n",
       "      <td>0.827817</td>\n",
       "      <td>1.000000</td>\n",
       "      <td>0.728074</td>\n",
       "      <td>0.825512</td>\n",
       "      <td>0.891000</td>\n",
       "      <td>0.989759</td>\n",
       "      <td>0.725017</td>\n",
       "      <td>0.975004</td>\n",
       "      <td>...</td>\n",
       "      <td>0.435817</td>\n",
       "      <td>0.328265</td>\n",
       "      <td>0.536327</td>\n",
       "      <td>0.805562</td>\n",
       "      <td>-0.066233</td>\n",
       "      <td>0.587536</td>\n",
       "      <td>0.540588</td>\n",
       "      <td>0.027778</td>\n",
       "      <td>0.005373</td>\n",
       "      <td>0.588052</td>\n",
       "    </tr>\n",
       "    <tr>\n",
       "      <th>Min.CPC</th>\n",
       "      <td>0.347908</td>\n",
       "      <td>0.529688</td>\n",
       "      <td>0.920729</td>\n",
       "      <td>0.728074</td>\n",
       "      <td>1.000000</td>\n",
       "      <td>0.846655</td>\n",
       "      <td>0.656254</td>\n",
       "      <td>0.749245</td>\n",
       "      <td>0.780376</td>\n",
       "      <td>0.801831</td>\n",
       "      <td>...</td>\n",
       "      <td>0.581976</td>\n",
       "      <td>0.477371</td>\n",
       "      <td>0.438517</td>\n",
       "      <td>0.658621</td>\n",
       "      <td>0.032685</td>\n",
       "      <td>0.318494</td>\n",
       "      <td>0.298520</td>\n",
       "      <td>-0.010222</td>\n",
       "      <td>-0.011407</td>\n",
       "      <td>0.320995</td>\n",
       "    </tr>\n",
       "    <tr>\n",
       "      <th>Max.CPC</th>\n",
       "      <td>0.755494</td>\n",
       "      <td>0.740755</td>\n",
       "      <td>0.969441</td>\n",
       "      <td>0.825512</td>\n",
       "      <td>0.846655</td>\n",
       "      <td>1.000000</td>\n",
       "      <td>0.634862</td>\n",
       "      <td>0.849777</td>\n",
       "      <td>0.838806</td>\n",
       "      <td>0.814346</td>\n",
       "      <td>...</td>\n",
       "      <td>0.374148</td>\n",
       "      <td>0.368525</td>\n",
       "      <td>0.589174</td>\n",
       "      <td>0.730217</td>\n",
       "      <td>-0.111732</td>\n",
       "      <td>0.713183</td>\n",
       "      <td>0.679439</td>\n",
       "      <td>-0.009219</td>\n",
       "      <td>0.001610</td>\n",
       "      <td>0.712655</td>\n",
       "    </tr>\n",
       "    <tr>\n",
       "      <th>CTR</th>\n",
       "      <td>0.404778</td>\n",
       "      <td>0.295069</td>\n",
       "      <td>0.662810</td>\n",
       "      <td>0.891000</td>\n",
       "      <td>0.656254</td>\n",
       "      <td>0.634862</td>\n",
       "      <td>1.000000</td>\n",
       "      <td>0.870388</td>\n",
       "      <td>0.549158</td>\n",
       "      <td>0.903192</td>\n",
       "      <td>...</td>\n",
       "      <td>0.392493</td>\n",
       "      <td>0.289500</td>\n",
       "      <td>0.361608</td>\n",
       "      <td>0.583368</td>\n",
       "      <td>-0.007139</td>\n",
       "      <td>0.391182</td>\n",
       "      <td>0.365559</td>\n",
       "      <td>0.022013</td>\n",
       "      <td>-0.003614</td>\n",
       "      <td>0.392156</td>\n",
       "    </tr>\n",
       "    <tr>\n",
       "      <th>Amount.Spend</th>\n",
       "      <td>0.638948</td>\n",
       "      <td>0.688450</td>\n",
       "      <td>0.852588</td>\n",
       "      <td>0.989759</td>\n",
       "      <td>0.749245</td>\n",
       "      <td>0.849777</td>\n",
       "      <td>0.870388</td>\n",
       "      <td>1.000000</td>\n",
       "      <td>0.745046</td>\n",
       "      <td>0.983441</td>\n",
       "      <td>...</td>\n",
       "      <td>0.438036</td>\n",
       "      <td>0.340286</td>\n",
       "      <td>0.552077</td>\n",
       "      <td>0.808359</td>\n",
       "      <td>-0.064498</td>\n",
       "      <td>0.606017</td>\n",
       "      <td>0.559113</td>\n",
       "      <td>0.018725</td>\n",
       "      <td>-0.000239</td>\n",
       "      <td>0.606076</td>\n",
       "    </tr>\n",
       "    <tr>\n",
       "      <th>Returning.Users</th>\n",
       "      <td>0.549974</td>\n",
       "      <td>0.659779</td>\n",
       "      <td>0.872781</td>\n",
       "      <td>0.725017</td>\n",
       "      <td>0.780376</td>\n",
       "      <td>0.838806</td>\n",
       "      <td>0.549158</td>\n",
       "      <td>0.745046</td>\n",
       "      <td>1.000000</td>\n",
       "      <td>0.720333</td>\n",
       "      <td>...</td>\n",
       "      <td>0.485659</td>\n",
       "      <td>0.415631</td>\n",
       "      <td>0.589872</td>\n",
       "      <td>0.786575</td>\n",
       "      <td>-0.049679</td>\n",
       "      <td>0.507074</td>\n",
       "      <td>0.460579</td>\n",
       "      <td>-0.016563</td>\n",
       "      <td>0.004028</td>\n",
       "      <td>0.508298</td>\n",
       "    </tr>\n",
       "    <tr>\n",
       "      <th>Targeted.Leads</th>\n",
       "      <td>0.541548</td>\n",
       "      <td>0.617074</td>\n",
       "      <td>0.844468</td>\n",
       "      <td>0.975004</td>\n",
       "      <td>0.801831</td>\n",
       "      <td>0.814346</td>\n",
       "      <td>0.903192</td>\n",
       "      <td>0.983441</td>\n",
       "      <td>0.720333</td>\n",
       "      <td>1.000000</td>\n",
       "      <td>...</td>\n",
       "      <td>0.492999</td>\n",
       "      <td>0.364870</td>\n",
       "      <td>0.495602</td>\n",
       "      <td>0.785240</td>\n",
       "      <td>-0.026395</td>\n",
       "      <td>0.515404</td>\n",
       "      <td>0.474375</td>\n",
       "      <td>0.016530</td>\n",
       "      <td>-0.005486</td>\n",
       "      <td>0.516158</td>\n",
       "    </tr>\n",
       "    <tr>\n",
       "      <th>SpecialDay</th>\n",
       "      <td>0.127643</td>\n",
       "      <td>0.504361</td>\n",
       "      <td>0.150282</td>\n",
       "      <td>0.316348</td>\n",
       "      <td>0.116794</td>\n",
       "      <td>0.153115</td>\n",
       "      <td>0.114279</td>\n",
       "      <td>0.295689</td>\n",
       "      <td>0.149934</td>\n",
       "      <td>0.284096</td>\n",
       "      <td>...</td>\n",
       "      <td>0.181905</td>\n",
       "      <td>0.022638</td>\n",
       "      <td>0.126100</td>\n",
       "      <td>0.430327</td>\n",
       "      <td>-0.022206</td>\n",
       "      <td>0.116745</td>\n",
       "      <td>0.072800</td>\n",
       "      <td>0.002492</td>\n",
       "      <td>0.071213</td>\n",
       "      <td>0.122463</td>\n",
       "    </tr>\n",
       "    <tr>\n",
       "      <th>Avg. Bounce.Rate</th>\n",
       "      <td>0.025503</td>\n",
       "      <td>0.040111</td>\n",
       "      <td>0.044723</td>\n",
       "      <td>0.048901</td>\n",
       "      <td>0.037503</td>\n",
       "      <td>0.044614</td>\n",
       "      <td>0.040582</td>\n",
       "      <td>0.046169</td>\n",
       "      <td>0.040871</td>\n",
       "      <td>0.043778</td>\n",
       "      <td>...</td>\n",
       "      <td>0.019406</td>\n",
       "      <td>0.017414</td>\n",
       "      <td>0.057219</td>\n",
       "      <td>-0.068465</td>\n",
       "      <td>0.000093</td>\n",
       "      <td>0.020667</td>\n",
       "      <td>0.018099</td>\n",
       "      <td>-0.017904</td>\n",
       "      <td>-0.016807</td>\n",
       "      <td>0.019295</td>\n",
       "    </tr>\n",
       "    <tr>\n",
       "      <th>Avg.Time.Page</th>\n",
       "      <td>0.060295</td>\n",
       "      <td>0.314713</td>\n",
       "      <td>0.517932</td>\n",
       "      <td>0.435817</td>\n",
       "      <td>0.581976</td>\n",
       "      <td>0.374148</td>\n",
       "      <td>0.392493</td>\n",
       "      <td>0.438036</td>\n",
       "      <td>0.485659</td>\n",
       "      <td>0.492999</td>\n",
       "      <td>...</td>\n",
       "      <td>1.000000</td>\n",
       "      <td>0.348506</td>\n",
       "      <td>0.293442</td>\n",
       "      <td>0.609351</td>\n",
       "      <td>0.099983</td>\n",
       "      <td>0.041837</td>\n",
       "      <td>0.006885</td>\n",
       "      <td>-0.001191</td>\n",
       "      <td>0.094516</td>\n",
       "      <td>0.053810</td>\n",
       "    </tr>\n",
       "    <tr>\n",
       "      <th>Avg.Position</th>\n",
       "      <td>0.093474</td>\n",
       "      <td>0.249366</td>\n",
       "      <td>0.438497</td>\n",
       "      <td>0.328265</td>\n",
       "      <td>0.477371</td>\n",
       "      <td>0.368525</td>\n",
       "      <td>0.289500</td>\n",
       "      <td>0.340286</td>\n",
       "      <td>0.415631</td>\n",
       "      <td>0.364870</td>\n",
       "      <td>...</td>\n",
       "      <td>0.348506</td>\n",
       "      <td>1.000000</td>\n",
       "      <td>0.235151</td>\n",
       "      <td>0.221675</td>\n",
       "      <td>0.021967</td>\n",
       "      <td>0.075783</td>\n",
       "      <td>0.072531</td>\n",
       "      <td>0.028125</td>\n",
       "      <td>-0.012840</td>\n",
       "      <td>0.077273</td>\n",
       "    </tr>\n",
       "    <tr>\n",
       "      <th>Total.Revenue</th>\n",
       "      <td>0.533740</td>\n",
       "      <td>0.532553</td>\n",
       "      <td>0.609786</td>\n",
       "      <td>0.536327</td>\n",
       "      <td>0.438517</td>\n",
       "      <td>0.589174</td>\n",
       "      <td>0.361608</td>\n",
       "      <td>0.552077</td>\n",
       "      <td>0.589872</td>\n",
       "      <td>0.495602</td>\n",
       "      <td>...</td>\n",
       "      <td>0.293442</td>\n",
       "      <td>0.235151</td>\n",
       "      <td>1.000000</td>\n",
       "      <td>0.522100</td>\n",
       "      <td>-0.106781</td>\n",
       "      <td>0.496862</td>\n",
       "      <td>0.459955</td>\n",
       "      <td>0.059529</td>\n",
       "      <td>-0.005151</td>\n",
       "      <td>0.496029</td>\n",
       "    </tr>\n",
       "    <tr>\n",
       "      <th>Obtained.Leads</th>\n",
       "      <td>0.520943</td>\n",
       "      <td>0.784055</td>\n",
       "      <td>0.759419</td>\n",
       "      <td>0.805562</td>\n",
       "      <td>0.658621</td>\n",
       "      <td>0.730217</td>\n",
       "      <td>0.583368</td>\n",
       "      <td>0.808359</td>\n",
       "      <td>0.786575</td>\n",
       "      <td>0.785240</td>\n",
       "      <td>...</td>\n",
       "      <td>0.609351</td>\n",
       "      <td>0.221675</td>\n",
       "      <td>0.522100</td>\n",
       "      <td>1.000000</td>\n",
       "      <td>-0.017247</td>\n",
       "      <td>0.482473</td>\n",
       "      <td>0.434976</td>\n",
       "      <td>0.001455</td>\n",
       "      <td>0.068203</td>\n",
       "      <td>0.488569</td>\n",
       "    </tr>\n",
       "    <tr>\n",
       "      <th>Year</th>\n",
       "      <td>-0.259169</td>\n",
       "      <td>-0.105356</td>\n",
       "      <td>-0.065392</td>\n",
       "      <td>-0.066233</td>\n",
       "      <td>0.032685</td>\n",
       "      <td>-0.111732</td>\n",
       "      <td>-0.007139</td>\n",
       "      <td>-0.064498</td>\n",
       "      <td>-0.049679</td>\n",
       "      <td>-0.026395</td>\n",
       "      <td>...</td>\n",
       "      <td>0.099983</td>\n",
       "      <td>0.021967</td>\n",
       "      <td>-0.106781</td>\n",
       "      <td>-0.017247</td>\n",
       "      <td>1.000000</td>\n",
       "      <td>-0.280295</td>\n",
       "      <td>-0.272084</td>\n",
       "      <td>0.002135</td>\n",
       "      <td>-0.004695</td>\n",
       "      <td>-0.278862</td>\n",
       "    </tr>\n",
       "    <tr>\n",
       "      <th>Month</th>\n",
       "      <td>0.978991</td>\n",
       "      <td>0.572569</td>\n",
       "      <td>0.620561</td>\n",
       "      <td>0.587536</td>\n",
       "      <td>0.318494</td>\n",
       "      <td>0.713183</td>\n",
       "      <td>0.391182</td>\n",
       "      <td>0.606017</td>\n",
       "      <td>0.507074</td>\n",
       "      <td>0.515404</td>\n",
       "      <td>...</td>\n",
       "      <td>0.041837</td>\n",
       "      <td>0.075783</td>\n",
       "      <td>0.496862</td>\n",
       "      <td>0.482473</td>\n",
       "      <td>-0.280295</td>\n",
       "      <td>1.000000</td>\n",
       "      <td>0.965397</td>\n",
       "      <td>-0.005302</td>\n",
       "      <td>0.012918</td>\n",
       "      <td>0.996719</td>\n",
       "    </tr>\n",
       "    <tr>\n",
       "      <th>Week</th>\n",
       "      <td>0.944557</td>\n",
       "      <td>0.524901</td>\n",
       "      <td>0.586907</td>\n",
       "      <td>0.540588</td>\n",
       "      <td>0.298520</td>\n",
       "      <td>0.679439</td>\n",
       "      <td>0.365559</td>\n",
       "      <td>0.559113</td>\n",
       "      <td>0.460579</td>\n",
       "      <td>0.474375</td>\n",
       "      <td>...</td>\n",
       "      <td>0.006885</td>\n",
       "      <td>0.072531</td>\n",
       "      <td>0.459955</td>\n",
       "      <td>0.434976</td>\n",
       "      <td>-0.272084</td>\n",
       "      <td>0.965397</td>\n",
       "      <td>1.000000</td>\n",
       "      <td>-0.000723</td>\n",
       "      <td>0.059948</td>\n",
       "      <td>0.966053</td>\n",
       "    </tr>\n",
       "    <tr>\n",
       "      <th>Day_Of_Week</th>\n",
       "      <td>-0.004306</td>\n",
       "      <td>0.010489</td>\n",
       "      <td>-0.008451</td>\n",
       "      <td>0.027778</td>\n",
       "      <td>-0.010222</td>\n",
       "      <td>-0.009219</td>\n",
       "      <td>0.022013</td>\n",
       "      <td>0.018725</td>\n",
       "      <td>-0.016563</td>\n",
       "      <td>0.016530</td>\n",
       "      <td>...</td>\n",
       "      <td>-0.001191</td>\n",
       "      <td>0.028125</td>\n",
       "      <td>0.059529</td>\n",
       "      <td>0.001455</td>\n",
       "      <td>0.002135</td>\n",
       "      <td>-0.005302</td>\n",
       "      <td>-0.000723</td>\n",
       "      <td>1.000000</td>\n",
       "      <td>0.006342</td>\n",
       "      <td>-0.004771</td>\n",
       "    </tr>\n",
       "    <tr>\n",
       "      <th>Day</th>\n",
       "      <td>0.013530</td>\n",
       "      <td>0.019452</td>\n",
       "      <td>-0.004022</td>\n",
       "      <td>0.005373</td>\n",
       "      <td>-0.011407</td>\n",
       "      <td>0.001610</td>\n",
       "      <td>-0.003614</td>\n",
       "      <td>-0.000239</td>\n",
       "      <td>0.004028</td>\n",
       "      <td>-0.005486</td>\n",
       "      <td>...</td>\n",
       "      <td>0.094516</td>\n",
       "      <td>-0.012840</td>\n",
       "      <td>-0.005151</td>\n",
       "      <td>0.068203</td>\n",
       "      <td>-0.004695</td>\n",
       "      <td>0.012918</td>\n",
       "      <td>0.059948</td>\n",
       "      <td>0.006342</td>\n",
       "      <td>1.000000</td>\n",
       "      <td>0.093518</td>\n",
       "    </tr>\n",
       "    <tr>\n",
       "      <th>Day_Of_Year</th>\n",
       "      <td>0.975731</td>\n",
       "      <td>0.572650</td>\n",
       "      <td>0.621311</td>\n",
       "      <td>0.588052</td>\n",
       "      <td>0.320995</td>\n",
       "      <td>0.712655</td>\n",
       "      <td>0.392156</td>\n",
       "      <td>0.606076</td>\n",
       "      <td>0.508298</td>\n",
       "      <td>0.516158</td>\n",
       "      <td>...</td>\n",
       "      <td>0.053810</td>\n",
       "      <td>0.077273</td>\n",
       "      <td>0.496029</td>\n",
       "      <td>0.488569</td>\n",
       "      <td>-0.278862</td>\n",
       "      <td>0.996719</td>\n",
       "      <td>0.966053</td>\n",
       "      <td>-0.004771</td>\n",
       "      <td>0.093518</td>\n",
       "      <td>1.000000</td>\n",
       "    </tr>\n",
       "  </tbody>\n",
       "</table>\n",
       "<p>22 rows × 22 columns</p>\n",
       "</div>"
      ],
      "text/plain": [
       "                  Campaign  Impressions  Target.Clicks  Obt.Click   Min.CPC  \\\n",
       "Campaign          1.000000     0.619461       0.659964   0.619853  0.347908   \n",
       "Impressions       0.619461     1.000000       0.703225   0.681323  0.529688   \n",
       "Target.Clicks     0.659964     0.703225       1.000000   0.827817  0.920729   \n",
       "Obt.Click         0.619853     0.681323       0.827817   1.000000  0.728074   \n",
       "Min.CPC           0.347908     0.529688       0.920729   0.728074  1.000000   \n",
       "Max.CPC           0.755494     0.740755       0.969441   0.825512  0.846655   \n",
       "CTR               0.404778     0.295069       0.662810   0.891000  0.656254   \n",
       "Amount.Spend      0.638948     0.688450       0.852588   0.989759  0.749245   \n",
       "Returning.Users   0.549974     0.659779       0.872781   0.725017  0.780376   \n",
       "Targeted.Leads    0.541548     0.617074       0.844468   0.975004  0.801831   \n",
       "SpecialDay        0.127643     0.504361       0.150282   0.316348  0.116794   \n",
       "Avg. Bounce.Rate  0.025503     0.040111       0.044723   0.048901  0.037503   \n",
       "Avg.Time.Page     0.060295     0.314713       0.517932   0.435817  0.581976   \n",
       "Avg.Position      0.093474     0.249366       0.438497   0.328265  0.477371   \n",
       "Total.Revenue     0.533740     0.532553       0.609786   0.536327  0.438517   \n",
       "Obtained.Leads    0.520943     0.784055       0.759419   0.805562  0.658621   \n",
       "Year             -0.259169    -0.105356      -0.065392  -0.066233  0.032685   \n",
       "Month             0.978991     0.572569       0.620561   0.587536  0.318494   \n",
       "Week              0.944557     0.524901       0.586907   0.540588  0.298520   \n",
       "Day_Of_Week      -0.004306     0.010489      -0.008451   0.027778 -0.010222   \n",
       "Day               0.013530     0.019452      -0.004022   0.005373 -0.011407   \n",
       "Day_Of_Year       0.975731     0.572650       0.621311   0.588052  0.320995   \n",
       "\n",
       "                   Max.CPC       CTR  Amount.Spend  Returning.Users  \\\n",
       "Campaign          0.755494  0.404778      0.638948         0.549974   \n",
       "Impressions       0.740755  0.295069      0.688450         0.659779   \n",
       "Target.Clicks     0.969441  0.662810      0.852588         0.872781   \n",
       "Obt.Click         0.825512  0.891000      0.989759         0.725017   \n",
       "Min.CPC           0.846655  0.656254      0.749245         0.780376   \n",
       "Max.CPC           1.000000  0.634862      0.849777         0.838806   \n",
       "CTR               0.634862  1.000000      0.870388         0.549158   \n",
       "Amount.Spend      0.849777  0.870388      1.000000         0.745046   \n",
       "Returning.Users   0.838806  0.549158      0.745046         1.000000   \n",
       "Targeted.Leads    0.814346  0.903192      0.983441         0.720333   \n",
       "SpecialDay        0.153115  0.114279      0.295689         0.149934   \n",
       "Avg. Bounce.Rate  0.044614  0.040582      0.046169         0.040871   \n",
       "Avg.Time.Page     0.374148  0.392493      0.438036         0.485659   \n",
       "Avg.Position      0.368525  0.289500      0.340286         0.415631   \n",
       "Total.Revenue     0.589174  0.361608      0.552077         0.589872   \n",
       "Obtained.Leads    0.730217  0.583368      0.808359         0.786575   \n",
       "Year             -0.111732 -0.007139     -0.064498        -0.049679   \n",
       "Month             0.713183  0.391182      0.606017         0.507074   \n",
       "Week              0.679439  0.365559      0.559113         0.460579   \n",
       "Day_Of_Week      -0.009219  0.022013      0.018725        -0.016563   \n",
       "Day               0.001610 -0.003614     -0.000239         0.004028   \n",
       "Day_Of_Year       0.712655  0.392156      0.606076         0.508298   \n",
       "\n",
       "                  Targeted.Leads     ...       Avg.Time.Page  Avg.Position  \\\n",
       "Campaign                0.541548     ...            0.060295      0.093474   \n",
       "Impressions             0.617074     ...            0.314713      0.249366   \n",
       "Target.Clicks           0.844468     ...            0.517932      0.438497   \n",
       "Obt.Click               0.975004     ...            0.435817      0.328265   \n",
       "Min.CPC                 0.801831     ...            0.581976      0.477371   \n",
       "Max.CPC                 0.814346     ...            0.374148      0.368525   \n",
       "CTR                     0.903192     ...            0.392493      0.289500   \n",
       "Amount.Spend            0.983441     ...            0.438036      0.340286   \n",
       "Returning.Users         0.720333     ...            0.485659      0.415631   \n",
       "Targeted.Leads          1.000000     ...            0.492999      0.364870   \n",
       "SpecialDay              0.284096     ...            0.181905      0.022638   \n",
       "Avg. Bounce.Rate        0.043778     ...            0.019406      0.017414   \n",
       "Avg.Time.Page           0.492999     ...            1.000000      0.348506   \n",
       "Avg.Position            0.364870     ...            0.348506      1.000000   \n",
       "Total.Revenue           0.495602     ...            0.293442      0.235151   \n",
       "Obtained.Leads          0.785240     ...            0.609351      0.221675   \n",
       "Year                   -0.026395     ...            0.099983      0.021967   \n",
       "Month                   0.515404     ...            0.041837      0.075783   \n",
       "Week                    0.474375     ...            0.006885      0.072531   \n",
       "Day_Of_Week             0.016530     ...           -0.001191      0.028125   \n",
       "Day                    -0.005486     ...            0.094516     -0.012840   \n",
       "Day_Of_Year             0.516158     ...            0.053810      0.077273   \n",
       "\n",
       "                  Total.Revenue  Obtained.Leads      Year     Month      Week  \\\n",
       "Campaign               0.533740        0.520943 -0.259169  0.978991  0.944557   \n",
       "Impressions            0.532553        0.784055 -0.105356  0.572569  0.524901   \n",
       "Target.Clicks          0.609786        0.759419 -0.065392  0.620561  0.586907   \n",
       "Obt.Click              0.536327        0.805562 -0.066233  0.587536  0.540588   \n",
       "Min.CPC                0.438517        0.658621  0.032685  0.318494  0.298520   \n",
       "Max.CPC                0.589174        0.730217 -0.111732  0.713183  0.679439   \n",
       "CTR                    0.361608        0.583368 -0.007139  0.391182  0.365559   \n",
       "Amount.Spend           0.552077        0.808359 -0.064498  0.606017  0.559113   \n",
       "Returning.Users        0.589872        0.786575 -0.049679  0.507074  0.460579   \n",
       "Targeted.Leads         0.495602        0.785240 -0.026395  0.515404  0.474375   \n",
       "SpecialDay             0.126100        0.430327 -0.022206  0.116745  0.072800   \n",
       "Avg. Bounce.Rate       0.057219       -0.068465  0.000093  0.020667  0.018099   \n",
       "Avg.Time.Page          0.293442        0.609351  0.099983  0.041837  0.006885   \n",
       "Avg.Position           0.235151        0.221675  0.021967  0.075783  0.072531   \n",
       "Total.Revenue          1.000000        0.522100 -0.106781  0.496862  0.459955   \n",
       "Obtained.Leads         0.522100        1.000000 -0.017247  0.482473  0.434976   \n",
       "Year                  -0.106781       -0.017247  1.000000 -0.280295 -0.272084   \n",
       "Month                  0.496862        0.482473 -0.280295  1.000000  0.965397   \n",
       "Week                   0.459955        0.434976 -0.272084  0.965397  1.000000   \n",
       "Day_Of_Week            0.059529        0.001455  0.002135 -0.005302 -0.000723   \n",
       "Day                   -0.005151        0.068203 -0.004695  0.012918  0.059948   \n",
       "Day_Of_Year            0.496029        0.488569 -0.278862  0.996719  0.966053   \n",
       "\n",
       "                  Day_Of_Week       Day  Day_Of_Year  \n",
       "Campaign            -0.004306  0.013530     0.975731  \n",
       "Impressions          0.010489  0.019452     0.572650  \n",
       "Target.Clicks       -0.008451 -0.004022     0.621311  \n",
       "Obt.Click            0.027778  0.005373     0.588052  \n",
       "Min.CPC             -0.010222 -0.011407     0.320995  \n",
       "Max.CPC             -0.009219  0.001610     0.712655  \n",
       "CTR                  0.022013 -0.003614     0.392156  \n",
       "Amount.Spend         0.018725 -0.000239     0.606076  \n",
       "Returning.Users     -0.016563  0.004028     0.508298  \n",
       "Targeted.Leads       0.016530 -0.005486     0.516158  \n",
       "SpecialDay           0.002492  0.071213     0.122463  \n",
       "Avg. Bounce.Rate    -0.017904 -0.016807     0.019295  \n",
       "Avg.Time.Page       -0.001191  0.094516     0.053810  \n",
       "Avg.Position         0.028125 -0.012840     0.077273  \n",
       "Total.Revenue        0.059529 -0.005151     0.496029  \n",
       "Obtained.Leads       0.001455  0.068203     0.488569  \n",
       "Year                 0.002135 -0.004695    -0.278862  \n",
       "Month               -0.005302  0.012918     0.996719  \n",
       "Week                -0.000723  0.059948     0.966053  \n",
       "Day_Of_Week          1.000000  0.006342    -0.004771  \n",
       "Day                  0.006342  1.000000     0.093518  \n",
       "Day_Of_Year         -0.004771  0.093518     1.000000  \n",
       "\n",
       "[22 rows x 22 columns]"
      ]
     },
     "execution_count": 15,
     "metadata": {},
     "output_type": "execute_result"
    }
   ],
   "source": [
    "train.corr()"
   ]
  },
  {
   "cell_type": "code",
   "execution_count": 16,
   "metadata": {
    "collapsed": true
   },
   "outputs": [],
   "source": [
    "# train[\"Z\"]=train[\"Total.Revenue\"]/train[\"Returning.Users\"]\n",
    "# test[\"Z\"]=test[\"Total.Revenue\"]/test[\"Returning.Users\"]"
   ]
  },
  {
   "cell_type": "code",
   "execution_count": 17,
   "metadata": {
    "collapsed": false
   },
   "outputs": [],
   "source": [
    "# def function1(X):\n",
    "#     return int(round(X[\"Amount.Spend\"]/X[\"Obt.Click\"]))\n",
    "# data[\"CPC\"]=data.apply(function1,axis=1)\n",
    "# train[\"CPC\"]=train.apply(function1,axis=1)\n",
    "# test[\"CPC\"]=test.apply(function1,axis=1)"
   ]
  },
  {
   "cell_type": "code",
   "execution_count": 18,
   "metadata": {
    "collapsed": true
   },
   "outputs": [],
   "source": [
    "# def function2(X):\n",
    "#     a=[100]*len(X)\n",
    "#     return round((X[\"Returning.Users\"]*(100-X[\"Avg. Bounce.Rate\"]))/100)\n",
    "\n",
    "# data[\"Lead\"]=data.apply(function2,axis=1)\n",
    "# train[\"Lead\"]=train.apply(function2,axis=1)\n",
    "# test[\"Lead\"]=test.apply(function2,axis=1)"
   ]
  },
  {
   "cell_type": "code",
   "execution_count": 19,
   "metadata": {
    "collapsed": false
   },
   "outputs": [],
   "source": [
    "#Month Binning\n",
    "lead_per_month=train.groupby('Month',as_index=False)[\"Obtained.Leads\"].mean()\n",
    "# lead_per_month1=train.groupby('Month',as_index=False)[\"Obtained.Leads\"].std()\n",
    "\n",
    "train[\"X1\"]=train[\"Month\"].apply(lambda X: lead_per_month[\"Obtained.Leads\"][X-1])\n",
    "test[\"X1\"]=test[\"Month\"].apply(lambda X: lead_per_month[\"Obtained.Leads\"][X-1])\n",
    "# train[\"X2\"]=train[\"Month\"].apply(lambda X: lead_per_month1[\"Obtained.Leads\"][X-1])\n",
    "# test[\"X2\"]=test[\"Month\"].apply(lambda X: lead_per_month1[\"Obtained.Leads\"][X-1])"
   ]
  },
  {
   "cell_type": "code",
   "execution_count": null,
   "metadata": {
    "collapsed": true
   },
   "outputs": [],
   "source": []
  },
  {
   "cell_type": "code",
   "execution_count": 20,
   "metadata": {
    "collapsed": false
   },
   "outputs": [],
   "source": [
    "# lead_per_month"
   ]
  },
  {
   "cell_type": "code",
   "execution_count": 21,
   "metadata": {
    "collapsed": false
   },
   "outputs": [],
   "source": [
    "# bins = np.linspace(lead_per_month['Obtained.Leads'].min(), lead_per_month['Obtained.Leads'].max(), 5)\n",
    "# labels = ['1', '2','3','4']\n",
    "# month_buckets, returned_bins = pd.cut(lead_per_month['Obtained.Leads'], bins, labels=labels, right=True, include_lowest=True, retbins=True)\n",
    "\n",
    "# month_buckets = pd.Series(month_buckets)\n",
    "# month_buckets"
   ]
  },
  {
   "cell_type": "code",
   "execution_count": 22,
   "metadata": {
    "collapsed": false
   },
   "outputs": [],
   "source": [
    "# train['Month_Bucket'] = 1\n",
    "# train.loc[((train['Month'] == 1) | (train['Month'] == 2)), 'Month_Bucket'] = 2\n",
    "# train.loc[((train['Month'] == 9) | (train['Month'] == 10)), 'Month_Bucket'] = 3\n",
    "# train.loc[((train['Month'] == 11) | (train['Month'] == 12)), 'Month_Bucket'] = 4\n",
    "# test['Month_Bucket'] = 1\n",
    "# test.loc[((test['Month'] == 1) | (test['Month'] == 2)), 'Month_Bucket'] = 2\n",
    "# test.loc[((test['Month'] == 9) | (test['Month'] == 10)), 'Month_Bucket'] = 3\n",
    "# test.loc[((test['Month'] == 11) | (test['Month'] == 12)), 'Month_Bucket'] = 4\n",
    "\n",
    "# df_minCPC = pd.get_dummies(train['Month_Bucket'], prefix='Month')\n",
    "# train = pd.concat([train.drop(['Month'], axis=1), df_minCPC], axis=1)\n",
    "# df_minCPC = pd.get_dummies(test['Month_Bucket'], prefix='Month')\n",
    "# test = pd.concat([test.drop(['Month'], axis=1), df_minCPC], axis=1)"
   ]
  },
  {
   "cell_type": "code",
   "execution_count": 23,
   "metadata": {
    "collapsed": false
   },
   "outputs": [],
   "source": [
    "# def func(X):\n",
    "#     return a[X[\"Avg.Position\"]]\n",
    "\n",
    "# train[\"X\"]=train.apply(func,axis=1)\n",
    "# test[\"X\"]=test.apply(func,axis=1)"
   ]
  },
  {
   "cell_type": "code",
   "execution_count": 24,
   "metadata": {
    "collapsed": false
   },
   "outputs": [],
   "source": [
    "# train[[\"Month\",\"X\"]]"
   ]
  },
  {
   "cell_type": "code",
   "execution_count": 25,
   "metadata": {
    "collapsed": false
   },
   "outputs": [],
   "source": [
    "# train['Avg_Position_Bucket'] = 1\n",
    "# train.loc[((train['Avg.Position'] == 6) | (train['Avg.Position'] == 7)), 'Avg_Position_Bucket'] = 2\n",
    "\n",
    "# test['Avg_Position_Bucket'] = 1\n",
    "# test.loc[((test['Avg.Position'] == 6) | (test['Avg.Position'] == 7)), 'Avg_Position_Bucket'] = 2"
   ]
  },
  {
   "cell_type": "code",
   "execution_count": 26,
   "metadata": {
    "collapsed": true
   },
   "outputs": [],
   "source": [
    "# train['X11'] = train[\"X1\"].rolling(window=13).mean()\n",
    "# test['X11'] = test[\"X1\"].rolling(window=13).mean()"
   ]
  },
  {
   "cell_type": "code",
   "execution_count": null,
   "metadata": {
    "collapsed": true
   },
   "outputs": [],
   "source": []
  },
  {
   "cell_type": "code",
   "execution_count": 27,
   "metadata": {
    "collapsed": false
   },
   "outputs": [
    {
     "data": {
      "text/plain": [
       "(Index(['Day.Index', 'Campaign', 'Impressions', 'Target.Clicks', 'Obt.Click',\n",
       "        'Min.CPC', 'Max.CPC', 'CTR', 'Amount.Spend', 'Returning.Users',\n",
       "        'Targeted.Leads', 'SpecialDay', 'Avg. Bounce.Rate', 'Avg.Time.Page',\n",
       "        'Avg.Position', 'Total.Revenue', 'Obtained.Leads', 'Year', 'Month',\n",
       "        'Week', 'Day_Of_Week', 'Day', 'Day_Of_Year', 'X1'],\n",
       "       dtype='object'),\n",
       " Index(['Day.Index', 'Campaign', 'Impressions', 'Target.Clicks', 'Obt.Click',\n",
       "        'Min.CPC', 'Max.CPC', 'CTR', 'Amount.Spend', 'Returning.Users',\n",
       "        'Targeted.Leads', 'SpecialDay', 'Avg. Bounce.Rate', 'Avg.Time.Page',\n",
       "        'Avg.Position', 'Total.Revenue', 'Year', 'Month', 'Week', 'Day_Of_Week',\n",
       "        'Day', 'Day_Of_Year', 'X1'],\n",
       "       dtype='object'))"
      ]
     },
     "execution_count": 27,
     "metadata": {},
     "output_type": "execute_result"
    }
   ],
   "source": [
    "train.columns,test.columns"
   ]
  },
  {
   "cell_type": "code",
   "execution_count": 28,
   "metadata": {
    "collapsed": false
   },
   "outputs": [],
   "source": [
    "#Preparing data\n",
    "def prepare_data(df, is_train):\n",
    "#     train_Avg_Position_dummies = pd.get_dummies(df['Avg.Position'], prefix='Avg.Position')\n",
    "#     df = pd.concat([df.drop(['Avg.Position'], axis=1), train_Avg_Position_dummies], axis=1)\n",
    "\n",
    "#     df_minCPC = pd.get_dummies(df['Min.CPC'], prefix='Min.CPC')\n",
    "#     df = pd.concat([df.drop(['Min.CPC'], axis=1), df_minCPC], axis=1)\n",
    "    \n",
    "#     df_campaign = pd.get_dummies(df['Campaign'], prefix='campaign')\n",
    "#     df = pd.concat([df, df_campaign], axis=1)\n",
    "    \n",
    "#     df_month = pd.get_dummies(df['Month'], prefix='Month')\n",
    "#     df = pd.concat([df.drop(['Month'], axis=1), df_month], axis=1)\n",
    "    \n",
    "    if is_train:\n",
    "        return df.drop(['Obtained.Leads','Day.Index',\"Week\",\"Day_Of_Week\",\"Day\",\"Day_Of_Year\"], axis=1), df['Obtained.Leads']\n",
    "    return     df.drop([                 \"Day.Index\",\"Week\",\"Day_Of_Week\",\"Day\",\"Day_Of_Year\"], axis=1)"
   ]
  },
  {
   "cell_type": "code",
   "execution_count": 29,
   "metadata": {
    "collapsed": false
   },
   "outputs": [
    {
     "data": {
      "text/plain": [
       "Index(['Day.Index', 'Campaign', 'Impressions', 'Target.Clicks', 'Obt.Click',\n",
       "       'Min.CPC', 'Max.CPC', 'CTR', 'Amount.Spend', 'Returning.Users',\n",
       "       'Targeted.Leads', 'SpecialDay', 'Avg. Bounce.Rate', 'Avg.Time.Page',\n",
       "       'Avg.Position', 'Total.Revenue', 'Obtained.Leads', 'Year', 'Month',\n",
       "       'Week', 'Day_Of_Week', 'Day', 'Day_Of_Year', 'X1'],\n",
       "      dtype='object')"
      ]
     },
     "execution_count": 29,
     "metadata": {},
     "output_type": "execute_result"
    }
   ],
   "source": [
    "train.columns"
   ]
  },
  {
   "cell_type": "code",
   "execution_count": 30,
   "metadata": {
    "collapsed": false
   },
   "outputs": [
    {
     "data": {
      "text/html": [
       "<div>\n",
       "<table border=\"1\" class=\"dataframe\">\n",
       "  <thead>\n",
       "    <tr style=\"text-align: right;\">\n",
       "      <th></th>\n",
       "      <th>Day.Index</th>\n",
       "      <th>Campaign</th>\n",
       "      <th>Impressions</th>\n",
       "      <th>Target.Clicks</th>\n",
       "      <th>Obt.Click</th>\n",
       "      <th>Min.CPC</th>\n",
       "      <th>Max.CPC</th>\n",
       "      <th>CTR</th>\n",
       "      <th>Amount.Spend</th>\n",
       "      <th>Returning.Users</th>\n",
       "      <th>...</th>\n",
       "      <th>Avg.Position</th>\n",
       "      <th>Total.Revenue</th>\n",
       "      <th>Obtained.Leads</th>\n",
       "      <th>Year</th>\n",
       "      <th>Month</th>\n",
       "      <th>Week</th>\n",
       "      <th>Day_Of_Week</th>\n",
       "      <th>Day</th>\n",
       "      <th>Day_Of_Year</th>\n",
       "      <th>X1</th>\n",
       "    </tr>\n",
       "  </thead>\n",
       "  <tbody>\n",
       "    <tr>\n",
       "      <th>0</th>\n",
       "      <td>2013-01-01</td>\n",
       "      <td>1</td>\n",
       "      <td>13930</td>\n",
       "      <td>225</td>\n",
       "      <td>200</td>\n",
       "      <td>28</td>\n",
       "      <td>31</td>\n",
       "      <td>1.44</td>\n",
       "      <td>6200</td>\n",
       "      <td>36</td>\n",
       "      <td>...</td>\n",
       "      <td>5</td>\n",
       "      <td>2401</td>\n",
       "      <td>20.0</td>\n",
       "      <td>2013</td>\n",
       "      <td>1</td>\n",
       "      <td>1</td>\n",
       "      <td>1</td>\n",
       "      <td>1</td>\n",
       "      <td>1</td>\n",
       "      <td>14.721505</td>\n",
       "    </tr>\n",
       "    <tr>\n",
       "      <th>1</th>\n",
       "      <td>2013-01-02</td>\n",
       "      <td>1</td>\n",
       "      <td>11177</td>\n",
       "      <td>225</td>\n",
       "      <td>288</td>\n",
       "      <td>28</td>\n",
       "      <td>31</td>\n",
       "      <td>2.58</td>\n",
       "      <td>8352</td>\n",
       "      <td>27</td>\n",
       "      <td>...</td>\n",
       "      <td>3</td>\n",
       "      <td>4033</td>\n",
       "      <td>18.0</td>\n",
       "      <td>2013</td>\n",
       "      <td>1</td>\n",
       "      <td>1</td>\n",
       "      <td>2</td>\n",
       "      <td>2</td>\n",
       "      <td>2</td>\n",
       "      <td>14.721505</td>\n",
       "    </tr>\n",
       "    <tr>\n",
       "      <th>2</th>\n",
       "      <td>2013-01-03</td>\n",
       "      <td>1</td>\n",
       "      <td>12968</td>\n",
       "      <td>225</td>\n",
       "      <td>211</td>\n",
       "      <td>28</td>\n",
       "      <td>31</td>\n",
       "      <td>1.63</td>\n",
       "      <td>5908</td>\n",
       "      <td>31</td>\n",
       "      <td>...</td>\n",
       "      <td>1</td>\n",
       "      <td>4637</td>\n",
       "      <td>13.0</td>\n",
       "      <td>2013</td>\n",
       "      <td>1</td>\n",
       "      <td>1</td>\n",
       "      <td>3</td>\n",
       "      <td>3</td>\n",
       "      <td>3</td>\n",
       "      <td>14.721505</td>\n",
       "    </tr>\n",
       "    <tr>\n",
       "      <th>3</th>\n",
       "      <td>2013-01-04</td>\n",
       "      <td>1</td>\n",
       "      <td>13850</td>\n",
       "      <td>225</td>\n",
       "      <td>238</td>\n",
       "      <td>28</td>\n",
       "      <td>31</td>\n",
       "      <td>1.72</td>\n",
       "      <td>6664</td>\n",
       "      <td>38</td>\n",
       "      <td>...</td>\n",
       "      <td>2</td>\n",
       "      <td>3597</td>\n",
       "      <td>26.0</td>\n",
       "      <td>2013</td>\n",
       "      <td>1</td>\n",
       "      <td>1</td>\n",
       "      <td>4</td>\n",
       "      <td>4</td>\n",
       "      <td>4</td>\n",
       "      <td>14.721505</td>\n",
       "    </tr>\n",
       "    <tr>\n",
       "      <th>4</th>\n",
       "      <td>2013-01-05</td>\n",
       "      <td>1</td>\n",
       "      <td>12346</td>\n",
       "      <td>225</td>\n",
       "      <td>259</td>\n",
       "      <td>28</td>\n",
       "      <td>31</td>\n",
       "      <td>2.10</td>\n",
       "      <td>7511</td>\n",
       "      <td>41</td>\n",
       "      <td>...</td>\n",
       "      <td>8</td>\n",
       "      <td>1923</td>\n",
       "      <td>18.0</td>\n",
       "      <td>2013</td>\n",
       "      <td>1</td>\n",
       "      <td>1</td>\n",
       "      <td>5</td>\n",
       "      <td>5</td>\n",
       "      <td>5</td>\n",
       "      <td>14.721505</td>\n",
       "    </tr>\n",
       "  </tbody>\n",
       "</table>\n",
       "<p>5 rows × 24 columns</p>\n",
       "</div>"
      ],
      "text/plain": [
       "   Day.Index  Campaign  Impressions  Target.Clicks  Obt.Click  Min.CPC  \\\n",
       "0 2013-01-01         1        13930            225        200       28   \n",
       "1 2013-01-02         1        11177            225        288       28   \n",
       "2 2013-01-03         1        12968            225        211       28   \n",
       "3 2013-01-04         1        13850            225        238       28   \n",
       "4 2013-01-05         1        12346            225        259       28   \n",
       "\n",
       "   Max.CPC   CTR  Amount.Spend  Returning.Users    ...      Avg.Position  \\\n",
       "0       31  1.44          6200               36    ...                 5   \n",
       "1       31  2.58          8352               27    ...                 3   \n",
       "2       31  1.63          5908               31    ...                 1   \n",
       "3       31  1.72          6664               38    ...                 2   \n",
       "4       31  2.10          7511               41    ...                 8   \n",
       "\n",
       "   Total.Revenue  Obtained.Leads  Year  Month  Week  Day_Of_Week  Day  \\\n",
       "0           2401            20.0  2013      1     1            1    1   \n",
       "1           4033            18.0  2013      1     1            2    2   \n",
       "2           4637            13.0  2013      1     1            3    3   \n",
       "3           3597            26.0  2013      1     1            4    4   \n",
       "4           1923            18.0  2013      1     1            5    5   \n",
       "\n",
       "   Day_Of_Year         X1  \n",
       "0            1  14.721505  \n",
       "1            2  14.721505  \n",
       "2            3  14.721505  \n",
       "3            4  14.721505  \n",
       "4            5  14.721505  \n",
       "\n",
       "[5 rows x 24 columns]"
      ]
     },
     "execution_count": 30,
     "metadata": {},
     "output_type": "execute_result"
    }
   ],
   "source": [
    "train.head()"
   ]
  },
  {
   "cell_type": "code",
   "execution_count": 31,
   "metadata": {
    "collapsed": false
   },
   "outputs": [],
   "source": [
    "#Splitting Data\n",
    "train_train_data = train[(train[\"Year\"]==2013) |((train[\"Year\"]==2014) & (train[\"Month\"]<4))]\n",
    "test_train_data = train[(train[\"Year\"]==2015) |((train[\"Year\"]==2014) & (train[\"Month\"]>3))]"
   ]
  },
  {
   "cell_type": "code",
   "execution_count": 32,
   "metadata": {
    "collapsed": true
   },
   "outputs": [],
   "source": [
    "# #Splitting Data\n",
    "# train_train_data = train[(train[\"Year\"]==2013) |((train[\"Year\"]==2014) )]\n",
    "# test_train_data = train[(train[\"Year\"]==2015)]"
   ]
  },
  {
   "cell_type": "code",
   "execution_count": 33,
   "metadata": {
    "collapsed": false
   },
   "outputs": [
    {
     "data": {
      "text/plain": [
       "(455, 24)"
      ]
     },
     "execution_count": 33,
     "metadata": {},
     "output_type": "execute_result"
    }
   ],
   "source": [
    "train_train_data.shape"
   ]
  },
  {
   "cell_type": "code",
   "execution_count": 34,
   "metadata": {
    "collapsed": false
   },
   "outputs": [],
   "source": [
    "a=train_train_data[train_train_data.SpecialDay==1]"
   ]
  },
  {
   "cell_type": "code",
   "execution_count": 35,
   "metadata": {
    "collapsed": false
   },
   "outputs": [],
   "source": [
    "# train_train_data=pd.concat([a,train_train_data],axis=0)\n",
    "# train_train_data=pd.concat([a,train_train_data],axis=0)\n",
    "# train_train_data=pd.concat([a,train_train_data],axis=0)\n",
    "# train_train_data=pd.concat([a,train_train_data],axis=0)\n",
    "# train_train_data=pd.concat([a,train_train_data],axis=0)\n",
    "# train_train_data=pd.concat([a,train_train_data],axis=0)\n",
    "# train_train_data=pd.concat([a,train_train_data],axis=0)\n",
    "# train_train_data=pd.concat([a,train_train_data],axis=0)\n",
    "# train_train_data=pd.concat([a,train_train_data],axis=0)\n",
    "# train_train_data=pd.concat([a,train_train_data],axis=0)"
   ]
  },
  {
   "cell_type": "code",
   "execution_count": 36,
   "metadata": {
    "collapsed": false
   },
   "outputs": [
    {
     "data": {
      "text/plain": [
       "(455, 24)"
      ]
     },
     "execution_count": 36,
     "metadata": {},
     "output_type": "execute_result"
    }
   ],
   "source": [
    "train_train_data.shape"
   ]
  },
  {
   "cell_type": "code",
   "execution_count": null,
   "metadata": {
    "collapsed": true
   },
   "outputs": [],
   "source": []
  },
  {
   "cell_type": "code",
   "execution_count": null,
   "metadata": {
    "collapsed": true
   },
   "outputs": [],
   "source": []
  },
  {
   "cell_type": "code",
   "execution_count": null,
   "metadata": {
    "collapsed": false
   },
   "outputs": [],
   "source": []
  },
  {
   "cell_type": "code",
   "execution_count": 37,
   "metadata": {
    "collapsed": false
   },
   "outputs": [],
   "source": [
    "train,target_train=prepare_data(train,1)\n",
    "test=prepare_data(test,0)\n",
    "Xtrain, Ytrain=prepare_data(train_train_data,1)\n",
    "Xtest, Ytest=prepare_data(test_train_data,1)"
   ]
  },
  {
   "cell_type": "code",
   "execution_count": 38,
   "metadata": {
    "collapsed": false
   },
   "outputs": [
    {
     "data": {
      "text/plain": [
       "Index(['Campaign', 'Impressions', 'Target.Clicks', 'Obt.Click', 'Min.CPC',\n",
       "       'Max.CPC', 'CTR', 'Amount.Spend', 'Returning.Users', 'Targeted.Leads',\n",
       "       'SpecialDay', 'Avg. Bounce.Rate', 'Avg.Time.Page', 'Avg.Position',\n",
       "       'Total.Revenue', 'Year', 'Month', 'X1'],\n",
       "      dtype='object')"
      ]
     },
     "execution_count": 38,
     "metadata": {},
     "output_type": "execute_result"
    }
   ],
   "source": [
    "Xtrain.columns"
   ]
  },
  {
   "cell_type": "code",
   "execution_count": 39,
   "metadata": {
    "collapsed": true
   },
   "outputs": [],
   "source": [
    "from sklearn.grid_search import GridSearchCV\n",
    "from xgboost.sklearn import XGBRegressor\n",
    "from sklearn.ensemble import RandomForestRegressor\n",
    "from sklearn.metrics import mean_squared_error"
   ]
  },
  {
   "cell_type": "code",
   "execution_count": null,
   "metadata": {
    "collapsed": true
   },
   "outputs": [],
   "source": []
  },
  {
   "cell_type": "code",
   "execution_count": 40,
   "metadata": {
    "collapsed": false
   },
   "outputs": [],
   "source": [
    "# param_test1 = {\n",
    "#  'max_depth':list(range(1,5,1),),\n",
    "#  'min_child_weight':list(range(3,7,1))\n",
    "# }\n",
    "# gsearch1 = GridSearchCV(estimator = XGBRegressor( learning_rate =0.05, n_estimators=1000, max_depth=4,\n",
    "#  min_child_weight=4, gamma=1, subsample=0.75, objective= 'reg:linear', nthread=4, scale_pos_weight=1, seed=27), \n",
    "#  param_grid = param_test1,n_jobs=4,iid=False, cv=5,scoring='mean_squared_error')\n",
    "# gsearch1.fit(Xtrain,Ytrain)\n",
    "# gsearch1.grid_scores_, gsearch1.best_params_, gsearch1.best_score_"
   ]
  },
  {
   "cell_type": "code",
   "execution_count": 41,
   "metadata": {
    "collapsed": true
   },
   "outputs": [],
   "source": [
    "# \"objective\": \"reg:linear\",\n",
    "#           \"booster\" : \"gbtree\",\n",
    "#           \"eta\": 0.045,\n",
    "#           \"max_depth\":3,\n",
    "#           \"subsample\": 0.76,\n",
    "#           \"colsample_bytree\": 0.5,\n",
    "#           'gamma':0,\n",
    "#           'min_child_weight':4,\n",
    "#           \"silent\": 1,\n",
    "#           \"seed\": 1301"
   ]
  },
  {
   "cell_type": "code",
   "execution_count": 42,
   "metadata": {
    "collapsed": false
   },
   "outputs": [
    {
     "name": "stdout",
     "output_type": "stream",
     "text": [
      "Train a XGBoost model\n",
      "[0]\ttrain-rmse:15.1531\teval-rmse:15.9875\n",
      "Multiple eval metrics have been passed: 'eval-rmse' will be used for early stopping.\n",
      "\n",
      "Will train until eval-rmse hasn't improved in 50 rounds.\n",
      "[1600]\ttrain-rmse:0.133677\teval-rmse:1.48388\n",
      "Stopping. Best iteration:\n",
      "[1569]\ttrain-rmse:0.137925\teval-rmse:1.48359\n",
      "\n"
     ]
    }
   ],
   "source": [
    "import xgboost as xgb\n",
    "\n",
    "import xgboost as xgb\n",
    "params = {\"objective\": \"reg:linear\",\n",
    "          \"booster\" : \"gbtree\",\n",
    "          \"eta\": 0.045,\n",
    "          \"max_depth\":3,\n",
    "          \"subsample\": 0.76,\n",
    "          \"colsample_bytree\": 0.5,\n",
    "          'gamma':0,\n",
    "          'min_child_weight':4,\n",
    "          \"silent\": 1,\n",
    "          \"seed\": 1301\n",
    "          }\n",
    "num_boost_round = 2000\n",
    "\n",
    "\n",
    "print(\"Train a XGBoost model\")\n",
    "dtrain = xgb.DMatrix(Xtrain, Ytrain)\n",
    "dvalid = xgb.DMatrix(Xtest, Ytest)\n",
    "\n",
    "watchlist = [(dtrain, 'train'), (dvalid, 'eval')]\n",
    "gbm = xgb.train(params, dtrain, num_boost_round, evals=watchlist, early_stopping_rounds=50, verbose_eval=1600)"
   ]
  },
  {
   "cell_type": "code",
   "execution_count": 43,
   "metadata": {
    "collapsed": true
   },
   "outputs": [],
   "source": [
    "import sklearn"
   ]
  },
  {
   "cell_type": "code",
   "execution_count": 44,
   "metadata": {
    "collapsed": false
   },
   "outputs": [],
   "source": [
    "c=(sklearn.metrics.mean_squared_error(gbm.predict(xgb.DMatrix(Xtrain)),Ytrain))**.5"
   ]
  },
  {
   "cell_type": "code",
   "execution_count": 45,
   "metadata": {
    "collapsed": false
   },
   "outputs": [],
   "source": [
    "# a=b\n",
    "# b=gbm.best_score\n",
    "# a,b,c"
   ]
  },
  {
   "cell_type": "code",
   "execution_count": 46,
   "metadata": {
    "collapsed": false
   },
   "outputs": [
    {
     "data": {
      "image/png": "[encoded data removed]",
      "text/plain": [
       "<matplotlib.figure.Figure at 0x26be381c668>"
      ]
     },
     "metadata": {},
     "output_type": "display_data"
    }
   ],
   "source": [
    "#xgb.plot_importance(gbm,height=1)\n",
    "ax = xgb.plot_importance(gbm)\n",
    "fig = ax.figure\n",
    "fig.set_size_inches(10,8)"
   ]
  },
  {
   "cell_type": "code",
   "execution_count": 47,
   "metadata": {
    "collapsed": false
   },
   "outputs": [
    {
     "data": {
      "text/plain": [
       "(820, 18)"
      ]
     },
     "execution_count": 47,
     "metadata": {},
     "output_type": "execute_result"
    }
   ],
   "source": [
    "train.shape"
   ]
  },
  {
   "cell_type": "code",
   "execution_count": 48,
   "metadata": {
    "collapsed": true
   },
   "outputs": [],
   "source": [
    "# a=train[train[\"SpecialDay\"]==1]\n",
    "# train=pd.concat([a,train])"
   ]
  },
  {
   "cell_type": "code",
   "execution_count": 49,
   "metadata": {
    "collapsed": false
   },
   "outputs": [
    {
     "data": {
      "text/plain": [
       "(820, 18)"
      ]
     },
     "execution_count": 49,
     "metadata": {},
     "output_type": "execute_result"
    }
   ],
   "source": [
    "train.shape"
   ]
  },
  {
   "cell_type": "code",
   "execution_count": 50,
   "metadata": {
    "collapsed": false
   },
   "outputs": [
    {
     "name": "stdout",
     "output_type": "stream",
     "text": [
      "[0]\ttrain-rmse:15.5143\teval-rmse:15.97\n",
      "Multiple eval metrics have been passed: 'eval-rmse' will be used for early stopping.\n",
      "\n",
      "Will train until eval-rmse hasn't improved in 50 rounds.\n",
      "[400]\ttrain-rmse:0.744713\teval-rmse:0.714536\n",
      "[800]\ttrain-rmse:0.472391\teval-rmse:0.455619\n",
      "[1200]\ttrain-rmse:0.332585\teval-rmse:0.326388\n",
      "[1600]\ttrain-rmse:0.247281\teval-rmse:0.245665\n"
     ]
    }
   ],
   "source": [
    "dtrain = xgb.DMatrix(train, target_train)\n",
    "dvalid = xgb.DMatrix(Xtest, Ytest)\n",
    "\n",
    "watchlist = [(dtrain, 'train'), (dvalid, 'eval')]\n",
    "gbm = xgb.train(params, dtrain, num_boost_round, evals=watchlist, early_stopping_rounds=50, verbose_eval=400)"
   ]
  },
  {
   "cell_type": "code",
   "execution_count": 51,
   "metadata": {
    "collapsed": false
   },
   "outputs": [
    {
     "data": {
      "text/html": [
       "<div>\n",
       "<table border=\"1\" class=\"dataframe\">\n",
       "  <thead>\n",
       "    <tr style=\"text-align: right;\">\n",
       "      <th></th>\n",
       "      <th>Campaign</th>\n",
       "      <th>Impressions</th>\n",
       "      <th>Target.Clicks</th>\n",
       "      <th>Obt.Click</th>\n",
       "      <th>Min.CPC</th>\n",
       "      <th>Max.CPC</th>\n",
       "      <th>CTR</th>\n",
       "      <th>Amount.Spend</th>\n",
       "      <th>Returning.Users</th>\n",
       "      <th>Targeted.Leads</th>\n",
       "      <th>SpecialDay</th>\n",
       "      <th>Avg. Bounce.Rate</th>\n",
       "      <th>Avg.Time.Page</th>\n",
       "      <th>Avg.Position</th>\n",
       "      <th>Total.Revenue</th>\n",
       "      <th>Year</th>\n",
       "      <th>Month</th>\n",
       "      <th>X1</th>\n",
       "    </tr>\n",
       "  </thead>\n",
       "  <tbody>\n",
       "    <tr>\n",
       "      <th>0</th>\n",
       "      <td>2</td>\n",
       "      <td>16919</td>\n",
       "      <td>170</td>\n",
       "      <td>220</td>\n",
       "      <td>26</td>\n",
       "      <td>31</td>\n",
       "      <td>1.30</td>\n",
       "      <td>5940</td>\n",
       "      <td>27</td>\n",
       "      <td>11</td>\n",
       "      <td>1</td>\n",
       "      <td>59.45</td>\n",
       "      <td>239</td>\n",
       "      <td>3</td>\n",
       "      <td>2687</td>\n",
       "      <td>2015</td>\n",
       "      <td>4</td>\n",
       "      <td>11.7</td>\n",
       "    </tr>\n",
       "    <tr>\n",
       "      <th>1</th>\n",
       "      <td>2</td>\n",
       "      <td>13708</td>\n",
       "      <td>170</td>\n",
       "      <td>236</td>\n",
       "      <td>26</td>\n",
       "      <td>31</td>\n",
       "      <td>1.72</td>\n",
       "      <td>7316</td>\n",
       "      <td>20</td>\n",
       "      <td>14</td>\n",
       "      <td>0</td>\n",
       "      <td>44.10</td>\n",
       "      <td>163</td>\n",
       "      <td>3</td>\n",
       "      <td>1379</td>\n",
       "      <td>2015</td>\n",
       "      <td>4</td>\n",
       "      <td>11.7</td>\n",
       "    </tr>\n",
       "    <tr>\n",
       "      <th>2</th>\n",
       "      <td>2</td>\n",
       "      <td>13251</td>\n",
       "      <td>170</td>\n",
       "      <td>158</td>\n",
       "      <td>26</td>\n",
       "      <td>31</td>\n",
       "      <td>1.19</td>\n",
       "      <td>4898</td>\n",
       "      <td>24</td>\n",
       "      <td>9</td>\n",
       "      <td>0</td>\n",
       "      <td>83.81</td>\n",
       "      <td>245</td>\n",
       "      <td>5</td>\n",
       "      <td>1968</td>\n",
       "      <td>2015</td>\n",
       "      <td>4</td>\n",
       "      <td>11.7</td>\n",
       "    </tr>\n",
       "    <tr>\n",
       "      <th>3</th>\n",
       "      <td>2</td>\n",
       "      <td>12803</td>\n",
       "      <td>170</td>\n",
       "      <td>119</td>\n",
       "      <td>26</td>\n",
       "      <td>31</td>\n",
       "      <td>0.93</td>\n",
       "      <td>3570</td>\n",
       "      <td>19</td>\n",
       "      <td>7</td>\n",
       "      <td>0</td>\n",
       "      <td>8.87</td>\n",
       "      <td>202</td>\n",
       "      <td>1</td>\n",
       "      <td>2510</td>\n",
       "      <td>2015</td>\n",
       "      <td>4</td>\n",
       "      <td>11.7</td>\n",
       "    </tr>\n",
       "    <tr>\n",
       "      <th>4</th>\n",
       "      <td>2</td>\n",
       "      <td>12955</td>\n",
       "      <td>170</td>\n",
       "      <td>147</td>\n",
       "      <td>26</td>\n",
       "      <td>31</td>\n",
       "      <td>1.13</td>\n",
       "      <td>3969</td>\n",
       "      <td>18</td>\n",
       "      <td>7</td>\n",
       "      <td>0</td>\n",
       "      <td>58.47</td>\n",
       "      <td>241</td>\n",
       "      <td>5</td>\n",
       "      <td>1982</td>\n",
       "      <td>2015</td>\n",
       "      <td>4</td>\n",
       "      <td>11.7</td>\n",
       "    </tr>\n",
       "  </tbody>\n",
       "</table>\n",
       "</div>"
      ],
      "text/plain": [
       "   Campaign  Impressions  Target.Clicks  Obt.Click  Min.CPC  Max.CPC   CTR  \\\n",
       "0         2        16919            170        220       26       31  1.30   \n",
       "1         2        13708            170        236       26       31  1.72   \n",
       "2         2        13251            170        158       26       31  1.19   \n",
       "3         2        12803            170        119       26       31  0.93   \n",
       "4         2        12955            170        147       26       31  1.13   \n",
       "\n",
       "   Amount.Spend  Returning.Users  Targeted.Leads  SpecialDay  \\\n",
       "0          5940               27              11           1   \n",
       "1          7316               20              14           0   \n",
       "2          4898               24               9           0   \n",
       "3          3570               19               7           0   \n",
       "4          3969               18               7           0   \n",
       "\n",
       "   Avg. Bounce.Rate  Avg.Time.Page  Avg.Position  Total.Revenue  Year  Month  \\\n",
       "0             59.45            239             3           2687  2015      4   \n",
       "1             44.10            163             3           1379  2015      4   \n",
       "2             83.81            245             5           1968  2015      4   \n",
       "3              8.87            202             1           2510  2015      4   \n",
       "4             58.47            241             5           1982  2015      4   \n",
       "\n",
       "     X1  \n",
       "0  11.7  \n",
       "1  11.7  \n",
       "2  11.7  \n",
       "3  11.7  \n",
       "4  11.7  "
      ]
     },
     "execution_count": 51,
     "metadata": {},
     "output_type": "execute_result"
    }
   ],
   "source": [
    "test.head()"
   ]
  },
  {
   "cell_type": "code",
   "execution_count": 52,
   "metadata": {
    "collapsed": false
   },
   "outputs": [],
   "source": [
    "predictTrain=gbm.predict(xgb.DMatrix(test))"
   ]
  },
  {
   "cell_type": "code",
   "execution_count": 53,
   "metadata": {
    "collapsed": false
   },
   "outputs": [
    {
     "data": {
      "text/plain": [
       "array([ 17.12914085,  14.01272774,   8.33505344,   8.75003242,   7.0930419 ], dtype=float32)"
      ]
     },
     "execution_count": 53,
     "metadata": {},
     "output_type": "execute_result"
    }
   ],
   "source": [
    "predictTrain[0:5]"
   ]
  },
  {
   "cell_type": "code",
   "execution_count": 54,
   "metadata": {
    "collapsed": true
   },
   "outputs": [],
   "source": [
    "# predictTrain=np.exp(predictTrain)"
   ]
  },
  {
   "cell_type": "code",
   "execution_count": 55,
   "metadata": {
    "collapsed": false
   },
   "outputs": [
    {
     "data": {
      "text/plain": [
       "array([17, 14,  8,  9,  7])"
      ]
     },
     "execution_count": 55,
     "metadata": {},
     "output_type": "execute_result"
    }
   ],
   "source": [
    "predicted = np.round(predictTrain, decimals=0).astype(int)\n",
    "predicted[0:5]"
   ]
  },
  {
   "cell_type": "code",
   "execution_count": 56,
   "metadata": {
    "collapsed": false
   },
   "outputs": [],
   "source": [
    "solution = pd.DataFrame(ss['Day.Index'])\n",
    "solution = pd.concat([solution, pd.DataFrame(predicted, columns=['Obtained.Leads'])], axis=1)"
   ]
  },
  {
   "cell_type": "code",
   "execution_count": 58,
   "metadata": {
    "collapsed": false
   },
   "outputs": [],
   "source": [
    "# path='C:\\\\Users\\\\HARSH\\\\Desktop\\\\Data_Tales\\\\Submit\\\\'\n",
    "# solution.to_csv(path+r'FINAL.csv', index=False)"
   ]
  },
  {
   "cell_type": "code",
   "execution_count": null,
   "metadata": {
    "collapsed": false
   },
   "outputs": [],
   "source": [
    "solution.tail()"
   ]
  },
  {
   "cell_type": "code",
   "execution_count": null,
   "metadata": {
    "collapsed": true
   },
   "outputs": [],
   "source": []
  },
  {
   "cell_type": "code",
   "execution_count": null,
   "metadata": {
    "collapsed": true
   },
   "outputs": [],
   "source": [
    "#no"
   ]
  }
 ],
 "metadata": {
  "anaconda-cloud": {},
  "kernelspec": {
   "display_name": "Python [default]",
   "language": "python",
   "name": "python3"
  },
  "language_info": {
   "codemirror_mode": {
    "name": "ipython",
    "version": 3
   },
   "file_extension": ".py",
   "mimetype": "text/x-python",
   "name": "python",
   "nbconvert_exporter": "python",
   "pygments_lexer": "ipython3",
   "version": "3.5.2"
  }
 },
 "nbformat": 4,
 "nbformat_minor": 1
}
