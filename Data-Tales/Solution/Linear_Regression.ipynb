{
 "cells": [
  {
   "cell_type": "code",
   "execution_count": 1,
   "metadata": {
    "collapsed": false
   },
   "outputs": [],
   "source": [
    "import pandas as pd\n",
    "import matplotlib.pyplot as plt\n",
    "%matplotlib inline\n",
    "import seaborn as sns\n",
    "import numpy as np"
   ]
  },
  {
   "cell_type": "code",
   "execution_count": 2,
   "metadata": {
    "collapsed": false
   },
   "outputs": [
    {
     "name": "stderr",
     "output_type": "stream",
     "text": [
      "C:\\Users\\HARSH\\Anaconda3\\lib\\site-packages\\matplotlib\\__init__.py:878: UserWarning: axes.color_cycle is deprecated and replaced with axes.prop_cycle; please use the latter.\n",
      "  warnings.warn(self.msg_depr % (key, alt_key))\n"
     ]
    }
   ],
   "source": [
    "from matplotlib import rcParams\n",
    "#colorbrewer2 Dark2 qualitative color table\n",
    "dark2_colors = [(0.10588235294117647, 0.6196078431372549, 0.4666666666666667),\n",
    "                (0.8509803921568627, 0.37254901960784315, 0.00784313725490196),\n",
    "                (0.4588235294117647, 0.4392156862745098, 0.7019607843137254),\n",
    "                (0.9058823529411765, 0.1607843137254902, 0.5411764705882353),\n",
    "                (0.4, 0.6509803921568628, 0.11764705882352941),\n",
    "                (0.9019607843137255, 0.6705882352941176, 0.00784313725490196),\n",
    "                (0.6509803921568628, 0.4627450980392157, 0.11372549019607843)]\n",
    "\n",
    "rcParams['figure.figsize'] = (8, 3)\n",
    "rcParams['figure.dpi'] = 150\n",
    "rcParams['axes.color_cycle'] = dark2_colors\n",
    "rcParams['lines.linewidth'] = 2\n",
    "rcParams['font.size'] = 14\n",
    "rcParams['patch.edgecolor'] = 'white'\n",
    "rcParams['patch.facecolor'] = dark2_colors[0]\n",
    "rcParams['font.family'] = 'StixGeneral'\n",
    "rcParams['axes.grid'] = True\n",
    "rcParams['axes.facecolor'] = '#eeeeee'"
   ]
  },
  {
   "cell_type": "code",
   "execution_count": 3,
   "metadata": {
    "collapsed": true
   },
   "outputs": [],
   "source": [
    "train = pd.read_csv('modified_train.csv', parse_dates=['Day.Index'], dayfirst=True)\n",
    "test = pd.read_csv('modified_test.csv', parse_dates=['Day.Index'], dayfirst=True)\n",
    "data = pd.read_csv('modified_data.csv', parse_dates=['Day.Index'], dayfirst=True)\n",
    "ss = pd.read_csv('samplesubmission.csv')"
   ]
  },
  {
   "cell_type": "code",
   "execution_count": 4,
   "metadata": {
    "collapsed": false
   },
   "outputs": [
    {
     "data": {
      "text/html": [
       "<div>\n",
       "<table border=\"1\" class=\"dataframe\">\n",
       "  <thead>\n",
       "    <tr style=\"text-align: right;\">\n",
       "      <th></th>\n",
       "      <th>Day.Index</th>\n",
       "      <th>Campaign</th>\n",
       "      <th>Impressions</th>\n",
       "      <th>Target.Clicks</th>\n",
       "      <th>Obt.Click</th>\n",
       "      <th>Min.CPC</th>\n",
       "      <th>Max.CPC</th>\n",
       "      <th>CTR</th>\n",
       "      <th>Amount.Spend</th>\n",
       "      <th>Returning.Users</th>\n",
       "      <th>...</th>\n",
       "      <th>Avg.Time.Page</th>\n",
       "      <th>Avg.Position</th>\n",
       "      <th>Total.Revenue</th>\n",
       "      <th>Obtained.Leads</th>\n",
       "      <th>Year</th>\n",
       "      <th>Month</th>\n",
       "      <th>Week</th>\n",
       "      <th>Day_Of_Week</th>\n",
       "      <th>Day</th>\n",
       "      <th>Day_Of_Year</th>\n",
       "    </tr>\n",
       "  </thead>\n",
       "  <tbody>\n",
       "    <tr>\n",
       "      <th>0</th>\n",
       "      <td>2013-01-01</td>\n",
       "      <td>1</td>\n",
       "      <td>13930</td>\n",
       "      <td>225</td>\n",
       "      <td>200</td>\n",
       "      <td>28</td>\n",
       "      <td>31</td>\n",
       "      <td>1.44</td>\n",
       "      <td>6200</td>\n",
       "      <td>36</td>\n",
       "      <td>...</td>\n",
       "      <td>571</td>\n",
       "      <td>5</td>\n",
       "      <td>2401</td>\n",
       "      <td>20</td>\n",
       "      <td>2013</td>\n",
       "      <td>1</td>\n",
       "      <td>1</td>\n",
       "      <td>1</td>\n",
       "      <td>1</td>\n",
       "      <td>1</td>\n",
       "    </tr>\n",
       "    <tr>\n",
       "      <th>1</th>\n",
       "      <td>2013-01-02</td>\n",
       "      <td>1</td>\n",
       "      <td>11177</td>\n",
       "      <td>225</td>\n",
       "      <td>288</td>\n",
       "      <td>28</td>\n",
       "      <td>31</td>\n",
       "      <td>2.58</td>\n",
       "      <td>8352</td>\n",
       "      <td>27</td>\n",
       "      <td>...</td>\n",
       "      <td>447</td>\n",
       "      <td>3</td>\n",
       "      <td>4033</td>\n",
       "      <td>18</td>\n",
       "      <td>2013</td>\n",
       "      <td>1</td>\n",
       "      <td>1</td>\n",
       "      <td>2</td>\n",
       "      <td>2</td>\n",
       "      <td>2</td>\n",
       "    </tr>\n",
       "    <tr>\n",
       "      <th>2</th>\n",
       "      <td>2013-01-03</td>\n",
       "      <td>1</td>\n",
       "      <td>12968</td>\n",
       "      <td>225</td>\n",
       "      <td>211</td>\n",
       "      <td>28</td>\n",
       "      <td>31</td>\n",
       "      <td>1.63</td>\n",
       "      <td>5908</td>\n",
       "      <td>31</td>\n",
       "      <td>...</td>\n",
       "      <td>322</td>\n",
       "      <td>1</td>\n",
       "      <td>4637</td>\n",
       "      <td>13</td>\n",
       "      <td>2013</td>\n",
       "      <td>1</td>\n",
       "      <td>1</td>\n",
       "      <td>3</td>\n",
       "      <td>3</td>\n",
       "      <td>3</td>\n",
       "    </tr>\n",
       "    <tr>\n",
       "      <th>3</th>\n",
       "      <td>2013-01-04</td>\n",
       "      <td>1</td>\n",
       "      <td>13850</td>\n",
       "      <td>225</td>\n",
       "      <td>238</td>\n",
       "      <td>28</td>\n",
       "      <td>31</td>\n",
       "      <td>1.72</td>\n",
       "      <td>6664</td>\n",
       "      <td>38</td>\n",
       "      <td>...</td>\n",
       "      <td>534</td>\n",
       "      <td>2</td>\n",
       "      <td>3597</td>\n",
       "      <td>26</td>\n",
       "      <td>2013</td>\n",
       "      <td>1</td>\n",
       "      <td>1</td>\n",
       "      <td>4</td>\n",
       "      <td>4</td>\n",
       "      <td>4</td>\n",
       "    </tr>\n",
       "    <tr>\n",
       "      <th>4</th>\n",
       "      <td>2013-01-05</td>\n",
       "      <td>1</td>\n",
       "      <td>12346</td>\n",
       "      <td>225</td>\n",
       "      <td>259</td>\n",
       "      <td>28</td>\n",
       "      <td>31</td>\n",
       "      <td>2.10</td>\n",
       "      <td>7511</td>\n",
       "      <td>41</td>\n",
       "      <td>...</td>\n",
       "      <td>481</td>\n",
       "      <td>8</td>\n",
       "      <td>1923</td>\n",
       "      <td>18</td>\n",
       "      <td>2013</td>\n",
       "      <td>1</td>\n",
       "      <td>1</td>\n",
       "      <td>5</td>\n",
       "      <td>5</td>\n",
       "      <td>5</td>\n",
       "    </tr>\n",
       "  </tbody>\n",
       "</table>\n",
       "<p>5 rows × 23 columns</p>\n",
       "</div>"
      ],
      "text/plain": [
       "   Day.Index  Campaign  Impressions  Target.Clicks  Obt.Click  Min.CPC  \\\n",
       "0 2013-01-01         1        13930            225        200       28   \n",
       "1 2013-01-02         1        11177            225        288       28   \n",
       "2 2013-01-03         1        12968            225        211       28   \n",
       "3 2013-01-04         1        13850            225        238       28   \n",
       "4 2013-01-05         1        12346            225        259       28   \n",
       "\n",
       "   Max.CPC   CTR  Amount.Spend  Returning.Users     ...       Avg.Time.Page  \\\n",
       "0       31  1.44          6200               36     ...                 571   \n",
       "1       31  2.58          8352               27     ...                 447   \n",
       "2       31  1.63          5908               31     ...                 322   \n",
       "3       31  1.72          6664               38     ...                 534   \n",
       "4       31  2.10          7511               41     ...                 481   \n",
       "\n",
       "   Avg.Position  Total.Revenue  Obtained.Leads  Year  Month  Week  \\\n",
       "0             5           2401              20  2013      1     1   \n",
       "1             3           4033              18  2013      1     1   \n",
       "2             1           4637              13  2013      1     1   \n",
       "3             2           3597              26  2013      1     1   \n",
       "4             8           1923              18  2013      1     1   \n",
       "\n",
       "   Day_Of_Week  Day  Day_Of_Year  \n",
       "0            1    1            1  \n",
       "1            2    2            2  \n",
       "2            3    3            3  \n",
       "3            4    4            4  \n",
       "4            5    5            5  \n",
       "\n",
       "[5 rows x 23 columns]"
      ]
     },
     "execution_count": 4,
     "metadata": {},
     "output_type": "execute_result"
    }
   ],
   "source": [
    "train.head()"
   ]
  },
  {
   "cell_type": "code",
   "execution_count": 5,
   "metadata": {
    "collapsed": false
   },
   "outputs": [
    {
     "data": {
      "text/plain": [
       "Index(['Day.Index', 'Campaign', 'Impressions', 'Target.Clicks', 'Obt.Click',\n",
       "       'Min.CPC', 'Max.CPC', 'CTR', 'Amount.Spend', 'Returning.Users',\n",
       "       'Targeted.Leads', 'SpecialDay', 'Avg. Bounce.Rate', 'Avg.Time.Page',\n",
       "       'Avg.Position', 'Total.Revenue', 'Obtained.Leads', 'Year', 'Month',\n",
       "       'Week', 'Day_Of_Week', 'Day', 'Day_Of_Year'],\n",
       "      dtype='object')"
      ]
     },
     "execution_count": 5,
     "metadata": {},
     "output_type": "execute_result"
    }
   ],
   "source": [
    "train.columns"
   ]
  },
  {
   "cell_type": "code",
   "execution_count": null,
   "metadata": {
    "collapsed": true
   },
   "outputs": [],
   "source": []
  },
  {
   "cell_type": "code",
   "execution_count": 6,
   "metadata": {
    "collapsed": true
   },
   "outputs": [],
   "source": [
    "def function1(X):\n",
    "    return int(round(X[\"Amount.Spend\"]/X[\"Obt.Click\"]))"
   ]
  },
  {
   "cell_type": "code",
   "execution_count": 7,
   "metadata": {
    "collapsed": true
   },
   "outputs": [],
   "source": [
    "# data[\"CPC\"]=data.apply(function1,axis=1)\n",
    "# train[\"CPC\"]=train.apply(function1,axis=1)\n",
    "# test[\"CPC\"]=test.apply(function1,axis=1)"
   ]
  },
  {
   "cell_type": "code",
   "execution_count": null,
   "metadata": {
    "collapsed": true
   },
   "outputs": [],
   "source": []
  },
  {
   "cell_type": "code",
   "execution_count": null,
   "metadata": {
    "collapsed": true
   },
   "outputs": [],
   "source": []
  },
  {
   "cell_type": "code",
   "execution_count": 8,
   "metadata": {
    "collapsed": true
   },
   "outputs": [],
   "source": [
    "def prepare_data(df, is_train):\n",
    "    df_month = pd.get_dummies(df['Month'], prefix='month')\n",
    "    df = pd.concat([df, df_month], axis=1)\n",
    "    \n",
    "    df_campaign = pd.get_dummies(df['Campaign'], prefix='campaign')\n",
    "    df = pd.concat([df, df_campaign], axis=1)\n",
    "    \n",
    "#     df_cpc = pd.get_dummies(df['CPC'], prefix='cpc')\n",
    "#     df = pd.concat([df, df_cpc], axis=1)\n",
    "    \n",
    "#     df_min_Ctc = pd.get_dummies(df['Min.CPC'], prefix='min.CPC')\n",
    "#     df = pd.concat([df, df_min_Ctc], axis=1)\n",
    "    \n",
    "#     df_target_clicks = pd.get_dummies(df['Target.Clicks'], prefix='clicks')\n",
    "#     df = pd.concat([df, df_target_clicks], axis=1)\n",
    "    \n",
    "        \n",
    "\n",
    "    \n",
    "\n",
    "    if is_train:\n",
    "        return df.drop(['Obtained.Leads','Day.Index',\"Campaign\",\"Target.Clicks\"], axis=1), df['Obtained.Leads']\n",
    "    return df.drop(['Day.Index',\"Campaign\",\"Target.Clicks\"], axis=1)"
   ]
  },
  {
   "cell_type": "code",
   "execution_count": 9,
   "metadata": {
    "collapsed": false
   },
   "outputs": [],
   "source": [
    "train_features, train_target = prepare_data(train, 1)"
   ]
  },
  {
   "cell_type": "code",
   "execution_count": 10,
   "metadata": {
    "collapsed": true
   },
   "outputs": [],
   "source": [
    "test_features = prepare_data(test, 0)"
   ]
  },
  {
   "cell_type": "code",
   "execution_count": 11,
   "metadata": {
    "collapsed": false
   },
   "outputs": [
    {
     "data": {
      "text/plain": [
       "Index(['Impressions', 'Obt.Click', 'Min.CPC', 'Max.CPC', 'CTR', 'Amount.Spend',\n",
       "       'Returning.Users', 'Targeted.Leads', 'SpecialDay', 'Avg. Bounce.Rate',\n",
       "       'Avg.Time.Page', 'Avg.Position', 'Total.Revenue', 'Year', 'Month',\n",
       "       'Week', 'Day_Of_Week', 'Day', 'Day_Of_Year', 'month_1', 'month_2',\n",
       "       'month_3', 'month_4', 'month_5', 'month_6', 'month_7', 'month_8',\n",
       "       'month_9', 'month_10', 'month_11', 'month_12', 'campaign_1',\n",
       "       'campaign_2', 'campaign_3', 'campaign_4', 'campaign_5'],\n",
       "      dtype='object')"
      ]
     },
     "execution_count": 11,
     "metadata": {},
     "output_type": "execute_result"
    }
   ],
   "source": [
    "train_features.columns"
   ]
  },
  {
   "cell_type": "code",
   "execution_count": 12,
   "metadata": {
    "collapsed": false
   },
   "outputs": [
    {
     "data": {
      "text/html": [
       "<div>\n",
       "<table border=\"1\" class=\"dataframe\">\n",
       "  <thead>\n",
       "    <tr style=\"text-align: right;\">\n",
       "      <th></th>\n",
       "      <th>Impressions</th>\n",
       "      <th>Obt.Click</th>\n",
       "      <th>Min.CPC</th>\n",
       "      <th>Max.CPC</th>\n",
       "      <th>CTR</th>\n",
       "      <th>Amount.Spend</th>\n",
       "      <th>Returning.Users</th>\n",
       "      <th>Targeted.Leads</th>\n",
       "      <th>SpecialDay</th>\n",
       "      <th>Avg. Bounce.Rate</th>\n",
       "      <th>...</th>\n",
       "      <th>month_8</th>\n",
       "      <th>month_9</th>\n",
       "      <th>month_10</th>\n",
       "      <th>month_11</th>\n",
       "      <th>month_12</th>\n",
       "      <th>campaign_1</th>\n",
       "      <th>campaign_2</th>\n",
       "      <th>campaign_3</th>\n",
       "      <th>campaign_4</th>\n",
       "      <th>campaign_5</th>\n",
       "    </tr>\n",
       "  </thead>\n",
       "  <tbody>\n",
       "    <tr>\n",
       "      <th>0</th>\n",
       "      <td>13930</td>\n",
       "      <td>200</td>\n",
       "      <td>28</td>\n",
       "      <td>31</td>\n",
       "      <td>1.44</td>\n",
       "      <td>6200</td>\n",
       "      <td>36</td>\n",
       "      <td>15</td>\n",
       "      <td>1</td>\n",
       "      <td>70.81</td>\n",
       "      <td>...</td>\n",
       "      <td>0.0</td>\n",
       "      <td>0.0</td>\n",
       "      <td>0.0</td>\n",
       "      <td>0.0</td>\n",
       "      <td>0.0</td>\n",
       "      <td>1.0</td>\n",
       "      <td>0.0</td>\n",
       "      <td>0.0</td>\n",
       "      <td>0.0</td>\n",
       "      <td>0.0</td>\n",
       "    </tr>\n",
       "    <tr>\n",
       "      <th>1</th>\n",
       "      <td>11177</td>\n",
       "      <td>288</td>\n",
       "      <td>28</td>\n",
       "      <td>31</td>\n",
       "      <td>2.58</td>\n",
       "      <td>8352</td>\n",
       "      <td>27</td>\n",
       "      <td>20</td>\n",
       "      <td>0</td>\n",
       "      <td>32.38</td>\n",
       "      <td>...</td>\n",
       "      <td>0.0</td>\n",
       "      <td>0.0</td>\n",
       "      <td>0.0</td>\n",
       "      <td>0.0</td>\n",
       "      <td>0.0</td>\n",
       "      <td>1.0</td>\n",
       "      <td>0.0</td>\n",
       "      <td>0.0</td>\n",
       "      <td>0.0</td>\n",
       "      <td>0.0</td>\n",
       "    </tr>\n",
       "    <tr>\n",
       "      <th>2</th>\n",
       "      <td>12968</td>\n",
       "      <td>211</td>\n",
       "      <td>28</td>\n",
       "      <td>31</td>\n",
       "      <td>1.63</td>\n",
       "      <td>5908</td>\n",
       "      <td>31</td>\n",
       "      <td>14</td>\n",
       "      <td>0</td>\n",
       "      <td>99.01</td>\n",
       "      <td>...</td>\n",
       "      <td>0.0</td>\n",
       "      <td>0.0</td>\n",
       "      <td>0.0</td>\n",
       "      <td>0.0</td>\n",
       "      <td>0.0</td>\n",
       "      <td>1.0</td>\n",
       "      <td>0.0</td>\n",
       "      <td>0.0</td>\n",
       "      <td>0.0</td>\n",
       "      <td>0.0</td>\n",
       "    </tr>\n",
       "    <tr>\n",
       "      <th>3</th>\n",
       "      <td>13850</td>\n",
       "      <td>238</td>\n",
       "      <td>28</td>\n",
       "      <td>31</td>\n",
       "      <td>1.72</td>\n",
       "      <td>6664</td>\n",
       "      <td>38</td>\n",
       "      <td>16</td>\n",
       "      <td>0</td>\n",
       "      <td>43.60</td>\n",
       "      <td>...</td>\n",
       "      <td>0.0</td>\n",
       "      <td>0.0</td>\n",
       "      <td>0.0</td>\n",
       "      <td>0.0</td>\n",
       "      <td>0.0</td>\n",
       "      <td>1.0</td>\n",
       "      <td>0.0</td>\n",
       "      <td>0.0</td>\n",
       "      <td>0.0</td>\n",
       "      <td>0.0</td>\n",
       "    </tr>\n",
       "    <tr>\n",
       "      <th>4</th>\n",
       "      <td>12346</td>\n",
       "      <td>259</td>\n",
       "      <td>28</td>\n",
       "      <td>31</td>\n",
       "      <td>2.10</td>\n",
       "      <td>7511</td>\n",
       "      <td>41</td>\n",
       "      <td>18</td>\n",
       "      <td>0</td>\n",
       "      <td>23.24</td>\n",
       "      <td>...</td>\n",
       "      <td>0.0</td>\n",
       "      <td>0.0</td>\n",
       "      <td>0.0</td>\n",
       "      <td>0.0</td>\n",
       "      <td>0.0</td>\n",
       "      <td>1.0</td>\n",
       "      <td>0.0</td>\n",
       "      <td>0.0</td>\n",
       "      <td>0.0</td>\n",
       "      <td>0.0</td>\n",
       "    </tr>\n",
       "  </tbody>\n",
       "</table>\n",
       "<p>5 rows × 36 columns</p>\n",
       "</div>"
      ],
      "text/plain": [
       "   Impressions  Obt.Click  Min.CPC  Max.CPC   CTR  Amount.Spend  \\\n",
       "0        13930        200       28       31  1.44          6200   \n",
       "1        11177        288       28       31  2.58          8352   \n",
       "2        12968        211       28       31  1.63          5908   \n",
       "3        13850        238       28       31  1.72          6664   \n",
       "4        12346        259       28       31  2.10          7511   \n",
       "\n",
       "   Returning.Users  Targeted.Leads  SpecialDay  Avg. Bounce.Rate     ...      \\\n",
       "0               36              15           1             70.81     ...       \n",
       "1               27              20           0             32.38     ...       \n",
       "2               31              14           0             99.01     ...       \n",
       "3               38              16           0             43.60     ...       \n",
       "4               41              18           0             23.24     ...       \n",
       "\n",
       "   month_8  month_9  month_10  month_11  month_12  campaign_1  campaign_2  \\\n",
       "0      0.0      0.0       0.0       0.0       0.0         1.0         0.0   \n",
       "1      0.0      0.0       0.0       0.0       0.0         1.0         0.0   \n",
       "2      0.0      0.0       0.0       0.0       0.0         1.0         0.0   \n",
       "3      0.0      0.0       0.0       0.0       0.0         1.0         0.0   \n",
       "4      0.0      0.0       0.0       0.0       0.0         1.0         0.0   \n",
       "\n",
       "   campaign_3  campaign_4  campaign_5  \n",
       "0         0.0         0.0         0.0  \n",
       "1         0.0         0.0         0.0  \n",
       "2         0.0         0.0         0.0  \n",
       "3         0.0         0.0         0.0  \n",
       "4         0.0         0.0         0.0  \n",
       "\n",
       "[5 rows x 36 columns]"
      ]
     },
     "execution_count": 12,
     "metadata": {},
     "output_type": "execute_result"
    }
   ],
   "source": [
    "train_features.head()"
   ]
  },
  {
   "cell_type": "code",
   "execution_count": 13,
   "metadata": {
    "collapsed": false
   },
   "outputs": [
    {
     "data": {
      "text/plain": [
       "0    20\n",
       "1    18\n",
       "2    13\n",
       "3    26\n",
       "4    18\n",
       "Name: Obtained.Leads, dtype: int64"
      ]
     },
     "execution_count": 13,
     "metadata": {},
     "output_type": "execute_result"
    }
   ],
   "source": [
    "train_target.head()"
   ]
  },
  {
   "cell_type": "code",
   "execution_count": null,
   "metadata": {
    "collapsed": true
   },
   "outputs": [],
   "source": []
  },
  {
   "cell_type": "code",
   "execution_count": 43,
   "metadata": {
    "collapsed": false
   },
   "outputs": [],
   "source": [
    "from sklearn.ensemble import RandomForestRegressor\n",
    "from sklearn.grid_search import GridSearchCV\n",
    "\n",
    "# Imports for model\n",
    "from sklearn.metrics import mean_squared_error\n",
    "from xgboost.sklearn import XGBRegressor\n",
    "from sklearn.linear_model import LinearRegression"
   ]
  },
  {
   "cell_type": "code",
   "execution_count": 45,
   "metadata": {
    "collapsed": false
   },
   "outputs": [
    {
     "data": {
      "text/plain": [
       "LinearRegression(copy_X=True, fit_intercept=True, n_jobs=1, normalize=False)"
      ]
     },
     "execution_count": 45,
     "metadata": {},
     "output_type": "execute_result"
    }
   ],
   "source": [
    "#Lr = GridSearchCV(LinearRegression(),cv=5, scoring='mean_squared_error')\n",
    "Lr=LinearRegression()\n",
    "Lr.fit(train_features, train_target)"
   ]
  },
  {
   "cell_type": "code",
   "execution_count": 36,
   "metadata": {
    "collapsed": true
   },
   "outputs": [],
   "source": [
    "#"
   ]
  },
  {
   "cell_type": "code",
   "execution_count": 46,
   "metadata": {
    "collapsed": true
   },
   "outputs": [],
   "source": [
    "predictTrain=Lr.predict(train_features)"
   ]
  },
  {
   "cell_type": "code",
   "execution_count": 47,
   "metadata": {
    "collapsed": false
   },
   "outputs": [
    {
     "data": {
      "text/plain": [
       "[<matplotlib.lines.Line2D at 0x23546952be0>]"
      ]
     },
     "execution_count": 47,
     "metadata": {},
     "output_type": "execute_result"
    },
    {
     "data": {
      "image/png": "[encoded data removed]",
      "text/plain": [
       "<matplotlib.figure.Figure at 0x23546929438>"
      ]
     },
     "metadata": {},
     "output_type": "display_data"
    }
   ],
   "source": [
    "rcParams['figure.figsize'] = (14, 6)\n",
    "plt.plot(train_features.index, (predictTrain-train_target)**2)"
   ]
  },
  {
   "cell_type": "code",
   "execution_count": null,
   "metadata": {
    "collapsed": true
   },
   "outputs": [],
   "source": []
  },
  {
   "cell_type": "code",
   "execution_count": null,
   "metadata": {
    "collapsed": true
   },
   "outputs": [],
   "source": []
  },
  {
   "cell_type": "code",
   "execution_count": null,
   "metadata": {
    "collapsed": true
   },
   "outputs": [],
   "source": [
    "#"
   ]
  },
  {
   "cell_type": "code",
   "execution_count": 51,
   "metadata": {
    "collapsed": false
   },
   "outputs": [],
   "source": [
    "predicted = Lr.predict(test_features)"
   ]
  },
  {
   "cell_type": "code",
   "execution_count": 52,
   "metadata": {
    "collapsed": false
   },
   "outputs": [
    {
     "data": {
      "text/plain": [
       "array([ 18.41501484,  11.9781827 ,   9.00267996,  10.00505151,   7.30102859])"
      ]
     },
     "execution_count": 52,
     "metadata": {},
     "output_type": "execute_result"
    }
   ],
   "source": [
    "predicted[0:5]"
   ]
  },
  {
   "cell_type": "code",
   "execution_count": 53,
   "metadata": {
    "collapsed": false
   },
   "outputs": [
    {
     "data": {
      "text/plain": [
       "array([18, 12,  9, 10,  7])"
      ]
     },
     "execution_count": 53,
     "metadata": {},
     "output_type": "execute_result"
    }
   ],
   "source": [
    "predicted = np.round(predicted, decimals=0).astype(int)\n",
    "predicted[0:5]"
   ]
  },
  {
   "cell_type": "code",
   "execution_count": null,
   "metadata": {
    "collapsed": true
   },
   "outputs": [],
   "source": []
  },
  {
   "cell_type": "code",
   "execution_count": 54,
   "metadata": {
    "collapsed": false
   },
   "outputs": [],
   "source": [
    "solution = pd.DataFrame(ss['Day.Index'])"
   ]
  },
  {
   "cell_type": "code",
   "execution_count": 55,
   "metadata": {
    "collapsed": true
   },
   "outputs": [],
   "source": [
    "solution = pd.concat([solution, pd.DataFrame(predicted, columns=['Obtained.Leads'])], axis=1)"
   ]
  },
  {
   "cell_type": "code",
   "execution_count": 89,
   "metadata": {
    "collapsed": false
   },
   "outputs": [
    {
     "data": {
      "text/html": [
       "<div>\n",
       "<table border=\"1\" class=\"dataframe\">\n",
       "  <thead>\n",
       "    <tr style=\"text-align: right;\">\n",
       "      <th></th>\n",
       "      <th>Day.Index</th>\n",
       "      <th>Obtained.Leads</th>\n",
       "    </tr>\n",
       "  </thead>\n",
       "  <tbody>\n",
       "    <tr>\n",
       "      <th>0</th>\n",
       "      <td>01-04-2015</td>\n",
       "      <td>17.0</td>\n",
       "    </tr>\n",
       "    <tr>\n",
       "      <th>1</th>\n",
       "      <td>02-04-2015</td>\n",
       "      <td>13.0</td>\n",
       "    </tr>\n",
       "    <tr>\n",
       "      <th>2</th>\n",
       "      <td>03-04-2015</td>\n",
       "      <td>8.0</td>\n",
       "    </tr>\n",
       "    <tr>\n",
       "      <th>3</th>\n",
       "      <td>04-04-2015</td>\n",
       "      <td>9.0</td>\n",
       "    </tr>\n",
       "    <tr>\n",
       "      <th>4</th>\n",
       "      <td>05-04-2015</td>\n",
       "      <td>7.0</td>\n",
       "    </tr>\n",
       "  </tbody>\n",
       "</table>\n",
       "</div>"
      ],
      "text/plain": [
       "    Day.Index  Obtained.Leads\n",
       "0  01-04-2015            17.0\n",
       "1  02-04-2015            13.0\n",
       "2  03-04-2015             8.0\n",
       "3  04-04-2015             9.0\n",
       "4  05-04-2015             7.0"
      ]
     },
     "execution_count": 89,
     "metadata": {},
     "output_type": "execute_result"
    }
   ],
   "source": [
    "solution.head()"
   ]
  },
  {
   "cell_type": "code",
   "execution_count": 57,
   "metadata": {
    "collapsed": false
   },
   "outputs": [],
   "source": [
    "path='C:\\\\Users\\\\HARSH\\\\Desktop\\\\Data_Tales\\\\Submit\\\\'\n",
    "solution.to_csv(path+r'Linear.csv', index=False)"
   ]
  },
  {
   "cell_type": "code",
   "execution_count": null,
   "metadata": {
    "collapsed": true
   },
   "outputs": [],
   "source": []
  },
  {
   "cell_type": "code",
   "execution_count": 59,
   "metadata": {
    "collapsed": true
   },
   "outputs": [],
   "source": [
    "#Ensembling"
   ]
  },
  {
   "cell_type": "code",
   "execution_count": 60,
   "metadata": {
    "collapsed": true
   },
   "outputs": [],
   "source": [
    "xgb = pd.read_csv(path+'solution1.csv')"
   ]
  },
  {
   "cell_type": "code",
   "execution_count": 61,
   "metadata": {
    "collapsed": false
   },
   "outputs": [
    {
     "data": {
      "text/html": [
       "<div>\n",
       "<table border=\"1\" class=\"dataframe\">\n",
       "  <thead>\n",
       "    <tr style=\"text-align: right;\">\n",
       "      <th></th>\n",
       "      <th>Day.Index</th>\n",
       "      <th>Obtained.Leads</th>\n",
       "    </tr>\n",
       "  </thead>\n",
       "  <tbody>\n",
       "    <tr>\n",
       "      <th>0</th>\n",
       "      <td>01-04-2015</td>\n",
       "      <td>17</td>\n",
       "    </tr>\n",
       "    <tr>\n",
       "      <th>1</th>\n",
       "      <td>02-04-2015</td>\n",
       "      <td>13</td>\n",
       "    </tr>\n",
       "    <tr>\n",
       "      <th>2</th>\n",
       "      <td>03-04-2015</td>\n",
       "      <td>8</td>\n",
       "    </tr>\n",
       "    <tr>\n",
       "      <th>3</th>\n",
       "      <td>04-04-2015</td>\n",
       "      <td>9</td>\n",
       "    </tr>\n",
       "    <tr>\n",
       "      <th>4</th>\n",
       "      <td>05-04-2015</td>\n",
       "      <td>7</td>\n",
       "    </tr>\n",
       "  </tbody>\n",
       "</table>\n",
       "</div>"
      ],
      "text/plain": [
       "    Day.Index  Obtained.Leads\n",
       "0  01-04-2015              17\n",
       "1  02-04-2015              13\n",
       "2  03-04-2015               8\n",
       "3  04-04-2015               9\n",
       "4  05-04-2015               7"
      ]
     },
     "execution_count": 61,
     "metadata": {},
     "output_type": "execute_result"
    }
   ],
   "source": [
    "xgb.head()"
   ]
  },
  {
   "cell_type": "code",
   "execution_count": 67,
   "metadata": {
    "collapsed": true
   },
   "outputs": [],
   "source": [
    "solution[\"XGB.\"]=xgb[\"Obtained.Leads\"]"
   ]
  },
  {
   "cell_type": "code",
   "execution_count": 73,
   "metadata": {
    "collapsed": false
   },
   "outputs": [],
   "source": [
    "def func(X):\n",
    "    return (.2*X[\"Obtained.Leads\"]+.8*X[\"XGB.\"])\n",
    "solution[\"A\"]=solution.apply(func,axis=1)"
   ]
  },
  {
   "cell_type": "code",
   "execution_count": 82,
   "metadata": {
    "collapsed": false
   },
   "outputs": [
    {
     "data": {
      "text/html": [
       "<div>\n",
       "<table border=\"1\" class=\"dataframe\">\n",
       "  <thead>\n",
       "    <tr style=\"text-align: right;\">\n",
       "      <th></th>\n",
       "      <th>Day.Index</th>\n",
       "      <th>Obtained.Leads</th>\n",
       "    </tr>\n",
       "  </thead>\n",
       "  <tbody>\n",
       "    <tr>\n",
       "      <th>0</th>\n",
       "      <td>01-04-2015</td>\n",
       "      <td>17.2</td>\n",
       "    </tr>\n",
       "    <tr>\n",
       "      <th>1</th>\n",
       "      <td>02-04-2015</td>\n",
       "      <td>12.8</td>\n",
       "    </tr>\n",
       "    <tr>\n",
       "      <th>2</th>\n",
       "      <td>03-04-2015</td>\n",
       "      <td>8.2</td>\n",
       "    </tr>\n",
       "    <tr>\n",
       "      <th>3</th>\n",
       "      <td>04-04-2015</td>\n",
       "      <td>9.2</td>\n",
       "    </tr>\n",
       "    <tr>\n",
       "      <th>4</th>\n",
       "      <td>05-04-2015</td>\n",
       "      <td>7.0</td>\n",
       "    </tr>\n",
       "  </tbody>\n",
       "</table>\n",
       "</div>"
      ],
      "text/plain": [
       "    Day.Index  Obtained.Leads\n",
       "0  01-04-2015            17.2\n",
       "1  02-04-2015            12.8\n",
       "2  03-04-2015             8.2\n",
       "3  04-04-2015             9.2\n",
       "4  05-04-2015             7.0"
      ]
     },
     "execution_count": 82,
     "metadata": {},
     "output_type": "execute_result"
    }
   ],
   "source": [
    "solution.head()"
   ]
  },
  {
   "cell_type": "code",
   "execution_count": 81,
   "metadata": {
    "collapsed": true
   },
   "outputs": [],
   "source": [
    "del solution[\"A\"]"
   ]
  },
  {
   "cell_type": "code",
   "execution_count": 79,
   "metadata": {
    "collapsed": true
   },
   "outputs": [],
   "source": [
    "solution[\"Obtained.Leads\"]=solution[\"A\"]"
   ]
  },
  {
   "cell_type": "code",
   "execution_count": 86,
   "metadata": {
    "collapsed": false
   },
   "outputs": [],
   "source": [
    "solution[\"Obtained.Leads\"]=np.round(solution[\"Obtained.Leads\"])"
   ]
  },
  {
   "cell_type": "code",
   "execution_count": 87,
   "metadata": {
    "collapsed": false
   },
   "outputs": [
    {
     "data": {
      "text/html": [
       "<div>\n",
       "<table border=\"1\" class=\"dataframe\">\n",
       "  <thead>\n",
       "    <tr style=\"text-align: right;\">\n",
       "      <th></th>\n",
       "      <th>Day.Index</th>\n",
       "      <th>Obtained.Leads</th>\n",
       "    </tr>\n",
       "  </thead>\n",
       "  <tbody>\n",
       "    <tr>\n",
       "      <th>0</th>\n",
       "      <td>01-04-2015</td>\n",
       "      <td>17.0</td>\n",
       "    </tr>\n",
       "    <tr>\n",
       "      <th>1</th>\n",
       "      <td>02-04-2015</td>\n",
       "      <td>13.0</td>\n",
       "    </tr>\n",
       "    <tr>\n",
       "      <th>2</th>\n",
       "      <td>03-04-2015</td>\n",
       "      <td>8.0</td>\n",
       "    </tr>\n",
       "    <tr>\n",
       "      <th>3</th>\n",
       "      <td>04-04-2015</td>\n",
       "      <td>9.0</td>\n",
       "    </tr>\n",
       "    <tr>\n",
       "      <th>4</th>\n",
       "      <td>05-04-2015</td>\n",
       "      <td>7.0</td>\n",
       "    </tr>\n",
       "  </tbody>\n",
       "</table>\n",
       "</div>"
      ],
      "text/plain": [
       "    Day.Index  Obtained.Leads\n",
       "0  01-04-2015            17.0\n",
       "1  02-04-2015            13.0\n",
       "2  03-04-2015             8.0\n",
       "3  04-04-2015             9.0\n",
       "4  05-04-2015             7.0"
      ]
     },
     "execution_count": 87,
     "metadata": {},
     "output_type": "execute_result"
    }
   ],
   "source": [
    "solution.head()"
   ]
  },
  {
   "cell_type": "code",
   "execution_count": 88,
   "metadata": {
    "collapsed": true
   },
   "outputs": [],
   "source": [
    "path='C:\\\\Users\\\\HARSH\\\\Desktop\\\\Data_Tales\\\\Submit\\\\'\n",
    "solution.to_csv(path+r'Ensembling.csv', index=False)"
   ]
  },
  {
   "cell_type": "code",
   "execution_count": null,
   "metadata": {
    "collapsed": true
   },
   "outputs": [],
   "source": []
  },
  {
   "cell_type": "code",
   "execution_count": null,
   "metadata": {
    "collapsed": true
   },
   "outputs": [],
   "source": []
  },
  {
   "cell_type": "code",
   "execution_count": null,
   "metadata": {
    "collapsed": true
   },
   "outputs": [],
   "source": []
  },
  {
   "cell_type": "code",
   "execution_count": 58,
   "metadata": {
    "collapsed": true
   },
   "outputs": [],
   "source": [
    "#no"
   ]
  }
 ],
 "metadata": {
  "anaconda-cloud": {},
  "kernelspec": {
   "display_name": "Python [default]",
   "language": "python",
   "name": "python3"
  },
  "language_info": {
   "codemirror_mode": {
    "name": "ipython",
    "version": 3
   },
   "file_extension": ".py",
   "mimetype": "text/x-python",
   "name": "python",
   "nbconvert_exporter": "python",
   "pygments_lexer": "ipython3",
   "version": "3.5.2"
  }
 },
 "nbformat": 4,
 "nbformat_minor": 1
}
